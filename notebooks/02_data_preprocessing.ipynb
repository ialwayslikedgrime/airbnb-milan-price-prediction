{
 "cells": [
  {
   "cell_type": "markdown",
   "metadata": {},
   "source": [
    "# **02 DATA CLEANING AND PREPROCESSING**"
   ]
  },
  {
   "cell_type": "markdown",
   "metadata": {},
   "source": [
    "the objective of this notebook is to explore the data we have uploaded and to preprocess data before delving into our goal: predicting prices.\n",
    "\n",
    "\n",
    "\n"
   ]
  },
  {
   "cell_type": "markdown",
   "metadata": {},
   "source": [
    "## Goal fo the project: predicting PRICE\n",
    "\n",
    "Before delving into handling missing values and feature engineering, we need to first define our analytical objectives and determine our target variables. This clarity will guide our feature selection process, allowing us to retain only the relevant columns and eliminate unnecessary ones.\n",
    "\n",
    "Our primary objective is to develop a pricing model for Airbnb listings.\n"
   ]
  },
  {
   "cell_type": "markdown",
   "metadata": {},
   "source": [
    "## Importing the libraries and Data"
   ]
  },
  {
   "cell_type": "markdown",
   "metadata": {},
   "source": [
    "First, we import the necessary libraries and load our data of interest—the listings extended dataset—for our analysis.\n",
    "I chose to use Pathlib over Os, since Pathlib treats paths as objects, making it easier to chain methods compared to os.path."
   ]
  },
  {
   "cell_type": "code",
   "execution_count": 1,
   "metadata": {},
   "outputs": [],
   "source": [
    "from pathlib import Path\n",
    "import pandas as pd\n",
    "import numpy as np\n",
    "import matplotlib.pyplot as plt\n",
    "import seaborn as sns\n",
    "import missingno as msno\n",
    "from scipy.stats import skew, kurtosis\n",
    "import geopandas as gpd\n",
    "from shapely.geometry import Point\n",
    "import sys\n",
    "\n",
    "# Project root & data paths\n",
    "project_root = Path().resolve().parent\n",
    "src_path = project_root / \"src\"\n",
    "sys.path.append(str(src_path))\n",
    "\n",
    "from data.preprocessing import *\n",
    "from data._02_feature_engineering import (\n",
    "    categorize_reviews,\n",
    "    convert_and_calculate_days,\n",
    "    create_first_review_age_categories,\n",
    "    create_last_review_recency_categories,\n",
    "    convert_to_ordered_category,\n",
    "    convert_columns_to_boolean,\n",
    ")\n",
    "from data._02b_dictionary_mapping import host_location_dict\n",
    "from data._02c_dictionary_mapping import LOCATION_HIERARCHY\n",
    "from data._02d_property_type_mapping import property_type_dict \n",
    "from data._03_represent_categorical_data import plot_categorical_distribution\n",
    "from data._04_represent_numerical_data import plot_percentage_distribution\n"
   ]
  },
  {
   "cell_type": "code",
   "execution_count": 2,
   "metadata": {},
   "outputs": [],
   "source": [
    "# Set up project paths\n",
    "project_root = Path().resolve().parent\n"
   ]
  },
  {
   "cell_type": "code",
   "execution_count": 3,
   "metadata": {},
   "outputs": [],
   "source": [
    "listings_extended_path = project_root / \"data\" / \"raw\" / \"listings_extended.csv\""
   ]
  },
  {
   "cell_type": "code",
   "execution_count": 4,
   "metadata": {},
   "outputs": [],
   "source": [
    "\n",
    "\n",
    "# Load the data\n",
    "df_raw_listings_extended = pd.read_csv(listings_extended_path)\n",
    "df_raw = df_raw_listings_extended.copy()  # Work on a copy to keep the original data intact\n"
   ]
  },
  {
   "cell_type": "markdown",
   "metadata": {},
   "source": [
    "as a first thinkg, we check the structure and firs row to gather a general idea of our data."
   ]
  },
  {
   "cell_type": "code",
   "execution_count": 5,
   "metadata": {},
   "outputs": [
    {
     "name": "stdout",
     "output_type": "stream",
     "text": [
      "The dataset contains 23705 Airbnb listings\n"
     ]
    },
    {
     "data": {
      "text/html": [
       "<div>\n",
       "<style scoped>\n",
       "    .dataframe tbody tr th:only-of-type {\n",
       "        vertical-align: middle;\n",
       "    }\n",
       "\n",
       "    .dataframe tbody tr th {\n",
       "        vertical-align: top;\n",
       "    }\n",
       "\n",
       "    .dataframe thead th {\n",
       "        text-align: right;\n",
       "    }\n",
       "</style>\n",
       "<table border=\"1\" class=\"dataframe\">\n",
       "  <thead>\n",
       "    <tr style=\"text-align: right;\">\n",
       "      <th></th>\n",
       "      <th>id</th>\n",
       "      <th>listing_url</th>\n",
       "      <th>scrape_id</th>\n",
       "      <th>last_scraped</th>\n",
       "      <th>source</th>\n",
       "      <th>name</th>\n",
       "      <th>description</th>\n",
       "      <th>neighborhood_overview</th>\n",
       "      <th>picture_url</th>\n",
       "      <th>host_id</th>\n",
       "      <th>host_url</th>\n",
       "      <th>host_name</th>\n",
       "      <th>host_since</th>\n",
       "      <th>host_location</th>\n",
       "      <th>host_about</th>\n",
       "      <th>host_response_time</th>\n",
       "      <th>host_response_rate</th>\n",
       "      <th>host_acceptance_rate</th>\n",
       "      <th>host_is_superhost</th>\n",
       "      <th>host_thumbnail_url</th>\n",
       "      <th>host_picture_url</th>\n",
       "      <th>host_neighbourhood</th>\n",
       "      <th>host_listings_count</th>\n",
       "      <th>host_total_listings_count</th>\n",
       "      <th>host_verifications</th>\n",
       "      <th>host_has_profile_pic</th>\n",
       "      <th>host_identity_verified</th>\n",
       "      <th>neighbourhood</th>\n",
       "      <th>neighbourhood_cleansed</th>\n",
       "      <th>neighbourhood_group_cleansed</th>\n",
       "      <th>latitude</th>\n",
       "      <th>longitude</th>\n",
       "      <th>property_type</th>\n",
       "      <th>room_type</th>\n",
       "      <th>accommodates</th>\n",
       "      <th>bathrooms</th>\n",
       "      <th>bathrooms_text</th>\n",
       "      <th>bedrooms</th>\n",
       "      <th>beds</th>\n",
       "      <th>amenities</th>\n",
       "      <th>price</th>\n",
       "      <th>minimum_nights</th>\n",
       "      <th>maximum_nights</th>\n",
       "      <th>minimum_minimum_nights</th>\n",
       "      <th>maximum_minimum_nights</th>\n",
       "      <th>minimum_maximum_nights</th>\n",
       "      <th>maximum_maximum_nights</th>\n",
       "      <th>minimum_nights_avg_ntm</th>\n",
       "      <th>maximum_nights_avg_ntm</th>\n",
       "      <th>calendar_updated</th>\n",
       "      <th>has_availability</th>\n",
       "      <th>availability_30</th>\n",
       "      <th>availability_60</th>\n",
       "      <th>availability_90</th>\n",
       "      <th>availability_365</th>\n",
       "      <th>calendar_last_scraped</th>\n",
       "      <th>number_of_reviews</th>\n",
       "      <th>number_of_reviews_ltm</th>\n",
       "      <th>number_of_reviews_l30d</th>\n",
       "      <th>first_review</th>\n",
       "      <th>last_review</th>\n",
       "      <th>review_scores_rating</th>\n",
       "      <th>review_scores_accuracy</th>\n",
       "      <th>review_scores_cleanliness</th>\n",
       "      <th>review_scores_checkin</th>\n",
       "      <th>review_scores_communication</th>\n",
       "      <th>review_scores_location</th>\n",
       "      <th>review_scores_value</th>\n",
       "      <th>license</th>\n",
       "      <th>instant_bookable</th>\n",
       "      <th>calculated_host_listings_count</th>\n",
       "      <th>calculated_host_listings_count_entire_homes</th>\n",
       "      <th>calculated_host_listings_count_private_rooms</th>\n",
       "      <th>calculated_host_listings_count_shared_rooms</th>\n",
       "      <th>reviews_per_month</th>\n",
       "    </tr>\n",
       "  </thead>\n",
       "  <tbody>\n",
       "    <tr>\n",
       "      <th>0</th>\n",
       "      <td>6400</td>\n",
       "      <td>https://www.airbnb.com/rooms/6400</td>\n",
       "      <td>20240917031337</td>\n",
       "      <td>2024-09-17</td>\n",
       "      <td>city scrape</td>\n",
       "      <td>The Studio Milan</td>\n",
       "      <td>Enjoy your stay at The Studio, a light-filled ...</td>\n",
       "      <td>The neighborhood is quiet and very well connec...</td>\n",
       "      <td>https://a0.muscache.com/pictures/474737/5955ba...</td>\n",
       "      <td>13822</td>\n",
       "      <td>https://www.airbnb.com/users/show/13822</td>\n",
       "      <td>Francesca</td>\n",
       "      <td>2009-04-17</td>\n",
       "      <td>Milan, Italy</td>\n",
       "      <td>I'm am Francesca Sottilaro, i live in Milan an...</td>\n",
       "      <td>NaN</td>\n",
       "      <td>NaN</td>\n",
       "      <td>0%</td>\n",
       "      <td>f</td>\n",
       "      <td>https://a0.muscache.com/im/users/13822/profile...</td>\n",
       "      <td>https://a0.muscache.com/im/users/13822/profile...</td>\n",
       "      <td>Zona 5</td>\n",
       "      <td>1</td>\n",
       "      <td>2</td>\n",
       "      <td>['email', 'phone']</td>\n",
       "      <td>t</td>\n",
       "      <td>f</td>\n",
       "      <td>Milan, Lombardy, Italy</td>\n",
       "      <td>TIBALDI</td>\n",
       "      <td>NaN</td>\n",
       "      <td>45.44119</td>\n",
       "      <td>9.17813</td>\n",
       "      <td>Private room in rental unit</td>\n",
       "      <td>Private room</td>\n",
       "      <td>1</td>\n",
       "      <td>3.5</td>\n",
       "      <td>3.5 baths</td>\n",
       "      <td>3.0</td>\n",
       "      <td>1.0</td>\n",
       "      <td>[\"First aid kit\", \"Hangers\", \"Wifi\", \"Elevator...</td>\n",
       "      <td>$100.00</td>\n",
       "      <td>4</td>\n",
       "      <td>5</td>\n",
       "      <td>4</td>\n",
       "      <td>4</td>\n",
       "      <td>5</td>\n",
       "      <td>5</td>\n",
       "      <td>4.0</td>\n",
       "      <td>5.0</td>\n",
       "      <td>NaN</td>\n",
       "      <td>t</td>\n",
       "      <td>23</td>\n",
       "      <td>53</td>\n",
       "      <td>83</td>\n",
       "      <td>358</td>\n",
       "      <td>2024-09-17</td>\n",
       "      <td>10</td>\n",
       "      <td>0</td>\n",
       "      <td>0</td>\n",
       "      <td>2010-04-19</td>\n",
       "      <td>2019-04-13</td>\n",
       "      <td>4.89</td>\n",
       "      <td>5.00</td>\n",
       "      <td>5.00</td>\n",
       "      <td>5.00</td>\n",
       "      <td>5.00</td>\n",
       "      <td>4.56</td>\n",
       "      <td>4.67</td>\n",
       "      <td>NaN</td>\n",
       "      <td>f</td>\n",
       "      <td>1</td>\n",
       "      <td>0</td>\n",
       "      <td>1</td>\n",
       "      <td>0</td>\n",
       "      <td>0.06</td>\n",
       "    </tr>\n",
       "    <tr>\n",
       "      <th>1</th>\n",
       "      <td>23986</td>\n",
       "      <td>https://www.airbnb.com/rooms/23986</td>\n",
       "      <td>20240917031337</td>\n",
       "      <td>2024-09-17</td>\n",
       "      <td>city scrape</td>\n",
       "      <td>\" Characteristic Milanese flat\"</td>\n",
       "      <td>I look forward to welcoming you in my flat; it...</td>\n",
       "      <td>NaN</td>\n",
       "      <td>https://a0.muscache.com/pictures/623d63f8-56cf...</td>\n",
       "      <td>95941</td>\n",
       "      <td>https://www.airbnb.com/users/show/95941</td>\n",
       "      <td>Jeremy</td>\n",
       "      <td>2010-03-19</td>\n",
       "      <td>Milan, Italy</td>\n",
       "      <td>Hallo , I'm Jeremy Hayne I live in Milan and I...</td>\n",
       "      <td>within an hour</td>\n",
       "      <td>100%</td>\n",
       "      <td>20%</td>\n",
       "      <td>f</td>\n",
       "      <td>https://a0.muscache.com/im/users/95941/profile...</td>\n",
       "      <td>https://a0.muscache.com/im/users/95941/profile...</td>\n",
       "      <td>Navigli</td>\n",
       "      <td>1</td>\n",
       "      <td>1</td>\n",
       "      <td>['email']</td>\n",
       "      <td>t</td>\n",
       "      <td>t</td>\n",
       "      <td>NaN</td>\n",
       "      <td>NAVIGLI</td>\n",
       "      <td>NaN</td>\n",
       "      <td>45.44806</td>\n",
       "      <td>9.17373</td>\n",
       "      <td>Entire rental unit</td>\n",
       "      <td>Entire home/apt</td>\n",
       "      <td>4</td>\n",
       "      <td>1.0</td>\n",
       "      <td>1 bath</td>\n",
       "      <td>1.0</td>\n",
       "      <td>1.0</td>\n",
       "      <td>[\"Hot water\", \"Hangers\", \"Fast wifi \\u2013 92 ...</td>\n",
       "      <td>$180.00</td>\n",
       "      <td>1</td>\n",
       "      <td>730</td>\n",
       "      <td>1</td>\n",
       "      <td>1</td>\n",
       "      <td>730</td>\n",
       "      <td>730</td>\n",
       "      <td>1.0</td>\n",
       "      <td>730.0</td>\n",
       "      <td>NaN</td>\n",
       "      <td>t</td>\n",
       "      <td>28</td>\n",
       "      <td>57</td>\n",
       "      <td>87</td>\n",
       "      <td>362</td>\n",
       "      <td>2024-09-17</td>\n",
       "      <td>27</td>\n",
       "      <td>1</td>\n",
       "      <td>0</td>\n",
       "      <td>2012-04-24</td>\n",
       "      <td>2024-04-20</td>\n",
       "      <td>4.65</td>\n",
       "      <td>4.67</td>\n",
       "      <td>4.22</td>\n",
       "      <td>4.59</td>\n",
       "      <td>4.74</td>\n",
       "      <td>4.70</td>\n",
       "      <td>4.48</td>\n",
       "      <td>NaN</td>\n",
       "      <td>f</td>\n",
       "      <td>1</td>\n",
       "      <td>1</td>\n",
       "      <td>0</td>\n",
       "      <td>0</td>\n",
       "      <td>0.18</td>\n",
       "    </tr>\n",
       "    <tr>\n",
       "      <th>2</th>\n",
       "      <td>40470</td>\n",
       "      <td>https://www.airbnb.com/rooms/40470</td>\n",
       "      <td>20240917031337</td>\n",
       "      <td>2024-09-17</td>\n",
       "      <td>city scrape</td>\n",
       "      <td>Giacinto Cosy &amp; clean flat near MM1</td>\n",
       "      <td>NaN</td>\n",
       "      <td>NaN</td>\n",
       "      <td>https://a0.muscache.com/pictures/891684/01c17b...</td>\n",
       "      <td>174203</td>\n",
       "      <td>https://www.airbnb.com/users/show/174203</td>\n",
       "      <td>Giacinto</td>\n",
       "      <td>2010-07-20</td>\n",
       "      <td>Milan, Italy</td>\n",
       "      <td>Ciao sono Giacinto, amo i viaggi fatti con la ...</td>\n",
       "      <td>within an hour</td>\n",
       "      <td>100%</td>\n",
       "      <td>38%</td>\n",
       "      <td>f</td>\n",
       "      <td>https://a0.muscache.com/im/users/174203/profil...</td>\n",
       "      <td>https://a0.muscache.com/im/users/174203/profil...</td>\n",
       "      <td>Zona 2</td>\n",
       "      <td>2</td>\n",
       "      <td>2</td>\n",
       "      <td>['email', 'phone']</td>\n",
       "      <td>t</td>\n",
       "      <td>t</td>\n",
       "      <td>NaN</td>\n",
       "      <td>VIALE MONZA</td>\n",
       "      <td>NaN</td>\n",
       "      <td>45.52023</td>\n",
       "      <td>9.22747</td>\n",
       "      <td>Entire rental unit</td>\n",
       "      <td>Entire home/apt</td>\n",
       "      <td>4</td>\n",
       "      <td>1.0</td>\n",
       "      <td>1 bath</td>\n",
       "      <td>2.0</td>\n",
       "      <td>4.0</td>\n",
       "      <td>[\"First aid kit\", \"Hot water\", \"Air conditioni...</td>\n",
       "      <td>$80.00</td>\n",
       "      <td>3</td>\n",
       "      <td>90</td>\n",
       "      <td>3</td>\n",
       "      <td>3</td>\n",
       "      <td>90</td>\n",
       "      <td>90</td>\n",
       "      <td>3.0</td>\n",
       "      <td>90.0</td>\n",
       "      <td>NaN</td>\n",
       "      <td>t</td>\n",
       "      <td>21</td>\n",
       "      <td>21</td>\n",
       "      <td>21</td>\n",
       "      <td>183</td>\n",
       "      <td>2024-09-17</td>\n",
       "      <td>43</td>\n",
       "      <td>2</td>\n",
       "      <td>0</td>\n",
       "      <td>2010-12-20</td>\n",
       "      <td>2024-08-17</td>\n",
       "      <td>4.66</td>\n",
       "      <td>4.71</td>\n",
       "      <td>4.83</td>\n",
       "      <td>4.98</td>\n",
       "      <td>4.88</td>\n",
       "      <td>4.44</td>\n",
       "      <td>4.51</td>\n",
       "      <td>NaN</td>\n",
       "      <td>f</td>\n",
       "      <td>2</td>\n",
       "      <td>2</td>\n",
       "      <td>0</td>\n",
       "      <td>0</td>\n",
       "      <td>0.26</td>\n",
       "    </tr>\n",
       "  </tbody>\n",
       "</table>\n",
       "</div>"
      ],
      "text/plain": [
       "      id                         listing_url       scrape_id last_scraped  \\\n",
       "0   6400   https://www.airbnb.com/rooms/6400  20240917031337   2024-09-17   \n",
       "1  23986  https://www.airbnb.com/rooms/23986  20240917031337   2024-09-17   \n",
       "2  40470  https://www.airbnb.com/rooms/40470  20240917031337   2024-09-17   \n",
       "\n",
       "        source                                 name  \\\n",
       "0  city scrape                     The Studio Milan   \n",
       "1  city scrape      \" Characteristic Milanese flat\"   \n",
       "2  city scrape  Giacinto Cosy & clean flat near MM1   \n",
       "\n",
       "                                         description  \\\n",
       "0  Enjoy your stay at The Studio, a light-filled ...   \n",
       "1  I look forward to welcoming you in my flat; it...   \n",
       "2                                                NaN   \n",
       "\n",
       "                               neighborhood_overview  \\\n",
       "0  The neighborhood is quiet and very well connec...   \n",
       "1                                                NaN   \n",
       "2                                                NaN   \n",
       "\n",
       "                                         picture_url  host_id  \\\n",
       "0  https://a0.muscache.com/pictures/474737/5955ba...    13822   \n",
       "1  https://a0.muscache.com/pictures/623d63f8-56cf...    95941   \n",
       "2  https://a0.muscache.com/pictures/891684/01c17b...   174203   \n",
       "\n",
       "                                   host_url  host_name  host_since  \\\n",
       "0   https://www.airbnb.com/users/show/13822  Francesca  2009-04-17   \n",
       "1   https://www.airbnb.com/users/show/95941     Jeremy  2010-03-19   \n",
       "2  https://www.airbnb.com/users/show/174203   Giacinto  2010-07-20   \n",
       "\n",
       "  host_location                                         host_about  \\\n",
       "0  Milan, Italy  I'm am Francesca Sottilaro, i live in Milan an...   \n",
       "1  Milan, Italy  Hallo , I'm Jeremy Hayne I live in Milan and I...   \n",
       "2  Milan, Italy  Ciao sono Giacinto, amo i viaggi fatti con la ...   \n",
       "\n",
       "  host_response_time host_response_rate host_acceptance_rate  \\\n",
       "0                NaN                NaN                   0%   \n",
       "1     within an hour               100%                  20%   \n",
       "2     within an hour               100%                  38%   \n",
       "\n",
       "  host_is_superhost                                 host_thumbnail_url  \\\n",
       "0                 f  https://a0.muscache.com/im/users/13822/profile...   \n",
       "1                 f  https://a0.muscache.com/im/users/95941/profile...   \n",
       "2                 f  https://a0.muscache.com/im/users/174203/profil...   \n",
       "\n",
       "                                    host_picture_url host_neighbourhood  \\\n",
       "0  https://a0.muscache.com/im/users/13822/profile...             Zona 5   \n",
       "1  https://a0.muscache.com/im/users/95941/profile...            Navigli   \n",
       "2  https://a0.muscache.com/im/users/174203/profil...             Zona 2   \n",
       "\n",
       "   host_listings_count  host_total_listings_count  host_verifications  \\\n",
       "0                    1                          2  ['email', 'phone']   \n",
       "1                    1                          1           ['email']   \n",
       "2                    2                          2  ['email', 'phone']   \n",
       "\n",
       "  host_has_profile_pic host_identity_verified           neighbourhood  \\\n",
       "0                    t                      f  Milan, Lombardy, Italy   \n",
       "1                    t                      t                     NaN   \n",
       "2                    t                      t                     NaN   \n",
       "\n",
       "  neighbourhood_cleansed  neighbourhood_group_cleansed  latitude  longitude  \\\n",
       "0                TIBALDI                           NaN  45.44119    9.17813   \n",
       "1                NAVIGLI                           NaN  45.44806    9.17373   \n",
       "2            VIALE MONZA                           NaN  45.52023    9.22747   \n",
       "\n",
       "                 property_type        room_type  accommodates  bathrooms  \\\n",
       "0  Private room in rental unit     Private room             1        3.5   \n",
       "1           Entire rental unit  Entire home/apt             4        1.0   \n",
       "2           Entire rental unit  Entire home/apt             4        1.0   \n",
       "\n",
       "  bathrooms_text  bedrooms  beds  \\\n",
       "0      3.5 baths       3.0   1.0   \n",
       "1         1 bath       1.0   1.0   \n",
       "2         1 bath       2.0   4.0   \n",
       "\n",
       "                                           amenities    price  minimum_nights  \\\n",
       "0  [\"First aid kit\", \"Hangers\", \"Wifi\", \"Elevator...  $100.00               4   \n",
       "1  [\"Hot water\", \"Hangers\", \"Fast wifi \\u2013 92 ...  $180.00               1   \n",
       "2  [\"First aid kit\", \"Hot water\", \"Air conditioni...   $80.00               3   \n",
       "\n",
       "   maximum_nights  minimum_minimum_nights  maximum_minimum_nights  \\\n",
       "0               5                       4                       4   \n",
       "1             730                       1                       1   \n",
       "2              90                       3                       3   \n",
       "\n",
       "   minimum_maximum_nights  maximum_maximum_nights  minimum_nights_avg_ntm  \\\n",
       "0                       5                       5                     4.0   \n",
       "1                     730                     730                     1.0   \n",
       "2                      90                      90                     3.0   \n",
       "\n",
       "   maximum_nights_avg_ntm  calendar_updated has_availability  availability_30  \\\n",
       "0                     5.0               NaN                t               23   \n",
       "1                   730.0               NaN                t               28   \n",
       "2                    90.0               NaN                t               21   \n",
       "\n",
       "   availability_60  availability_90  availability_365 calendar_last_scraped  \\\n",
       "0               53               83               358            2024-09-17   \n",
       "1               57               87               362            2024-09-17   \n",
       "2               21               21               183            2024-09-17   \n",
       "\n",
       "   number_of_reviews  number_of_reviews_ltm  number_of_reviews_l30d  \\\n",
       "0                 10                      0                       0   \n",
       "1                 27                      1                       0   \n",
       "2                 43                      2                       0   \n",
       "\n",
       "  first_review last_review  review_scores_rating  review_scores_accuracy  \\\n",
       "0   2010-04-19  2019-04-13                  4.89                    5.00   \n",
       "1   2012-04-24  2024-04-20                  4.65                    4.67   \n",
       "2   2010-12-20  2024-08-17                  4.66                    4.71   \n",
       "\n",
       "   review_scores_cleanliness  review_scores_checkin  \\\n",
       "0                       5.00                   5.00   \n",
       "1                       4.22                   4.59   \n",
       "2                       4.83                   4.98   \n",
       "\n",
       "   review_scores_communication  review_scores_location  review_scores_value  \\\n",
       "0                         5.00                    4.56                 4.67   \n",
       "1                         4.74                    4.70                 4.48   \n",
       "2                         4.88                    4.44                 4.51   \n",
       "\n",
       "  license instant_bookable  calculated_host_listings_count  \\\n",
       "0     NaN                f                               1   \n",
       "1     NaN                f                               1   \n",
       "2     NaN                f                               2   \n",
       "\n",
       "   calculated_host_listings_count_entire_homes  \\\n",
       "0                                            0   \n",
       "1                                            1   \n",
       "2                                            2   \n",
       "\n",
       "   calculated_host_listings_count_private_rooms  \\\n",
       "0                                             1   \n",
       "1                                             0   \n",
       "2                                             0   \n",
       "\n",
       "   calculated_host_listings_count_shared_rooms  reviews_per_month  \n",
       "0                                            0               0.06  \n",
       "1                                            0               0.18  \n",
       "2                                            0               0.26  "
      ]
     },
     "execution_count": 5,
     "metadata": {},
     "output_type": "execute_result"
    }
   ],
   "source": [
    "\n",
    "print(f\"The dataset contains {len(df_raw)} Airbnb listings\")\n",
    "pd.set_option('display.max_columns', len(df_raw.columns)) # To view all columns\n",
    "pd.set_option('display.max_rows', 100)\n",
    "df_raw.head(3)"
   ]
  },
  {
   "cell_type": "markdown",
   "metadata": {},
   "source": [
    "## Dropping Columns\n",
    "\n",
    "To decide which columns to drop, we should look back at our goal, which is to build a robust revenue prediction model for Airbnb listings. This is determined by the price and occupancy_rate. Therefore, to decide which features to keep, we should examine and retain only the ones that demonstrate predictive power for either of these components."
   ]
  },
  {
   "cell_type": "markdown",
   "metadata": {},
   "source": [
    "\n",
    "\n",
    "### Feature Selection Rationale\n",
    "\n",
    "In this initial step, I will remove columns that are not relevant to our goal. Decisions here based on the column descriptions provided in the data dictionary from [Inside Airbnb](https://insideairbnb.com/get-the-data/) and documented in the following section.\n",
    "\n",
    "### Features to Exclude\n",
    "\n",
    "1. **Metadata and Collection Details**\n",
    "   - `scrape_id` - Internal ID for the data collection batch this listing was part of\n",
    "   - `source` - How this listing was found: \"neighbourhood search\" = Found by searching the city; \"previous scrape\" = Seen in a recent scrape (within 65 days) and confirmed still active\n",
    "   - `calendar_last_scrapd` - Date and time when this listing's data was last collected (in UTC)\n",
    "   - `instant_bookable` - Whether guests can book immediately without host approval (t=yes, f=no)\n",
    "\n",
    "2. **Media and URLs**\n",
    "   - `picture_url`\n",
    "   - `host_url`\n",
    "   - `host_thumbnail_url`\n",
    "   - `host_picture_url`\n",
    "   - Rationale: These URLs don't provide predictive value in our numerical modeling approach\n",
    "\n",
    "\n",
    "3. **Administrative Fields**\n",
    "   - `license` - Official permit, license, or registration number (if required by local laws)\n",
    "   - `host_verifications` - Whether Airbnb has verified the host's identity (t=yes, f=no)\n",
    "\n",
    "4. **Textual or other Data we are not interested in right now**\n",
    "   - `bathrooms_text` - is redundant to 'baths'. It is just the textual correspondance of baths, which is a float.\n",
    "   - `name` - the name given to the AirBnB\n",
    "   - `host_name` - Host's name (usually first name only). Rationale: it could be interesting verifying whether there is a difference between \"professional\" hosts and non-professional hosts.\n",
    "   we will keep `host_id`\n",
    "\n",
    "5. **Booking Rules**\n",
    "\n",
    "   Hosts can define different booking rules for different dates (e.g., holidays, weekends, off-season). Airbnb provides several features that reflect both default and dynamic booking settings. To avoid redundancy, I chose to keep only the following two features:\n",
    "\n",
    "   - `minimum_nights_avg_ntm` - Average minimum nights required across all days in the next 365 days\n",
    "   - `maximum_nights_avg_ntm`- Average maximum nights allowed across all days in the next 365 days\n",
    "\n",
    "   These offer a calendar-aware average of the booking rules, making them more representative of actual availability across the year.\n",
    "\n",
    "   **Features removed:**\n",
    "   \n",
    "   Hosts can set different booking rules for different dates. The basic `minimum_nights` and `maximum_nights` are just the default rules, but hosts often change these for Weekends Holidays, Peak season or Off-season\n",
    "\n",
    "   Basic Booking Rules:\n",
    "   - `minimum_nights` - The default minimum number of nights guests must book\n",
    "   - `maximum_nights` - The default maximum number of nights guests can book\n",
    "   \n",
    "   Advanced Calendar Rules (calculated)\n",
    "   Hosts can set different rules for different dates (holidays, peak seasons, etc.). These fields analyze the entire calendar:\n",
    "   - `minimum_minimum_nights` - The shortest minimum stay found anywhere in the next 365 days\n",
    "   - `maximum_minimum_nights` - The longest minimum stay found anywhere in the next 365 days.\n",
    "   - `minimum_maximum_nights` - The shortest maximum stay found anywhere in the next 365 days\n",
    "   - `maximum_maximum_nights` - The longest maximum stay found anywhere in the next 365 days\n",
    "   \n",
    "   While informative, these features are highly correlated with the average value, and we want to reduce redundancy and limit dimensionality, helping to avoid the curse of dimensionality.\n",
    "\n",
    "6. **Host Statistics**\n",
    "\n",
    "   **Features removed:**\n",
    "\n",
    "   - `calculated_host_listings_count_entire_homes`: Number of \"entire home\" listings this host has locally\n",
    "   - `calculated_host_listings_count_private_rooms`: Number of \"private room\" listings this host has locally\n",
    "   - `calculated_host_listings_count_shared_rooms`: Number of \"shared room\" listings this host has locally\n",
    "\n",
    "   **Feature kept**\n",
    "   - `host_listings_count`: Number of listings this host has in the current city/region\n",
    "\n",
    "\n",
    "   \n",
    "\n",
    "\n"
   ]
  },
  {
   "cell_type": "markdown",
   "metadata": {},
   "source": [
    "## Dropping columns\n",
    "Based on our analysis before, we will proceed by just dropping the not necessary columns for our own analysis."
   ]
  },
  {
   "cell_type": "code",
   "execution_count": 6,
   "metadata": {},
   "outputs": [],
   "source": [
    "columns_to_drop = [\n",
    "    \"name\",\n",
    "    \"host_name\",\n",
    "    \"scrape_id\",\n",
    "    \"source\",\n",
    "    \"calendar_last_scraped\",\n",
    "    \"picture_url\",\n",
    "    \"host_url\",\n",
    "    \"host_thumbnail_url\",\n",
    "    \"host_picture_url\",\n",
    "    \"license\",\n",
    "    \"host_verifications\",\n",
    "    \"instant_bookable\",\n",
    "    \"minimum_nights\",\n",
    "    \"maximum_nights\",\n",
    "    \"minimum_minimum_nights\",\n",
    "    \"maximum_minimum_nights\",\n",
    "    \"minimum_maximum_nights\",\n",
    "    \"maximum_maximum_nights\",\n",
    "    \"bathrooms_text\",\n",
    "    \"calculated_host_listings_count_entire_homes\",\n",
    "    \"calculated_host_listings_count_private_room\",\n",
    "    \"calculated_host_listings_count_shared_rooms\",\n",
    "    \"has_availability\",\n",
    "    \"num_missing_reviews\",\n",
    "    \n",
    "]\n",
    "\n",
    "\n",
    "df_raw_columns_dropped = df_raw.drop(columns=columns_to_drop, errors=\"ignore\")\n",
    "\n"
   ]
  },
  {
   "cell_type": "markdown",
   "metadata": {},
   "source": [
    "### Object Columns Analysis\n",
    "\n",
    "We now identify and list categorical (object) columns to understand which features require categorical encoding and may need special handling during feature engineering. This step is crucial for determining appropriate preprocessing strategies for non-numeric data.\"\"\""
   ]
  },
  {
   "cell_type": "code",
   "execution_count": 7,
   "metadata": {},
   "outputs": [
    {
     "data": {
      "text/plain": [
       "'def analyze_data_types(df):\\n    Analyze numerical and categorical columns in the DataFrame.\\n    # Get columns by type\\n    num_cols = df.select_dtypes(include=[\\'int64\\', \\'float64\\']).columns\\n    cat_cols = df.select_dtypes(include=[\\'object\\']).columns\\n    \\n    # Print summary \\n    print(\"Dataset Overview:\")\\n    print(f\"Total columns: {len(df.columns)}\")\\n    print(f\"Numerical columns: {len(num_cols)}\")\\n    print(f\"Categorical columns: {len(cat_cols)}\\n\")\\n    \\n    print(\"Numerical Columns:\")\\n    for col in num_cols:\\n        print(f\"{col}: {df[col].dtype}\")\\n    \\n    print(\"\\nCategorical Columns:\")\\n    for col in cat_cols:\\n        print(f\"{col}: {df[col].dtype}\")\\n    \\n# Run analysis\\nanalyze_data_types(df_cleaned)\\n'"
      ]
     },
     "execution_count": 7,
     "metadata": {},
     "output_type": "execute_result"
    }
   ],
   "source": [
    "\"\"\"def analyze_data_types(df):\n",
    "    Analyze numerical and categorical columns in the DataFrame.\n",
    "    # Get columns by type\n",
    "    num_cols = df.select_dtypes(include=['int64', 'float64']).columns\n",
    "    cat_cols = df.select_dtypes(include=['object']).columns\n",
    "    \n",
    "    # Print summary \n",
    "    print(\"Dataset Overview:\")\n",
    "    print(f\"Total columns: {len(df.columns)}\")\n",
    "    print(f\"Numerical columns: {len(num_cols)}\")\n",
    "    print(f\"Categorical columns: {len(cat_cols)}\\n\")\n",
    "    \n",
    "    print(\"Numerical Columns:\")\n",
    "    for col in num_cols:\n",
    "        print(f\"{col}: {df[col].dtype}\")\n",
    "    \n",
    "    print(\"\\nCategorical Columns:\")\n",
    "    for col in cat_cols:\n",
    "        print(f\"{col}: {df[col].dtype}\")\n",
    "    \n",
    "# Run analysis\n",
    "analyze_data_types(df_cleaned)\n",
    "\"\"\""
   ]
  },
  {
   "cell_type": "markdown",
   "metadata": {},
   "source": [
    "# Missing Values Analysis\n",
    "\n",
    "After dropping columns irrelevant for predicting the price or occupancy features, we can move onto missing value analysis. Understanding the reason behind missing values is crucial to determine the appropriate strategy to handle them, whether through imputation, removal, or by treating the absence itself as informative.\n",
    "\n",
    "The first step is detecting which columsn are missing values and their extent.\n"
   ]
  },
  {
   "cell_type": "markdown",
   "metadata": {},
   "source": [
    "### Columns with Missing Values and Their Percentages"
   ]
  },
  {
   "cell_type": "code",
   "execution_count": 8,
   "metadata": {},
   "outputs": [
    {
     "data": {
      "text/html": [
       "<div>\n",
       "<style scoped>\n",
       "    .dataframe tbody tr th:only-of-type {\n",
       "        vertical-align: middle;\n",
       "    }\n",
       "\n",
       "    .dataframe tbody tr th {\n",
       "        vertical-align: top;\n",
       "    }\n",
       "\n",
       "    .dataframe thead th {\n",
       "        text-align: right;\n",
       "    }\n",
       "</style>\n",
       "<table border=\"1\" class=\"dataframe\">\n",
       "  <thead>\n",
       "    <tr style=\"text-align: right;\">\n",
       "      <th></th>\n",
       "      <th>Missing Values</th>\n",
       "      <th>Percentage</th>\n",
       "    </tr>\n",
       "  </thead>\n",
       "  <tbody>\n",
       "    <tr>\n",
       "      <th>neighbourhood_group_cleansed</th>\n",
       "      <td>23705</td>\n",
       "      <td>100.000000</td>\n",
       "    </tr>\n",
       "    <tr>\n",
       "      <th>calendar_updated</th>\n",
       "      <td>23705</td>\n",
       "      <td>100.000000</td>\n",
       "    </tr>\n",
       "    <tr>\n",
       "      <th>host_neighbourhood</th>\n",
       "      <td>14966</td>\n",
       "      <td>63.134360</td>\n",
       "    </tr>\n",
       "    <tr>\n",
       "      <th>neighborhood_overview</th>\n",
       "      <td>11377</td>\n",
       "      <td>47.994094</td>\n",
       "    </tr>\n",
       "    <tr>\n",
       "      <th>neighbourhood</th>\n",
       "      <td>11377</td>\n",
       "      <td>47.994094</td>\n",
       "    </tr>\n",
       "    <tr>\n",
       "      <th>host_about</th>\n",
       "      <td>11271</td>\n",
       "      <td>47.546931</td>\n",
       "    </tr>\n",
       "    <tr>\n",
       "      <th>host_location</th>\n",
       "      <td>4454</td>\n",
       "      <td>18.789285</td>\n",
       "    </tr>\n",
       "    <tr>\n",
       "      <th>review_scores_value</th>\n",
       "      <td>3981</td>\n",
       "      <td>16.793925</td>\n",
       "    </tr>\n",
       "    <tr>\n",
       "      <th>review_scores_location</th>\n",
       "      <td>3980</td>\n",
       "      <td>16.789707</td>\n",
       "    </tr>\n",
       "    <tr>\n",
       "      <th>review_scores_communication</th>\n",
       "      <td>3979</td>\n",
       "      <td>16.785488</td>\n",
       "    </tr>\n",
       "    <tr>\n",
       "      <th>review_scores_checkin</th>\n",
       "      <td>3979</td>\n",
       "      <td>16.785488</td>\n",
       "    </tr>\n",
       "    <tr>\n",
       "      <th>review_scores_cleanliness</th>\n",
       "      <td>3979</td>\n",
       "      <td>16.785488</td>\n",
       "    </tr>\n",
       "    <tr>\n",
       "      <th>review_scores_accuracy</th>\n",
       "      <td>3979</td>\n",
       "      <td>16.785488</td>\n",
       "    </tr>\n",
       "    <tr>\n",
       "      <th>last_review</th>\n",
       "      <td>3978</td>\n",
       "      <td>16.781270</td>\n",
       "    </tr>\n",
       "    <tr>\n",
       "      <th>first_review</th>\n",
       "      <td>3978</td>\n",
       "      <td>16.781270</td>\n",
       "    </tr>\n",
       "    <tr>\n",
       "      <th>reviews_per_month</th>\n",
       "      <td>3978</td>\n",
       "      <td>16.781270</td>\n",
       "    </tr>\n",
       "    <tr>\n",
       "      <th>review_scores_rating</th>\n",
       "      <td>3978</td>\n",
       "      <td>16.781270</td>\n",
       "    </tr>\n",
       "    <tr>\n",
       "      <th>host_response_time</th>\n",
       "      <td>3854</td>\n",
       "      <td>16.258173</td>\n",
       "    </tr>\n",
       "    <tr>\n",
       "      <th>host_response_rate</th>\n",
       "      <td>3854</td>\n",
       "      <td>16.258173</td>\n",
       "    </tr>\n",
       "    <tr>\n",
       "      <th>host_acceptance_rate</th>\n",
       "      <td>1913</td>\n",
       "      <td>8.070027</td>\n",
       "    </tr>\n",
       "    <tr>\n",
       "      <th>beds</th>\n",
       "      <td>1730</td>\n",
       "      <td>7.298038</td>\n",
       "    </tr>\n",
       "    <tr>\n",
       "      <th>bathrooms</th>\n",
       "      <td>1684</td>\n",
       "      <td>7.103987</td>\n",
       "    </tr>\n",
       "    <tr>\n",
       "      <th>price</th>\n",
       "      <td>1677</td>\n",
       "      <td>7.074457</td>\n",
       "    </tr>\n",
       "    <tr>\n",
       "      <th>host_is_superhost</th>\n",
       "      <td>831</td>\n",
       "      <td>3.505590</td>\n",
       "    </tr>\n",
       "    <tr>\n",
       "      <th>description</th>\n",
       "      <td>666</td>\n",
       "      <td>2.809534</td>\n",
       "    </tr>\n",
       "    <tr>\n",
       "      <th>bedrooms</th>\n",
       "      <td>324</td>\n",
       "      <td>1.366800</td>\n",
       "    </tr>\n",
       "  </tbody>\n",
       "</table>\n",
       "</div>"
      ],
      "text/plain": [
       "                              Missing Values  Percentage\n",
       "neighbourhood_group_cleansed           23705  100.000000\n",
       "calendar_updated                       23705  100.000000\n",
       "host_neighbourhood                     14966   63.134360\n",
       "neighborhood_overview                  11377   47.994094\n",
       "neighbourhood                          11377   47.994094\n",
       "host_about                             11271   47.546931\n",
       "host_location                           4454   18.789285\n",
       "review_scores_value                     3981   16.793925\n",
       "review_scores_location                  3980   16.789707\n",
       "review_scores_communication             3979   16.785488\n",
       "review_scores_checkin                   3979   16.785488\n",
       "review_scores_cleanliness               3979   16.785488\n",
       "review_scores_accuracy                  3979   16.785488\n",
       "last_review                             3978   16.781270\n",
       "first_review                            3978   16.781270\n",
       "reviews_per_month                       3978   16.781270\n",
       "review_scores_rating                    3978   16.781270\n",
       "host_response_time                      3854   16.258173\n",
       "host_response_rate                      3854   16.258173\n",
       "host_acceptance_rate                    1913    8.070027\n",
       "beds                                    1730    7.298038\n",
       "bathrooms                               1684    7.103987\n",
       "price                                   1677    7.074457\n",
       "host_is_superhost                        831    3.505590\n",
       "description                              666    2.809534\n",
       "bedrooms                                 324    1.366800"
      ]
     },
     "execution_count": 8,
     "metadata": {},
     "output_type": "execute_result"
    }
   ],
   "source": [
    "missing_values = df_raw_columns_dropped.isnull().sum().sort_values(ascending=False)  \n",
    "missing_percentage = (missing_values / len(df_raw_columns_dropped)) * 100 \n",
    "missing_df = pd.DataFrame({\"Missing Values\": missing_values, \"Percentage\": missing_percentage})\n",
    "missing_df[missing_df[\"Missing Values\"] > 0]"
   ]
  },
  {
   "cell_type": "markdown",
   "metadata": {},
   "source": [
    "Below is a breakdown of missing values by feature, along with their definitions from the **Airbnb Inside Data Dictionary**.\n",
    "\n",
    "### Features with 100% Missing Values\n",
    "| Feature | Missing % | Description | Strategy |\n",
    "|---------|----------|------------|------------|\n",
    "| **neighbourhood_group_cleansed** | 100.00% | The neighbourhood group as geocoded using the latitude and longitude against neighborhoods as defined by open or public digital shapefiles | Drop\n",
    "| **calendar_updated** | 100.00% | No description provided, expected to be a date | Drop\n",
    "\n",
    "### Features with 45-65% Missing Values\n",
    "| Feature | Missing % | Description |  Strategy |\n",
    "|---------|----------|------------|------------|\n",
    "| **host_neighbourhood** | 63.13% | Neighborhood where the host is located | Drop\n",
    "| **neighborhood_overview** | 47.99% | Host's description of the neighbourhood | present/absent\n",
    "| **neighbourhood** | 47.99% | Neighborhood name as listed by the host | Drop\n",
    "| **host_about** | 47.54% | Description about the host | present/absent\n",
    "\n",
    "### Features with Moderate Missing Values (15-20%)\n",
    "| Feature | Missing % | Description | Strategy |\n",
    "|---------|----------|------------|------------|\n",
    "| **host_location** | 18.78% | The host's self-reported location. | Mode Imputation\n",
    "| **review_scores_value** | 16.79% | Rating for value/price. | category: 'no reviews'\n",
    "| **review_scores_location** | 16.78% | Rating for location quality | category: 'no reviews'\n",
    "| **review_scores_checkin** | 16.78% |  Rating for check-in process | category: 'no reviews'\n",
    "| **review_scores_communication** | 16.78% | Rating for host communication. | category: 'no reviews'\n",
    "| **review_scores_accuracy** | 16.78% | Rating for accuracy of listing description | category: 'no reviews'\n",
    "| **review_scores_cleanliness** | 16.78% | Rating for cleanliness | category: 'no reviews'\n",
    "| **first_review** | 16.78% | The date of the first/oldest review. | category: 'no reviews'\n",
    "| **last_review** | 16.78% | The date of the last/newest review. | category: 'no reviews'\n",
    "| **review_scores_rating** | 16.78% | Overall rating score. | category: 'no reviews'\n",
    "| **reviews_per_month** | 16.78% | The average number of reviews per month the listing has over its lifetime. | number: '0'\n",
    "| **host_response_rate** | 16.25% | Percentage of messages the host responds to.| imputing \"unknown\"; removed feature\n",
    "| **host_response_time** | 16.25% | How quickly the host typically responds to messages | imputing \"unknown\"; removed feature\n",
    "\n",
    "### Features with Low Missing Values (<15%)\n",
    "| Feature | Missing % | Description |Strategy |\n",
    "|---------|----------|------------|------------|\n",
    "| **host_acceptance_rate** | 8.07% | The rate at which a host accepts booking requests. | imputing \"unknown\"; removed feature\n",
    "| **beds** | 7.29% | The number of beds in the listing. | 100% correlation with price: got removed\n",
    "| **bathrooms** | 7.10% | The number of bathrooms in the listing. | 100% correlation with price: got removed\n",
    "| **price** | 7.07% | Daily price in local currency (ignore \"$\" as it is a technical artifact). | removed row\n",
    "| **host_is_superhost** | 3.50% | Boolean: `t=true, f=false`. | Mode (f)\n",
    "| **description** | 2.80% | Detailed description of the listing. | Drop\n",
    "| **bedrooms** | 1.36% | The number of bedrooms in the listing. | filled with accomodates value, under the assumption that it is near to the number of people hosted in the house)\n",
    "| **has_availability** | 0.80% | Boolean: `t=true, f=false`. |\n",
    "| **bathrooms_text** | 0.05% | The number of bathrooms in textual form (used in older scrapes). |\n",
    "\n",
    "---\n",
    "\n"
   ]
  },
  {
   "cell_type": "markdown",
   "metadata": {},
   "source": [
    "# 100% Missing - Dropping\n",
    "\n",
    "regarding the features where 100% of the values are missing, the imputation strategy is simple: we can simply remove the entire column."
   ]
  },
  {
   "cell_type": "code",
   "execution_count": 9,
   "metadata": {},
   "outputs": [],
   "source": [
    "columns_to_drop = [\n",
    "    \"neighbourhood_group_cleansed\",\"calendar_updated\"\n",
    "]\n",
    "\n",
    "df_raw_columns_dropped= df_raw_columns_dropped.drop(columns=columns_to_drop, errors=\"ignore\")\n"
   ]
  },
  {
   "cell_type": "markdown",
   "metadata": {},
   "source": [
    "# Features with 45-65% Missing Values"
   ]
  },
  {
   "cell_type": "markdown",
   "metadata": {},
   "source": [
    "Understanding the underlying reason of medium /high missing values meaning, for determining the most appropriate handling strategy."
   ]
  },
  {
   "cell_type": "code",
   "execution_count": 10,
   "metadata": {},
   "outputs": [
    {
     "name": "stdout",
     "output_type": "stream",
     "text": [
      "\n",
      " FEATURE: host_neighbourhood\n",
      "→ UNIQUE VALUES: 96\n",
      "→ MOST FREQUENT VALUES:\n",
      " host_neighbourhood\n",
      "NaN                   14966\n",
      "Centro Storico         1452\n",
      "Navigli                 916\n",
      "Centro Direzionale      790\n",
      "Zona 2                  607\n",
      "Zona 3                  565\n",
      "Porta Romana            482\n",
      "Zona 8                  449\n",
      "Città Studi             443\n",
      "Zona 5                  440\n",
      "Name: count, dtype: int64\n",
      "\n",
      " FEATURE: neighbourhood\n",
      "→ UNIQUE VALUES: 51\n",
      "→ MOST FREQUENT VALUES:\n",
      " neighbourhood\n",
      "Milano, Lombardia, Italy    11621\n",
      "NaN                         11377\n",
      "Milan, Lombardy, Italy        534\n",
      "Milano, Italy                  35\n",
      "Milano, MI, Italy              33\n",
      "Milano, Lo, Italy              11\n",
      "Milan, Italy                   10\n",
      "Milan, MI, Italy               10\n",
      "Milan, Lombardia, Italy         9\n",
      "Milano, Mi, Italy               7\n",
      "Name: count, dtype: int64\n",
      "\n",
      " FEATURE: neighborhood_overview\n",
      "→ UNIQUE VALUES: 11015\n",
      "→ MOST FREQUENT VALUES:\n",
      " neighborhood_overview\n",
      "NaN                                                                                                                                                                                                                                                                                                                                                                                                                                                                                                                                                                                                                                                                                                                                                                                                                                                                                                                                                                                                                                         11377\n",
      "The district located west of the Duomo where Corso Magenta is located, identified between Santa Maria delle Grazie/Cenacolo Vinciano up to Piazzale Baracca, is full of nineteenth and twentieth century buildings inhabited by wealthy families and prestigious institutions.<br />An important cultural institution in the district is the Leonardo da Vinci National Museum of Science and Technology: loved by young and old not only for its exhibitions and workshops, but also for the Toti submarine in the courtyard.<br />Luxurious cafes and patisseries give the neighborhood a surplus of sophistication, along with cult venues such as the Rossana Orlandi Gallery and the Ferrari and Lamborghini dealerships.<br />We also remember the market in Viale Papiniano which every Saturday is a destination for fanatics and fanatics of second-hand clothing and fashion, from footwear to dresses, from suits to shirts and accessories discarded from fashion shows on the occasion of the latest collections. Very long       47\n",
      "The Porta Venezia area is a mirror that reflects the many faces of the city, showing them in their richness and variety. The neighborhood, in fact, is characterized by the presence of a variety of establishments and restaurants, from those more typical of Milanese tradition to ethnic and international ones. At the same time, going into the alleys of the area it is possible to find neighborhood stores and stores, and then move to Corso Buenos Aires and enter the longest shopping avenue in Europe. Looking up, moreover, it is possible to notice fabulous Art Nouveau floral architecture of the early 19th century, and then get lost among the paths of one of the city's most famous parks: the Indro Montanelli public gardens.                                                                                                                                                                                                                                                                                         15\n",
      "Milan is the capital of Lombardy and one of the most important cultural, financial and fashion centers in Italy. With its rich and vibrant history, extraordinary architecture, and international influence, Milan is a one-of-a-kind city.<br /><br />The city is famous for being a major capital of fashion and design, hosting weeks of international fashion and fairs that attract designers, shoppers, and fashion fans from around the world. Milan is also a shopping paradise, with luxury boutiques, department stores, and famous shopping streets.<br /><br />Milan's iconic monuments include the Duomo of Milan, an imposing and intricate Gothic structure, and La Scala, one of the world's most famous opera houses. The city is also home to a wide range of museums, including the Museo del Novecento and Pinacoteca di Brera.<br /><br />Milan is also renowned for its fine dining. From traditional dishes to contemporary food experiences, the city offers a wide range of restaurants, trattorias, and cafes.       15\n",
      "Duomo Cathedral is the main square of Milan, its real geometric and commercial center for over seven centuries. It is the vital center of the city, a meeting place for the Milanese to celebrate important events and, together with the adjacent Galleria Vittorio Emanuele II, the iconic place par excellence of the metropolis and a destination for visitors and tourists from all over the world.<br />The square has an area of ​​approximately 17,000 square meters and is rectangular in shape, considering also the area enclosed by the surrounding buildings, arranged according to the Cathedral which closes the background perspective of the square, the surface is 40,200m2 which makes it become one of the largest squares in Italy.<br />Dominated by the imposing Gothic front of the Cathedral, and decorated in the center by the equestrian monument to Vittorio Emanuele II erected in 1896, the square is surrounded by various architectures of different periods: it stands in front of the bulk of the cat       14\n",
      "Via Aristotele is a quiet residential area in the Precotto area, in Milan. The city center thanks to the proximity of the subway can be reached in a few minutes, as well as the doors of Milan thanks to its strategic position. Detachment of the Bicocca University within walking distance, as well as hospitals and shops.                                                                                                                                                                                                                                                                                                                                                                                                                                                                                                                                                                                                                                                                                                                11\n",
      "Niguarda is probably the most Milanese district in Milan.<br /><br />It is dominated by the huge white marble hospital, one of the best in Italy, inaugurated in 1939.<br /><br />He was freed a day earlier from the Nazifascism of the rest of the city, and the partisan memory is imprinted in the large red mural at the entrance of the neighborhood.<br /><br />A neighbourhood to the north of the city, it is practically a village in its own right, inhabited by middle-class families, very dense with associative and cooperative structures, shops, bars, wine bars and takeaway places.<br /><br />Going towards the Bicocca, Prato Centenario is an interesting and unknown popular district east of Fulvio Testi with one of the largest and most multi-ethnic open-air markets in Milan (via Val Maira, every Thursday) and a covered municipal market of the 50s (in via Moncalieri).<br /><br />At the beginning of Via Val Maira, the district maintains a historic nucleus of beautiful houses from the late 1800s       10\n",
      "Exclusive  and best position of the center, nearby restaurant all the best shops and Duomo Cathedral                                                                                                                                                                                                                                                                                                                                                                                                                                                                                                                                                                                                                                                                                                                                                                                                                                                                                                                                           10\n",
      "The neighbourhood <br /> <br />The hotel is right in the heart of Milan: walk out of the door and you are at the Duomo.  <br />In the area you can enjoy delightful views of the historical city’s gems while being surrounded by the most prestigious Milan boutiques and restaurants. <br /> <br />The Duomo square, La Scala Theater and all the major see sights are just a short walk away as well as the Montenapoleone fashion district, the art district of Brera and the most famous Milan’s shops and museums.  <br />A wide range of restaurants, bars and cafes will satisfy every foodie. <br /> <br />Restaurants  <br />Giacomo Arengario - Scale the Guggenheim-inspired spiral ramp at the Museo del Novecento to find the best view in the whole city overlooking the Piazza del Duomo. <br />Celebrity Chef Carlo Cracco has a Michelin star restaurant just a few steps away from the hotel. Better book in advance. <br />If you'd like to have just a quick salty snack, you should definitely try the famous Luin       10\n",
      "It is a quiet neighborhood, close to green areas, well served by public transport.<br />Nearby Ventura Design District, University and Polytechnic, Cancer Institute, Besta Institute, San Raffaele<br />A few meters away Supermarket open every day until 8:30 pm                                                                                                                                                                                                                                                                                                                                                                                                                                                                                                                                                                                                                                                                                                                                                                            10\n",
      "Name: count, dtype: int64\n",
      "\n",
      " FEATURE: host_about\n",
      "→ UNIQUE VALUES: 5091\n",
      "→ MOST FREQUENT VALUES:\n",
      " host_about\n",
      "NaN                                                                                                                                                                                                                                                                                                                                                                                                                                                                                                                                                                                                                                                                                                         11271\n",
      "Dal 2015 Italianway propone appartamenti per soggiorni brevi nelle principali località italiane: tra città, coste, isole, laghi o montagne.\\nL’importo esposto dal portale ricomprende il canone di locazione del proprietario ed il corrispettivo dei servizi accessori forniti all’ospite dal property Manager. Tali importi saranno dettagliati nel contratto di locazione e genereranno per l’ospite due distinti documenti contabili al check-Out.                                                                                                                                                                                                                                                       513\n",
      "Easylife House è una società leader negli affitti brevi nata dalla visione dell'ex banchiere Donato Cella. La mission della società è di offrire un'esperienza \"Easy\", in proprietà lussuose, confortevoli e strategicamente posizionate con servizi di qualità e tutte le comodità come Wi-Fi ad alta velocità, cucine attrezzate, letti confortevoli, e un team di assistenza dedicato. Con Easylife, l'affitto si trasforma in un'esperienza da ricordare!                                                                                                                                                                                                                                                 342\n",
      "Welcome fellow Airbnb travellers to our apartments in Milan! Feel like at home! \\r\\n It's our great pleasure to host travelers from all over the world in our great apartments in Milan. Hospitality isn’t just a service, it’s our philosophy and way of life, made of acts of kindness. \\r\\nOur Team is here to assist you and offer selected tips and arrange for you experiences off the beaten track. \\r\\nAnd, if you are arranging a trip in more different cities, then ask us for tips and accommodations! We have lots of properties in Italy! Team CleanBnB                                                                                                                                         302\n",
      "Welcome fellow Airbnb travellers to our apartments! Feel like at home!\\nIt's our great pleasure to host travelers from all over the world in our great apartments. Hospitality isn't just a service, it's our philosophy ad a way of life, made of acts of kindness. \\nOur team is here to assist you and offer selected tips and arrange for your experiences off the beaten track.\\nTeam I-HOST.                                                                                                                                                                                                                                                                                                            145\n",
      "Ciao! Youhosty è una società di servizi nata per far fronte al crescente bisogno dei proprietari di casa di un servizio completo per rendere facile e immediato l’affitto a breve e medio termine dei loro appartamenti. \\n\\nYouhosty eroga una serie di servizi (ad esempio check in/out, pulizie, conciergerie, gestione prenotazioni) che vengono direttamente forniti agli ospiti durante ogni soggiorno. \\n\\nI servizi accessori alla locazione sono sostenuti dall'ospite e vengono erogati da Youhosty. La provvigione della piattaforma di prenotazione (Airbnb, Booking e varie altre ed eventuali) dovuta dal locatore è anticipata in nome e per conto del proprietario da parte di Youhosty.      128\n",
      "Hi! We are Chiara and Roberto. We offer accommodation and various concierge services to people who are coming to Italy. \\n \\nWe manage Novecento Case company. Roberto and I like to help people finding the right accomodation for their needs. We never leave our guests alone, we are always available to give informations, suggestions and solve the little problems that might occour. \\nWe love to travel so we are trying to give to our guests the service we would like to receive ourselves. \\n \\nIf you have any questions please feel free to contact us. Thanks :-)\\nChiara & Roberto\\n                                                                                                         116\n",
      "The Best Rent è una società che gestisce appartamenti per brevi periodi a Milano e Roma. \\n\\nIl nostro team si occuperà di te dal momento del check-in fino a quello della partenza, assicurandosi di assolverti da ogni tipo di preoccupazione. Il nostro servizio è attivo 7/7 dalle 9:30 alle 22:00.\\n\\nIncluso nel prezzo troverai sempre biancheria (sia da letto che da bagno), Wi-Fi, aria condizionata, elettrodomestici e un kit di benvenuto.                                                                                                                                                                                                                                                       105\n",
      "ITS HOME è un'azienda fondata nel 2022, con immobili presenti su molte zone di Milano.\\nOffriamo una gestione completa a 360° degli immobili e facciamo il possibile per garantire all'ospite un soggiorno perfetto. \\nCercheremo di soddisfare ogni vostra esigenza.                                                                                                                                                                                                                                                                                                                                                                                                                                         105\n",
      "Dear guest.\\r\\nHintown is now a proud member of the ALTIDO group.\\r\\nWe take pride in helping thousands of busy hosts across Europe to rent their properties professionally so you can have the stay of your dreams. This and every other home we manage provides hotel-like quality services, such as professional cleaning before your stay, quality linen, towels, and essentials. If you need further information on this and any other ALTIDO home, just call us and we’ll be happy to help anytime, 24 hours a day. We are committed to providing the best experience for you: from “Welcome” to \"See you soon”. Stay in an ALTIDO!                                                                     103\n",
      "Name: count, dtype: int64\n",
      "\n",
      " FEATURE: host_location\n",
      "→ UNIQUE VALUES: 573\n",
      "→ MOST FREQUENT VALUES:\n",
      " host_location\n",
      "Milan, Italy              16849\n",
      "NaN                        4454\n",
      "Rome, Italy                 185\n",
      "Italy                       135\n",
      "Milano, Italy               107\n",
      "Lombardy, Italy              95\n",
      "Florence, Italy              94\n",
      "Monza, Italy                 74\n",
      "Turin, Italy                 63\n",
      "London, United Kingdom       62\n",
      "Name: count, dtype: int64\n"
     ]
    }
   ],
   "source": [
    "# Selected features with missing values\n",
    "selected_features = [\n",
    "        \"host_neighbourhood\",\n",
    "        \"neighbourhood\",\n",
    "        \"neighborhood_overview\",\n",
    "        \"host_about\",\n",
    "        \"host_location\",\n",
    "]\n",
    "\n",
    "# Analyze categorical and textual variables\n",
    "for feature in selected_features:\n",
    "    print(f\"\\n FEATURE: {feature}\")\n",
    "    print(\"→ UNIQUE VALUES:\", df_raw_columns_dropped[feature].nunique())\n",
    "    print(\"→ MOST FREQUENT VALUES:\\n\", df_raw_columns_dropped[feature].value_counts(dropna=False).head(10))\n"
   ]
  },
  {
   "cell_type": "markdown",
   "metadata": {},
   "source": [
    "The variable `neighbourhood` is Milan, just written in different forms. Therefore, we drop the column."
   ]
  },
  {
   "cell_type": "code",
   "execution_count": 11,
   "metadata": {},
   "outputs": [],
   "source": [
    "df_raw_columns_dropped = df_raw_columns_dropped.drop(columns=\"neighbourhood\")"
   ]
  },
  {
   "cell_type": "markdown",
   "metadata": {},
   "source": [
    "### host_about\n",
    "\n",
    "host_about variable indicates whether a host description was provided in the listing. We are not planning on doing NLP, but we may explore the possibility that having a description of the host might give a sense of reassurance and may guide in the choice of a specific apartment. Therefore, by now, we will simply encode such variable as a categorical variable, encoded as 0 if absent , when it is NaN, and 1, when it is present. \n",
    "\n",
    "To streamline this process, I developed a generalized function called \"impute_and_create_binary_feature\" located in src/data/preprocessing.py.\n",
    "This function handles the transformation of features that need to be converted from their original format into binary presence/absence indicators, and prints the distribution."
   ]
  },
  {
   "cell_type": "code",
   "execution_count": 12,
   "metadata": {},
   "outputs": [
    {
     "name": "stdout",
     "output_type": "stream",
     "text": [
      "host_about_present\n",
      "1    52.453069\n",
      "0    47.546931\n",
      "Name: proportion, dtype: float64\n"
     ]
    }
   ],
   "source": [
    "df_raw_columns_dropped = impute_and_create_binary_feature(df_raw_columns_dropped, \"host_about\")"
   ]
  },
  {
   "cell_type": "markdown",
   "metadata": {},
   "source": [
    "### Neighbourhood overview\n",
    "\n",
    "is a textual description as well. we will do the same as for the description of host_about since we don't plan on doing NLP right now."
   ]
  },
  {
   "cell_type": "code",
   "execution_count": 13,
   "metadata": {},
   "outputs": [
    {
     "name": "stdout",
     "output_type": "stream",
     "text": [
      "neighborhood_overview_present\n",
      "1    52.005906\n",
      "0    47.994094\n",
      "Name: proportion, dtype: float64\n"
     ]
    }
   ],
   "source": [
    "df_raw_columns_dropped = impute_and_create_binary_feature(df_raw_columns_dropped, \"neighborhood_overview\")\n"
   ]
  },
  {
   "cell_type": "markdown",
   "metadata": {},
   "source": [
    "### Description\n",
    "is a textual description as well. we will do the same as for the description of host_about since we don't plan on doing NLP right now."
   ]
  },
  {
   "cell_type": "code",
   "execution_count": 14,
   "metadata": {},
   "outputs": [
    {
     "name": "stdout",
     "output_type": "stream",
     "text": [
      "description_present\n",
      "1    97.190466\n",
      "0     2.809534\n",
      "Name: proportion, dtype: float64\n"
     ]
    }
   ],
   "source": [
    "df_raw_columns_dropped = impute_and_create_binary_feature(df_raw_columns_dropped, \"description\")"
   ]
  },
  {
   "cell_type": "markdown",
   "metadata": {},
   "source": [
    "However, if we opt for the imputing , we do have nearly all the entries being into \"1\" making the data so unbalaced that are basically useless. Therefore, we'll drop the column.\n"
   ]
  },
  {
   "cell_type": "code",
   "execution_count": 15,
   "metadata": {},
   "outputs": [],
   "source": [
    "df_raw_columns_dropped = df_raw_columns_dropped.drop(columns=\"description_present\")"
   ]
  },
  {
   "cell_type": "markdown",
   "metadata": {},
   "source": [
    "we don't know how to impute host_location missingness. which apparently refers to those host who have not specified where they are located. we will first try to understand if it is a random missingness (specific name here) or not, so to decide how to impute the value."
   ]
  },
  {
   "cell_type": "markdown",
   "metadata": {},
   "source": [
    "### Host_neighbourhood"
   ]
  },
  {
   "cell_type": "markdown",
   "metadata": {},
   "source": [
    "host_neighbourhood should be the exact neighbourhood (quartiere) of the host location. However, 63% of these are missing. Therefore, we will opt to just drop the columns, also because it doesn't seem to be informative for our analysis.\n"
   ]
  },
  {
   "cell_type": "code",
   "execution_count": 16,
   "metadata": {},
   "outputs": [],
   "source": [
    "df_raw_columns_dropped = df_raw_columns_dropped.drop(columns=\"host_neighbourhood\")"
   ]
  },
  {
   "cell_type": "markdown",
   "metadata": {},
   "source": [
    "# Features with Moderate Missing Values (15-20%)"
   ]
  },
  {
   "cell_type": "markdown",
   "metadata": {},
   "source": [
    "### Host location\n",
    "\n",
    "**Imputing 'host_location' with \"Milan\"**\n",
    "\n",
    "Given that \"Milan\" is the most frequent host location in our dataset, a straightforward approach is to fill all missing `host_location` values with \"Milan.\" This method (often referred to as *mode imputation*) has the benefit of simplicity—no additional modeling or complex data processes are needed.\n",
    "\n",
    "We also observed from our correlation checks that there is no significant relationship between the missingness of `host_location` and the other numeric features. This finding suggests that the absence of `host_location` may not be systematically tied to the values of those numeric columns.\n",
    "\n",
    "That said, around 18.78% of the rows are missing `host_location`, so this is not a trivial proportion. Mode imputation might introduce or amplify certain biases:\n",
    "\n",
    "- **Over-representation and possible bias**: Listings whose true host location isn’t Milan will be labeled as Milan, possibly skewing any downstream analysis (e.g., if we measure local vs. remote hosts).\n",
    "- **Homogenization of missing data**: All missing cases become \"Milan,\" losing potentially diverse host locations.\n",
    "- **Impact on predictions**: If 'host_location' is a weak predictor for price or occupancy, this might not matter much. But if it’s actually significant (e.g., remote hosts differ from local hosts), the model may learn misleading patterns.\n",
    "\n",
    "Additionally, trying a more complex solution—like predicting `host_location` via logistic regression—would require handling all of the other data (e.g., encoding categorical features, imputing other missing values), which could be time-consuming and may not yield a substantial improvement in model performance. Therefore, if we see negligible impact on our primary target metrics (price or occupancy) when using this simpler “Milan” imputation, it may be the most pragmatic choice for now.\n"
   ]
  },
  {
   "cell_type": "code",
   "execution_count": 17,
   "metadata": {},
   "outputs": [
    {
     "name": "stdout",
     "output_type": "stream",
     "text": [
      "Milan, Italy\n"
     ]
    },
    {
     "name": "stderr",
     "output_type": "stream",
     "text": [
      "/var/folders/bn/xmxdyqsd2rq73mq3fqj1tzsw0000gn/T/ipykernel_6744/1323006236.py:6: FutureWarning: A value is trying to be set on a copy of a DataFrame or Series through chained assignment using an inplace method.\n",
      "The behavior will change in pandas 3.0. This inplace method will never work because the intermediate object on which we are setting values always behaves as a copy.\n",
      "\n",
      "For example, when doing 'df[col].method(value, inplace=True)', try using 'df.method({col: value}, inplace=True)' or df[col] = df[col].method(value) instead, to perform the operation inplace on the original object.\n",
      "\n",
      "\n",
      "  df_raw_columns_dropped['host_location'].fillna(most_frequent_value, inplace=True)\n"
     ]
    }
   ],
   "source": [
    "# Find the mode of the column\n",
    "most_frequent_value = df_raw_columns_dropped['host_location'].mode()[0]\n",
    "print(most_frequent_value)\n",
    "\n",
    "# Fill missing values with the mode\n",
    "df_raw_columns_dropped['host_location'].fillna(most_frequent_value, inplace=True)\n"
   ]
  },
  {
   "cell_type": "markdown",
   "metadata": {},
   "source": [
    "## Reviews and Host_response missing values:"
   ]
  },
  {
   "cell_type": "markdown",
   "metadata": {},
   "source": [
    "\n",
    "Missing value percentages in reviews and Host_response_rate seem to be very similar. I suspect that they may be correlated, indicating that this is not coincidental. I suspect it might not be coincidental but rather that there are missing values where there are basically no reviews, indicating that imputing missing values through, for instance, mode, median, or other methods would be fundamentally wrong, since we may lose an important subset of our data: listings that haven't had any reviews yet.\n",
    "\n",
    "A key concept here is distinguishing between:\n",
    "- **MCAR** (\"Missing Completely At Random\"): the missingness has no relationship with any other data or the underlying value.  \n",
    "- **MAR** (\"Missing At Random\"): the missingness can be explained by other observed variables in the dataset.  \n",
    "- **MNAR** (\"Missing Not At Random\"): the missingness relates to the actual unobserved value or some other unmeasured factor (often called \"informative missingness\").\n",
    "\n",
    "This correlation between missing reviews and Host_response_rate suggests we're dealing with **MNAR** rather than random missingness. When a listing has 0 reviews, it is _structurally_ missing the values in the review score columns (since no guest has stayed to leave a review), which typically indicates MNAR—because the reason these review scores are missing is _not_ random; it's tied to the fact that the property has no reviews. Similarly, hosts may be less likely to set response rates when they haven't received bookings or inquiries yet."
   ]
  },
  {
   "cell_type": "code",
   "execution_count": 18,
   "metadata": {},
   "outputs": [
    {
     "data": {
      "image/png": "[encoded data removed]",
      "text/plain": [
       "<Figure size 1200x800 with 2 Axes>"
      ]
     },
     "metadata": {},
     "output_type": "display_data"
    }
   ],
   "source": [
    "cols_with_missing = [\n",
    "    \"host_response_time\", \"host_response_rate\",\n",
    "    \"first_review\", \"last_review\", \"review_scores_rating\",\n",
    "    \"review_scores_accuracy\", \"review_scores_cleanliness\",\n",
    "    \"review_scores_checkin\", \"review_scores_communication\",\n",
    "    \"review_scores_location\", \"review_scores_value\",\n",
    "    \"reviews_per_month\"\n",
    "]\n",
    "\n",
    "corr_matrix = plot_missing_corr_heatmap(\n",
    "    df=df_raw_columns_dropped,\n",
    "    missing_columns=cols_with_missing,\n",
    "    indicator_col=\"number_of_reviews\",\n",
    "    title=\"Correlation among Missing-Value Indicators\"\n",
    ")\n"
   ]
  },
  {
   "cell_type": "markdown",
   "metadata": {},
   "source": [
    "From the heatmap, it seems that our hypotesis is correct, we now aim to verify whether missing values in review_scores_value are systematically missing across all other review score columns. If confirmed, this would indicate that missing review scores are not random but rather reflect listings that lack reviews."
   ]
  },
  {
   "cell_type": "code",
   "execution_count": 19,
   "metadata": {},
   "outputs": [],
   "source": [
    "\n",
    "# Define review score columns\n",
    "review_columns = [\n",
    "    \"review_scores_value\",\n",
    "    \"review_scores_cleanliness\",\n",
    "    \"review_scores_location\",\n",
    "    \"review_scores_checkin\",\n",
    "    \"review_scores_communication\",\n",
    "    \"review_scores_accuracy\",\n",
    "    \"review_scores_rating\",\n",
    "    \"first_review\",\n",
    "    \"last_review\",\n",
    "    \"reviews_per_month\",\n",
    "]\n"
   ]
  },
  {
   "cell_type": "code",
   "execution_count": 20,
   "metadata": {},
   "outputs": [
    {
     "name": "stdout",
     "output_type": "stream",
     "text": [
      "Listings with at least one missing review score: 3982\n",
      "Listings where all review scores are missing: 3978\n",
      "Listings with some but not all review scores missing: 4\n"
     ]
    }
   ],
   "source": [
    "\n",
    "df_partial_missing, ids_partial_missing = partial_review_missing(\n",
    "    df_raw_columns_dropped, review_cols=review_columns\n",
    ")\n",
    "\n"
   ]
  },
  {
   "cell_type": "markdown",
   "metadata": {},
   "source": [
    "so we know there are 4 that have partial missing but not 0 reviews, although most are totally related. let's see which are."
   ]
  },
  {
   "cell_type": "code",
   "execution_count": 21,
   "metadata": {},
   "outputs": [
    {
     "name": "stdout",
     "output_type": "stream",
     "text": [
      "[2675064, 5296838, 26264851, 857632465549021186]\n"
     ]
    }
   ],
   "source": [
    "print(ids_partial_missing)"
   ]
  },
  {
   "cell_type": "code",
   "execution_count": 22,
   "metadata": {},
   "outputs": [],
   "source": [
    "df_raw_columns_dropped = df_raw_columns_dropped[\n",
    "    ~df_raw_columns_dropped[\"id\"].isin(ids_partial_missing)\n",
    "]"
   ]
  },
  {
   "cell_type": "code",
   "execution_count": 23,
   "metadata": {},
   "outputs": [
    {
     "data": {
      "text/plain": [
       "(23701, 48)"
      ]
     },
     "execution_count": 23,
     "metadata": {},
     "output_type": "execute_result"
    }
   ],
   "source": [
    "df_raw_columns_dropped.shape"
   ]
  },
  {
   "cell_type": "markdown",
   "metadata": {},
   "source": [
    "# Handling Missing Review Scores\n",
    "\n",
    "After cleaning the outliers (n=4), we need to address the missing values in our `reviews_score` feature. The missingness pattern appears to be **MNAR (Missing Not At Random)**, as these NaN values (≈17% of our dataset) specifically represent listings with no reviews rather than random data loss. This presents an interesting analytical challenge, as conventional imputation methods would be inappropriate given the underlying data-generating process.\n",
    "\n",
    "## Limitations of Conventional Imputation Approaches\n",
    "\n",
    "A **complete case analysis** (dropping NaN values) would be statistically unsound given both the substantial proportion of missing data and, more importantly, the informative nature of the missingness itself. The absence of reviews likely correlates with other features in our model (e.g., listing age, pricing strategy, booking frequency) and could provide valuable signal for our price prediction task.\n",
    "\n",
    "Similarly, traditional imputation methods like **mean/mode substitution** or **random value imputation** would conflate fundamentally different states:\n",
    "- \"No reviews\" vs. \"Poor reviews\"\n",
    "\n",
    "Such an approach could introduce bias into our model, distorting price elasticity estimations.\n",
    "\n",
    "## Business and Market Considerations\n",
    "\n",
    "From a business perspective:\n",
    "- **New listings** often employ different pricing strategies, frequently offering **introductory discounts** to overcome the \"cold start\" problem in reputation-based marketplaces.\n",
    "- This suggests that the relationship between **review scores and pricing isn't purely linear** and might exhibit **time-dependency patterns**.\n",
    "- From a customer behavior perspective, the decision-making process for booking an unreviewed property differs significantly from selecting among reviewed properties, implying **different price elasticities**.\n",
    "\n",
    "## Proposed Feature Engineering Approach\n",
    "\n",
    "To preserve the informative nature of the missing reviews while enabling robust statistical modeling, we propose creating a **categorical feature** based on review score quantiles:\n",
    "\n",
    "| **Category**       | **Definition** |\n",
    "|--------------------|---------------|\n",
    "| `no_reviews`      | Listings with missing review scores (unrated properties) |\n",
    "| `low_reviews`     | Listings with review scores **below 4.0** (likely negative guest experiences) |\n",
    "| `medium_reviews`  | Listings with review scores **between 4.0 and 4.6** (average-rated properties) |\n",
    "| `high_reviews`    | Listings with review scores **between 4.6 and 4.8** (good but not premium) |\n",
    "| `top_reviews`     | Listings with review scores **above 4.8** (premium properties, likely Superhosts) |\n",
    "\n",
    "This approach maintains the natural ordering while preserving the distinct character of unreviewed listings. An **ordinal encoding structure** or **dummy encoding** can be used depending on the modeling approach.\n",
    "\n",
    "## Dual-Track Modeling Strategy\n",
    "\n",
    "We will implement **two modeling strategies**:\n",
    "\n",
    "1. **Full dataset with categorical encoding**:\n",
    "   - Suitable for tree-based models (e.g., XGBoost, which handles categorical features well)\n",
    "   - Logistic regression with appropriate dummy encoding\n",
    "\n",
    "2. **Subset with only reviewed listings**:\n",
    "   - Used for exploring pure numerical relationships\n",
    "   - Potentially useful for price elasticity analysis and market segmentation\n",
    "\n",
    "## Considered but Rejected Approaches\n",
    "\n",
    "- **Host-based imputation** (using review patterns from other properties by the same host)\n",
    "  - While theoretically sound, this approach introduces complexity in host clustering.\n",
    "  - Additional preprocessing steps would be required to ensure that it benefits model performance.\n",
    "\n",
    "## Future Iterations and Enhancements\n",
    "\n",
    "- Implement a more **sophisticated ordinal encoding** that incorporates **temporal aspects** of review accumulation.\n",
    "- Investigate **composite features** that combine review status with other **trust signals** (e.g., host verification status, response rate) to better model the **trust premium in pricing**.\n"
   ]
  },
  {
   "cell_type": "code",
   "execution_count": 24,
   "metadata": {},
   "outputs": [],
   "source": [
    "review_score_columns = [\n",
    "    \"review_scores_value\",\n",
    "    \"review_scores_cleanliness\",\n",
    "    \"review_scores_location\",\n",
    "    \"review_scores_checkin\",\n",
    "    \"review_scores_communication\",\n",
    "    \"review_scores_accuracy\",\n",
    "    \"review_scores_rating\",\n",
    "]"
   ]
  },
  {
   "cell_type": "code",
   "execution_count": 25,
   "metadata": {},
   "outputs": [
    {
     "data": {
      "text/plain": [
       "review_scores_value            float64\n",
       "review_scores_cleanliness      float64\n",
       "review_scores_location         float64\n",
       "review_scores_checkin          float64\n",
       "review_scores_communication    float64\n",
       "review_scores_accuracy         float64\n",
       "review_scores_rating           float64\n",
       "dtype: object"
      ]
     },
     "execution_count": 25,
     "metadata": {},
     "output_type": "execute_result"
    }
   ],
   "source": [
    "df_raw_columns_dropped[review_score_columns].dtypes           # any object dtypes?\n"
   ]
  },
  {
   "cell_type": "markdown",
   "metadata": {},
   "source": [
    "imported the function 'categorize_reviews' that takes as input the DataFrame and transforms the numeric variable \"revirew_score\" into an ordered, categorical scale.\n",
    "\n",
    "    Categories (worst ➜ best)\n",
    "    -------------------------\n",
    "    no_reviews    : NaN / missing\n",
    "    low_reviews   : score  < 4.0\n",
    "    medium_reviews: 4.0 ≤ score < 4.6\n",
    "    high_reviews  : 4.6 ≤ score ≤ 4.8\n",
    "    top_reviews   : score  > 4.8\n",
    "\n",
    "used these categories since most of the reviews are above 4.\n"
   ]
  },
  {
   "cell_type": "code",
   "execution_count": 26,
   "metadata": {},
   "outputs": [],
   "source": [
    "df_raw_columns_dropped = categorize_reviews(df_raw_columns_dropped, review_score_columns)\n"
   ]
  },
  {
   "cell_type": "code",
   "execution_count": 27,
   "metadata": {},
   "outputs": [
    {
     "data": {
      "text/plain": [
       "review_scores_value            category\n",
       "review_scores_cleanliness      category\n",
       "review_scores_location         category\n",
       "review_scores_checkin          category\n",
       "review_scores_communication    category\n",
       "review_scores_accuracy         category\n",
       "review_scores_rating           category\n",
       "dtype: object"
      ]
     },
     "execution_count": 27,
     "metadata": {},
     "output_type": "execute_result"
    }
   ],
   "source": [
    "df_raw_columns_dropped[review_score_columns].dtypes           # any object dtypes?\n"
   ]
  },
  {
   "cell_type": "code",
   "execution_count": 28,
   "metadata": {},
   "outputs": [],
   "source": [
    "# Define review score columns\n",
    "review_date_columns = [\n",
    "   \"first_review\",\n",
    "    \"last_review\",\n",
    "    \"reviews_per_month\"\n",
    "]\n"
   ]
  },
  {
   "cell_type": "markdown",
   "metadata": {},
   "source": [
    "using the function \"convert_and_calculate_days\" that converts a date column to datetime format, calculates the difference (in days)\n",
    "from a reference date column, and replaces the original column with the new \"days_since_{original_name}\" column.\n"
   ]
  },
  {
   "cell_type": "code",
   "execution_count": 29,
   "metadata": {},
   "outputs": [],
   "source": [
    "df_raw_columns_dropped = convert_and_calculate_days(df_raw_columns_dropped, 'first_review',  'last_scraped')\n",
    "df_raw_columns_dropped = convert_and_calculate_days(df_raw_columns_dropped, 'last_review', 'last_scraped') # remove semicolon to see the resulting dataset"
   ]
  },
  {
   "cell_type": "code",
   "execution_count": 30,
   "metadata": {},
   "outputs": [
    {
     "data": {
      "text/plain": [
       "count    19723.000000\n",
       "mean       217.524210\n",
       "std        465.806883\n",
       "min          0.000000\n",
       "25%         15.000000\n",
       "50%         59.000000\n",
       "75%        156.000000\n",
       "max       4391.000000\n",
       "Name: days_since_last_review, dtype: float64"
      ]
     },
     "execution_count": 30,
     "metadata": {},
     "output_type": "execute_result"
    }
   ],
   "source": [
    "df_raw_columns_dropped['days_since_last_review'].describe()"
   ]
  },
  {
   "cell_type": "code",
   "execution_count": 31,
   "metadata": {},
   "outputs": [
    {
     "data": {
      "text/plain": [
       "count    19723.000000\n",
       "mean      1000.822644\n",
       "std       1053.714301\n",
       "min          0.000000\n",
       "25%        219.000000\n",
       "50%        545.000000\n",
       "75%       1435.500000\n",
       "max       5265.000000\n",
       "Name: days_since_first_review, dtype: float64"
      ]
     },
     "execution_count": 31,
     "metadata": {},
     "output_type": "execute_result"
    }
   ],
   "source": [
    "df_raw_columns_dropped['days_since_first_review'].describe()"
   ]
  },
  {
   "cell_type": "code",
   "execution_count": 32,
   "metadata": {},
   "outputs": [
    {
     "name": "stdout",
     "output_type": "stream",
     "text": [
      "Successfully converted 'days_since_first_review' to categorical\n",
      "Records processed: 23,701 | Missing values handled: 0\n",
      "\n",
      "Category Distribution:\n",
      "------------------------------------------------------------\n",
      "no_review_yet                          3,978   16.8%\n",
      "very_new (<= 1 month)                    444    1.9%\n",
      "new (<= 6 months)                      3,729   15.7%\n",
      "established (<= 1 year)                2,812   11.9%\n",
      "mature (<= 3 years)                    7,008   29.6%\n",
      "veteran (<= 5 years)                   1,550    6.5%\n",
      "legacy (over 5 years)                  4,180   17.6%\n",
      "------------------------------------------------------------\n",
      "Total                                 23,701 100.0%\n"
     ]
    }
   ],
   "source": [
    "df_raw_columns_dropped = create_first_review_age_categories(df_raw_columns_dropped, column_name='days_since_first_review')\n"
   ]
  },
  {
   "cell_type": "code",
   "execution_count": 33,
   "metadata": {},
   "outputs": [
    {
     "name": "stdout",
     "output_type": "stream",
     "text": [
      "Successfully converted 'days_since_last_review' to categorical\n",
      "Records processed: 23,701 | Missing values now: 0\n",
      "\n",
      "Category Distribution:\n",
      "-------------------------------------------------------\n",
      "no_review                              3,978   16.8%\n",
      "very_recent (<= 1 week)                2,959   12.5%\n",
      "recent (<= 1 month)                    5,000   21.1%\n",
      "somewhat_recent (<= 3 months)          4,175   17.6%\n",
      "old (<= 6 months)                      2,934   12.4%\n",
      "very_old (<= 1 year)                   1,587    6.7%\n",
      "dormant (over a year)                  3,068   12.9%\n",
      "-------------------------------------------------------\n",
      "Total                                 23,701 100.0%\n"
     ]
    }
   ],
   "source": [
    "df_raw_columns_dropped = create_last_review_recency_categories(df_raw_columns_dropped, column_name = 'days_since_last_review')"
   ]
  },
  {
   "cell_type": "markdown",
   "metadata": {},
   "source": [
    "### 'reviews_per_month'\n",
    "Replace NaN values in 'reviews_per_month' with 0, since we know it means that no review was ever given.with 0, since we know it means that no review was ever given."
   ]
  },
  {
   "cell_type": "code",
   "execution_count": 34,
   "metadata": {},
   "outputs": [],
   "source": [
    "\n",
    "df_raw_columns_dropped['reviews_per_month'] = df_raw_columns_dropped['reviews_per_month'].fillna(0)"
   ]
  },
  {
   "cell_type": "markdown",
   "metadata": {},
   "source": [
    "## 'host_response_rate' and 'host_response_time'"
   ]
  },
  {
   "cell_type": "markdown",
   "metadata": {},
   "source": [
    "we saw that these two variables have missing values perfectly correlated. This means that if the value is missing in host_response_rate, it is probably missing in host_response_time as well. We can look at "
   ]
  },
  {
   "cell_type": "code",
   "execution_count": 35,
   "metadata": {},
   "outputs": [],
   "source": [
    "\n",
    "# Columns of interest\n",
    "host_rates = [\n",
    "    'host_response_time',\n",
    "    'host_acceptance_rate',\n",
    "    'host_response_rate'\n",
    "]\n"
   ]
  },
  {
   "cell_type": "code",
   "execution_count": 36,
   "metadata": {},
   "outputs": [
    {
     "name": "stdout",
     "output_type": "stream",
     "text": [
      "\n",
      "Column: host_response_time\n",
      "Unique Values: [nan 'within an hour' 'within a day' 'within a few hours'\n",
      " 'a few days or more']\n",
      "\n",
      "Column: host_acceptance_rate\n",
      "Unique Values: ['0%' '20%' '38%' '75%' '25%' '80%' '100%' '98%' '72%' '27%' '69%' '86%'\n",
      " '50%' nan '89%' '32%' '33%' '88%' '99%' '94%' '84%' '63%' '6%' '42%'\n",
      " '78%' '90%' '64%' '49%' '56%' '13%' '77%' '68%' '67%' '97%' '83%' '95%'\n",
      " '71%' '44%' '87%' '51%' '30%' '96%' '91%' '36%' '58%' '81%' '41%' '59%'\n",
      " '70%' '60%' '16%' '82%' '73%' '47%' '92%' '46%' '76%' '74%' '40%' '18%'\n",
      " '17%' '65%' '85%' '15%' '79%' '93%' '57%' '43%' '22%' '29%' '14%' '35%'\n",
      " '45%' '37%' '8%' '21%' '53%' '9%' '48%' '10%' '24%' '4%' '31%' '54%' '3%'\n",
      " '66%' '55%' '62%' '12%' '11%' '61%' '7%' '23%' '19%' '26%' '5%' '39%'\n",
      " '34%' '28%' '2%' '52%']\n",
      "\n",
      "Column: host_response_rate\n",
      "Unique Values: [nan '100%' '50%' '67%' '90%' '75%' '10%' '93%' '30%' '0%' '70%' '89%'\n",
      " '55%' '88%' '20%' '60%' '71%' '14%' '25%' '80%' '96%' '63%' '91%' '94%'\n",
      " '99%' '92%' '33%' '98%' '57%' '40%' '11%' '83%' '86%' '16%' '95%' '13%'\n",
      " '61%' '87%' '38%' '56%' '19%' '97%' '78%' '22%' '85%' '79%' '32%' '36%'\n",
      " '82%' '58%' '43%' '64%' '65%' '29%' '44%' '21%' '72%' '17%' '8%' '84%'\n",
      " '5%' '77%' '73%' '68%' '42%' '6%' '74%' '47%' '18%' '53%' '4%' '7%' '69%'\n",
      " '9%' '46%']\n"
     ]
    }
   ],
   "source": [
    "\n",
    "# 2. Peek at unique values (to see if they have strings like '%')\n",
    "for col in host_rates:\n",
    "    print(f\"\\nColumn: {col}\")\n",
    "    print(\"Unique Values:\", df_raw_columns_dropped[col].unique())"
   ]
  },
  {
   "cell_type": "code",
   "execution_count": 37,
   "metadata": {},
   "outputs": [
    {
     "data": {
      "image/png": "[encoded data removed]",
      "text/plain": [
       "<Figure size 800x600 with 1 Axes>"
      ]
     },
     "metadata": {},
     "output_type": "display_data"
    },
    {
     "name": "stdout",
     "output_type": "stream",
     "text": [
      "\n",
      "==================================================\n",
      "HOST RESPONSE TIME DISTRIBUTION\n",
      "==================================================\n",
      "within an hour        :   15,488 (  65.3%)\n",
      "within a few hours    :    2,213 (   9.3%)\n",
      "within a day          :    1,417 (   6.0%)\n",
      "a few days or more    :      731 (   3.1%)\n",
      "Missing               :    3,852 (  16.3%)\n",
      "--------------------------------------------------\n",
      "TOTAL                 :   23,701 (100.0%)\n",
      "==================================================\n"
     ]
    }
   ],
   "source": [
    "\n",
    "# Example usage:\n",
    "plot_categorical_distribution(df_raw_columns_dropped, 'host_response_time', category_order=[\n",
    "    'within an hour',\n",
    "    'within a few hours',\n",
    "    'within a day',\n",
    "    'a few days or more',\n",
    "    'Missing'\n",
    "])\n",
    "\n",
    "# plot_categorical_distribution(df, 'room_type', title='Room Type Distribution')\n",
    "# plot_categorical_distribution(df, 'neighbourhood', category_order=['Downtown', 'Suburbs', 'Other'])"
   ]
  },
  {
   "cell_type": "code",
   "execution_count": 38,
   "metadata": {},
   "outputs": [
    {
     "data": {
      "image/png": "[encoded data removed]",
      "text/plain": [
       "<Figure size 900x500 with 1 Axes>"
      ]
     },
     "metadata": {},
     "output_type": "display_data"
    },
    {
     "name": "stdout",
     "output_type": "stream",
     "text": [
      "\n",
      "==================================================\n",
      "HOST ACCEPTANCE RATE DISTRIBUTION\n",
      "==================================================\n",
      "0-25%          :    1,857 (   7.8%)\n",
      "25-50%         :    1,030 (   4.3%)\n",
      "50-75%         :    1,417 (   6.0%)\n",
      "75-90%         :    1,911 (   8.1%)\n",
      "90-100%        :   15,575 (  65.7%)\n",
      "Missing        :    1,911 (   8.1%)\n",
      "--------------------------------------------------\n",
      "TOTAL          :   23,701 (100.0%)\n",
      "==================================================\n"
     ]
    }
   ],
   "source": [
    "plot_percentage_distribution(df_raw_columns_dropped, 'host_acceptance_rate', bins = [0, 25, 50, 75, 90, 100],figsize=(9, 5))"
   ]
  },
  {
   "cell_type": "code",
   "execution_count": 39,
   "metadata": {},
   "outputs": [
    {
     "data": {
      "image/png": "[encoded data removed]",
      "text/plain": [
       "<Figure size 900x500 with 1 Axes>"
      ]
     },
     "metadata": {},
     "output_type": "display_data"
    },
    {
     "name": "stdout",
     "output_type": "stream",
     "text": [
      "\n",
      "==================================================\n",
      "HOST RESPONSE RATE DISTRIBUTION\n",
      "==================================================\n",
      "0-25%          :      588 (   2.5%)\n",
      "25-50%         :      341 (   1.4%)\n",
      "50-75%         :      511 (   2.2%)\n",
      "75-90%         :      904 (   3.8%)\n",
      "90-100%        :   17,505 (  73.9%)\n",
      "Missing        :    3,852 (  16.3%)\n",
      "--------------------------------------------------\n",
      "TOTAL          :   23,701 (100.0%)\n",
      "==================================================\n"
     ]
    }
   ],
   "source": [
    "plot_percentage_distribution(df_raw_columns_dropped, 'host_response_rate', bins = [0, 25, 50, 75, 90, 100], figsize=(9, 5))"
   ]
  },
  {
   "cell_type": "code",
   "execution_count": 40,
   "metadata": {},
   "outputs": [
    {
     "name": "stdout",
     "output_type": "stream",
     "text": [
      "                      host_response_time  host_response_rate  \\\n",
      "host_response_time              1.000000            1.000000   \n",
      "host_response_rate              1.000000            1.000000   \n",
      "host_acceptance_rate            0.568074            0.568074   \n",
      "\n",
      "                      host_acceptance_rate  \n",
      "host_response_time                0.568074  \n",
      "host_response_rate                0.568074  \n",
      "host_acceptance_rate              1.000000  \n"
     ]
    }
   ],
   "source": [
    "# Correlation matrix of missing values (to prove the 1.0 correlation)\n",
    "missing_correlation = df_raw_columns_dropped[['host_response_time', 'host_response_rate', 'host_acceptance_rate']].isnull().corr()\n",
    "\n",
    "print( missing_correlation)"
   ]
  },
  {
   "cell_type": "code",
   "execution_count": 41,
   "metadata": {},
   "outputs": [
    {
     "name": "stdout",
     "output_type": "stream",
     "text": [
      "Host Acceptance Rate Statistics:\n",
      "count    21790.000000\n",
      "mean         0.848665\n",
      "std          0.285724\n",
      "min          0.000000\n",
      "25%          0.860000\n",
      "50%          0.990000\n",
      "75%          1.000000\n",
      "max          1.000000\n",
      "Name: host_acceptance_rate, dtype: float64\n",
      "\n",
      "Host Response Rate Statistics:\n",
      "count    19849.000000\n",
      "mean         0.942075\n",
      "std          0.180693\n",
      "min          0.000000\n",
      "25%          0.990000\n",
      "50%          1.000000\n",
      "75%          1.000000\n",
      "max          1.000000\n",
      "Name: host_response_rate, dtype: float64\n"
     ]
    }
   ],
   "source": [
    "# Convert percentage strings to numeric for analysis\n",
    "def convert_percentage(series):\n",
    "    return series.str.rstrip('%').astype(float) / 100\n",
    "\n",
    "# Basic statistics for acceptance and response rates\n",
    "acceptance_numeric = convert_percentage(df_raw_columns_dropped['host_acceptance_rate'].dropna())\n",
    "response_numeric = convert_percentage(df_raw_columns_dropped['host_response_rate'].dropna())\n",
    "\n",
    "print(\"Host Acceptance Rate Statistics:\")\n",
    "print(acceptance_numeric.describe())\n",
    "print(\"\\nHost Response Rate Statistics:\")\n",
    "print(response_numeric.describe())\n",
    "\n",
    "# Count of zero values in response rate\n",
    "zero_response_count = (df_raw_columns_dropped['host_response_rate'] == '0%').sum()"
   ]
  },
  {
   "cell_type": "markdown",
   "metadata": {},
   "source": [
    "please format this for markdown without changing words \"Here's a professional rewrite of your analysis:\n",
    "\n",
    "---\n",
    "\n",
    "## Analysis of Host Response Metrics\n",
    "\n",
    "### Missing Data Patterns\n",
    "Approximately 16% of entries for both `host_response_time` and `host_response_rate` contain missing values, while `host_acceptance_rate` exhibits a lower missing rate of around 8%. The perfect correlation (1.0) in missingness between `host_response_time` and `host_response_rate` indicates these metrics are recorded simultaneously or not at all, suggesting these hosts may not have received guest inquiries.\n",
    "\n",
    "### Distribution Characteristics\n",
    "For `host_acceptance_rate` and `host_response_rate`, the median values approach 1.0 after converting from percentage strings to numeric format, indicating exceptionally high responsiveness and acceptance rates when data is available. Specifically:\n",
    "\n",
    "- The 25th percentile (Q1) of `host_response_rate` is 0.99, meaning 75% of hosts maintain response rates of 99% or higher\n",
    "- The median is 1.00, indicating more than half of all hosts achieve near-perfect response rates\n",
    "- This distribution clustering suggests most active hosts demonstrate high responsiveness, with only a small fraction exhibiting notably lower rates\n",
    "\n",
    "### Feature Engineering Implications\n",
    "Given the limited variability in these metrics, their utility as continuous variables for predictive modeling may be constrained. The high concentration of values near 1.0 could introduce noise rather than meaningful signal. Therefore, I will:\n",
    "\n",
    "1. **Temporary exclusion** of these variables from initial modeling phases\n",
    "2. **Categorical transformation** if later inclusion is desired (e.g., \"Unknown\", \"Below Average\", \"High Performance\")\n",
    "3. **Further distributional analysis** to identify optimal binning thresholds before implementation\n",
    "\n",
    "### Host Activity Segmentation Hypothesis\n",
    "The systematic absence of response metrics likely indicates hosts who have not engaged in booking transactions. This pattern supports segmentation into distinct host categories:\n",
    "\n",
    "- **Active Hosts**: Complete response metrics with established booking history\n",
    "- **Emerging Hosts**: Some booking activity but incomplete metric development  \n",
    "- **Inactive/New Hosts**: No response metrics, potentially indicating zero inquiries or recent market entry\n",
    "\n",
    "\n"
   ]
  },
  {
   "cell_type": "code",
   "execution_count": 42,
   "metadata": {},
   "outputs": [],
   "source": [
    "df_raw_columns_dropped.drop(columns = host_rates, inplace = True)"
   ]
  },
  {
   "cell_type": "markdown",
   "metadata": {},
   "source": [
    "# Features with Low Missing Values (<15%)"
   ]
  },
  {
   "cell_type": "code",
   "execution_count": 43,
   "metadata": {},
   "outputs": [
    {
     "data": {
      "text/html": [
       "<div>\n",
       "<style scoped>\n",
       "    .dataframe tbody tr th:only-of-type {\n",
       "        vertical-align: middle;\n",
       "    }\n",
       "\n",
       "    .dataframe tbody tr th {\n",
       "        vertical-align: top;\n",
       "    }\n",
       "\n",
       "    .dataframe thead th {\n",
       "        text-align: right;\n",
       "    }\n",
       "</style>\n",
       "<table border=\"1\" class=\"dataframe\">\n",
       "  <thead>\n",
       "    <tr style=\"text-align: right;\">\n",
       "      <th></th>\n",
       "      <th>Missing Values</th>\n",
       "      <th>Percentage</th>\n",
       "    </tr>\n",
       "  </thead>\n",
       "  <tbody>\n",
       "    <tr>\n",
       "      <th>beds</th>\n",
       "      <td>1730</td>\n",
       "      <td>7.299270</td>\n",
       "    </tr>\n",
       "    <tr>\n",
       "      <th>bathrooms</th>\n",
       "      <td>1684</td>\n",
       "      <td>7.105185</td>\n",
       "    </tr>\n",
       "    <tr>\n",
       "      <th>price</th>\n",
       "      <td>1677</td>\n",
       "      <td>7.075651</td>\n",
       "    </tr>\n",
       "    <tr>\n",
       "      <th>host_is_superhost</th>\n",
       "      <td>831</td>\n",
       "      <td>3.506181</td>\n",
       "    </tr>\n",
       "    <tr>\n",
       "      <th>bedrooms</th>\n",
       "      <td>324</td>\n",
       "      <td>1.367031</td>\n",
       "    </tr>\n",
       "  </tbody>\n",
       "</table>\n",
       "</div>"
      ],
      "text/plain": [
       "                   Missing Values  Percentage\n",
       "beds                         1730    7.299270\n",
       "bathrooms                    1684    7.105185\n",
       "price                        1677    7.075651\n",
       "host_is_superhost             831    3.506181\n",
       "bedrooms                      324    1.367031"
      ]
     },
     "execution_count": 43,
     "metadata": {},
     "output_type": "execute_result"
    }
   ],
   "source": [
    "missing_values = df_raw_columns_dropped.isnull().sum().sort_values(ascending=False)  \n",
    "missing_percentage = (missing_values / len(df_raw_columns_dropped)) * 100 \n",
    "missing_df = pd.DataFrame({\"Missing Values\": missing_values, \"Percentage\": missing_percentage})\n",
    "missing_df[missing_df[\"Missing Values\"] > 0]"
   ]
  },
  {
   "cell_type": "markdown",
   "metadata": {},
   "source": [
    "I re use the function plot_percentage_distribution saved in _04_represent_numerical_data.py"
   ]
  },
  {
   "cell_type": "code",
   "execution_count": 44,
   "metadata": {},
   "outputs": [
    {
     "data": {
      "image/png": "[encoded data removed]",
      "text/plain": [
       "<Figure size 1000x600 with 2 Axes>"
      ]
     },
     "metadata": {},
     "output_type": "display_data"
    }
   ],
   "source": [
    "subset_cols = [\"beds\", \"bathrooms\", \"price\", \"host_is_superhost\", \"bedrooms\"]\n",
    "\n",
    "corr = plot_missing_corr_heatmap(\n",
    "    df_raw_columns_dropped,\n",
    "    subset_cols,\n",
    "    indicator_col=\"number_of_reviews\",\n",
    "    figsize=(10, 6),\n",
    "    title=\"Missing-data correlations for listing attributes\"\n",
    ")\n",
    "\n"
   ]
  },
  {
   "cell_type": "markdown",
   "metadata": {},
   "source": [
    "From the heatmap, we notice that `price` is often missing when both `bedrooms` and `bathrooms` are also missing. It may be interesting to further investigate when exactly `price` is missing. For example, whether this happens more frequently for certain types of listings (e.g., entire apartments or private rooms).  \n",
    "\n",
    "However, since our goal is to **predict the price**, I believe it does not make sense to impute `price`, `bedrooms`, or `bathrooms`, which also appear to be highly correlated.  \n",
    "\n",
    "Given the importance of `price` as our target variable, we will simply **remove the rows where `price` is missing**.\n"
   ]
  },
  {
   "cell_type": "code",
   "execution_count": 45,
   "metadata": {},
   "outputs": [],
   "source": [
    "df_raw_columns_dropped = df_raw_columns_dropped[df_raw_columns_dropped[\"price\"].notna()]\n",
    "df_raw_columns_dropped = df_raw_columns_dropped[df_raw_columns_dropped[\"beds\"].notna()]"
   ]
  },
  {
   "cell_type": "code",
   "execution_count": 46,
   "metadata": {},
   "outputs": [
    {
     "data": {
      "text/html": [
       "<div>\n",
       "<style scoped>\n",
       "    .dataframe tbody tr th:only-of-type {\n",
       "        vertical-align: middle;\n",
       "    }\n",
       "\n",
       "    .dataframe tbody tr th {\n",
       "        vertical-align: top;\n",
       "    }\n",
       "\n",
       "    .dataframe thead th {\n",
       "        text-align: right;\n",
       "    }\n",
       "</style>\n",
       "<table border=\"1\" class=\"dataframe\">\n",
       "  <thead>\n",
       "    <tr style=\"text-align: right;\">\n",
       "      <th></th>\n",
       "      <th>Missing Values</th>\n",
       "      <th>Percentage</th>\n",
       "    </tr>\n",
       "  </thead>\n",
       "  <tbody>\n",
       "    <tr>\n",
       "      <th>host_is_superhost</th>\n",
       "      <td>764</td>\n",
       "      <td>3.477311</td>\n",
       "    </tr>\n",
       "    <tr>\n",
       "      <th>bedrooms</th>\n",
       "      <td>26</td>\n",
       "      <td>0.118338</td>\n",
       "    </tr>\n",
       "    <tr>\n",
       "      <th>bathrooms</th>\n",
       "      <td>7</td>\n",
       "      <td>0.031860</td>\n",
       "    </tr>\n",
       "  </tbody>\n",
       "</table>\n",
       "</div>"
      ],
      "text/plain": [
       "                   Missing Values  Percentage\n",
       "host_is_superhost             764    3.477311\n",
       "bedrooms                       26    0.118338\n",
       "bathrooms                       7    0.031860"
      ]
     },
     "execution_count": 46,
     "metadata": {},
     "output_type": "execute_result"
    }
   ],
   "source": [
    "missing_values = df_raw_columns_dropped.isnull().sum().sort_values(ascending=False)  \n",
    "missing_percentage = (missing_values / len(df_raw_columns_dropped)) * 100 \n",
    "missing_df = pd.DataFrame({\"Missing Values\": missing_values, \"Percentage\": missing_percentage})\n",
    "missing_df[missing_df[\"Missing Values\"] > 0]"
   ]
  },
  {
   "cell_type": "code",
   "execution_count": 47,
   "metadata": {},
   "outputs": [
    {
     "data": {
      "image/png": "[encoded data removed]",
      "text/plain": [
       "<Figure size 800x600 with 1 Axes>"
      ]
     },
     "metadata": {},
     "output_type": "display_data"
    },
    {
     "name": "stdout",
     "output_type": "stream",
     "text": [
      "\n",
      "==================================================\n",
      "HOST IS SUPERHOST DISTRIBUTION\n",
      "==================================================\n",
      "f                     :   14,942 (  68.0%)\n",
      "t                     :    6,265 (  28.5%)\n",
      "Missing               :      764 (   3.5%)\n",
      "--------------------------------------------------\n",
      "TOTAL                 :   21,971 (100.0%)\n",
      "==================================================\n"
     ]
    }
   ],
   "source": [
    "plot_categorical_distribution(df_raw_columns_dropped, 'host_is_superhost')"
   ]
  },
  {
   "cell_type": "markdown",
   "metadata": {},
   "source": [
    "## Host is superhost"
   ]
  },
  {
   "cell_type": "code",
   "execution_count": 48,
   "metadata": {},
   "outputs": [],
   "source": [
    "# Impute missing values in 'host_is_superhost' with the most frequent value\n",
    "most_frequent_value = df_raw_columns_dropped['host_is_superhost'].mode()[0]\n",
    "df_raw_columns_dropped['host_is_superhost'] = df_raw_columns_dropped['host_is_superhost'].fillna(most_frequent_value)"
   ]
  },
  {
   "cell_type": "code",
   "execution_count": 49,
   "metadata": {},
   "outputs": [
    {
     "data": {
      "text/html": [
       "<div>\n",
       "<style scoped>\n",
       "    .dataframe tbody tr th:only-of-type {\n",
       "        vertical-align: middle;\n",
       "    }\n",
       "\n",
       "    .dataframe tbody tr th {\n",
       "        vertical-align: top;\n",
       "    }\n",
       "\n",
       "    .dataframe thead th {\n",
       "        text-align: right;\n",
       "    }\n",
       "</style>\n",
       "<table border=\"1\" class=\"dataframe\">\n",
       "  <thead>\n",
       "    <tr style=\"text-align: right;\">\n",
       "      <th></th>\n",
       "      <th>beds</th>\n",
       "      <th>bedrooms</th>\n",
       "      <th>bathrooms</th>\n",
       "    </tr>\n",
       "    <tr>\n",
       "      <th>property_type</th>\n",
       "      <th></th>\n",
       "      <th></th>\n",
       "      <th></th>\n",
       "    </tr>\n",
       "  </thead>\n",
       "  <tbody>\n",
       "    <tr>\n",
       "      <th>Entire rental unit</th>\n",
       "      <td>0 (nan%)</td>\n",
       "      <td>9 (34.6%)</td>\n",
       "      <td>1 (14.3%)</td>\n",
       "    </tr>\n",
       "    <tr>\n",
       "      <th>Private room in rental unit</th>\n",
       "      <td>0 (nan%)</td>\n",
       "      <td>1 (3.8%)</td>\n",
       "      <td>2 (28.6%)</td>\n",
       "    </tr>\n",
       "    <tr>\n",
       "      <th>Room in hotel</th>\n",
       "      <td>0 (nan%)</td>\n",
       "      <td>1 (3.8%)</td>\n",
       "      <td>4 (57.1%)</td>\n",
       "    </tr>\n",
       "    <tr>\n",
       "      <th>Shared room in bed and breakfast</th>\n",
       "      <td>0 (nan%)</td>\n",
       "      <td>3 (11.5%)</td>\n",
       "      <td>0 (0.0%)</td>\n",
       "    </tr>\n",
       "    <tr>\n",
       "      <th>Shared room in rental unit</th>\n",
       "      <td>0 (nan%)</td>\n",
       "      <td>12 (46.2%)</td>\n",
       "      <td>0 (0.0%)</td>\n",
       "    </tr>\n",
       "  </tbody>\n",
       "</table>\n",
       "</div>"
      ],
      "text/plain": [
       "                                      beds    bedrooms  bathrooms\n",
       "property_type                                                    \n",
       "Entire rental unit                0 (nan%)   9 (34.6%)  1 (14.3%)\n",
       "Private room in rental unit       0 (nan%)    1 (3.8%)  2 (28.6%)\n",
       "Room in hotel                     0 (nan%)    1 (3.8%)  4 (57.1%)\n",
       "Shared room in bed and breakfast  0 (nan%)   3 (11.5%)   0 (0.0%)\n",
       "Shared room in rental unit        0 (nan%)  12 (46.2%)   0 (0.0%)"
      ]
     },
     "metadata": {},
     "output_type": "display_data"
    }
   ],
   "source": [
    "import pandas as pd\n",
    "\n",
    "cols_num = ['beds', 'bedrooms', 'bathrooms']\n",
    "\n",
    "# Build a table: index = property_type, columns = numeric field, values = # missing\n",
    "summary = (\n",
    "    pd.concat(\n",
    "        {\n",
    "            col: df_raw_columns_dropped.loc[df_raw_columns_dropped[col].isna(), 'property_type']\n",
    "                  .value_counts()\n",
    "            for col in cols_num\n",
    "        },\n",
    "        axis=1\n",
    "    )\n",
    "    .fillna(0)\n",
    "    .astype(int)\n",
    "    .sort_index()\n",
    ")\n",
    "\n",
    "# Add row-wise percentages for readability\n",
    "percent = summary.div(summary.sum(), axis=1).mul(100).round(1)\n",
    "summary_with_pct = summary.astype(str) + \" (\" + percent.astype(str) + \"%)\"\n",
    "\n",
    "display(summary_with_pct)          # Jupyter-friendly"
   ]
  },
  {
   "cell_type": "markdown",
   "metadata": {},
   "source": [
    "## Beds"
   ]
  },
  {
   "cell_type": "code",
   "execution_count": 50,
   "metadata": {},
   "outputs": [
    {
     "name": "stdout",
     "output_type": "stream",
     "text": [
      "Pearson correlation between accommodates and beds: 0.69\n"
     ]
    }
   ],
   "source": [
    "correlation = df_raw_columns_dropped[['accommodates', 'beds']].corr().loc['accommodates', 'beds']\n",
    "print(f\"Pearson correlation between accommodates and beds: {correlation:.2f}\")"
   ]
  },
  {
   "cell_type": "code",
   "execution_count": 51,
   "metadata": {},
   "outputs": [
    {
     "data": {
      "text/plain": [
       "count    21971.000000\n",
       "mean         3.243366\n",
       "std          1.508250\n",
       "min          1.000000\n",
       "25%          2.000000\n",
       "50%          3.000000\n",
       "75%          4.000000\n",
       "max         16.000000\n",
       "Name: accommodates, dtype: float64"
      ]
     },
     "execution_count": 51,
     "metadata": {},
     "output_type": "execute_result"
    }
   ],
   "source": [
    "df_raw_columns_dropped['accommodates'].describe()"
   ]
  },
  {
   "cell_type": "code",
   "execution_count": 52,
   "metadata": {},
   "outputs": [
    {
     "data": {
      "image/png": "[encoded data removed]",
      "text/plain": [
       "<Figure size 500x500 with 1 Axes>"
      ]
     },
     "metadata": {},
     "output_type": "display_data"
    }
   ],
   "source": [
    "import seaborn as sns\n",
    "import matplotlib.pyplot as plt\n",
    "\n",
    "sns.lmplot(data=df_raw_columns_dropped, x='beds', y='accommodates', \n",
    "           scatter_kws={'alpha': 0.4}, line_kws={'color': 'red'})\n",
    "plt.title(\"Accommodates vs Beds\")\n",
    "plt.show()"
   ]
  },
  {
   "cell_type": "markdown",
   "metadata": {},
   "source": [
    "I will assume that it is realistic that the number of beds will be the same of the number of accomodates (person that can be hosted in the house)"
   ]
  },
  {
   "cell_type": "code",
   "execution_count": 53,
   "metadata": {},
   "outputs": [],
   "source": [
    "# Fill missing beds with accommodates (assumes 1 person per bed)\n",
    "df_raw_columns_dropped['beds'] = df_raw_columns_dropped['beds'].fillna(\n",
    "    df_raw_columns_dropped['accommodates'].round()\n",
    ")"
   ]
  },
  {
   "cell_type": "markdown",
   "metadata": {},
   "source": [
    "## Bedrooms and Bathrooms"
   ]
  },
  {
   "cell_type": "code",
   "execution_count": 54,
   "metadata": {},
   "outputs": [
    {
     "data": {
      "text/html": [
       "<div>\n",
       "<style scoped>\n",
       "    .dataframe tbody tr th:only-of-type {\n",
       "        vertical-align: middle;\n",
       "    }\n",
       "\n",
       "    .dataframe tbody tr th {\n",
       "        vertical-align: top;\n",
       "    }\n",
       "\n",
       "    .dataframe thead th {\n",
       "        text-align: right;\n",
       "    }\n",
       "</style>\n",
       "<table border=\"1\" class=\"dataframe\">\n",
       "  <thead>\n",
       "    <tr style=\"text-align: right;\">\n",
       "      <th></th>\n",
       "      <th>Missing Values</th>\n",
       "      <th>Percentage</th>\n",
       "    </tr>\n",
       "  </thead>\n",
       "  <tbody>\n",
       "    <tr>\n",
       "      <th>bedrooms</th>\n",
       "      <td>26</td>\n",
       "      <td>0.118338</td>\n",
       "    </tr>\n",
       "    <tr>\n",
       "      <th>bathrooms</th>\n",
       "      <td>7</td>\n",
       "      <td>0.031860</td>\n",
       "    </tr>\n",
       "  </tbody>\n",
       "</table>\n",
       "</div>"
      ],
      "text/plain": [
       "           Missing Values  Percentage\n",
       "bedrooms               26    0.118338\n",
       "bathrooms               7    0.031860"
      ]
     },
     "execution_count": 54,
     "metadata": {},
     "output_type": "execute_result"
    }
   ],
   "source": [
    "missing_values = df_raw_columns_dropped.isnull().sum().sort_values(ascending=False)  \n",
    "missing_percentage = (missing_values / len(df_raw_columns_dropped)) * 100 \n",
    "missing_df = pd.DataFrame({\"Missing Values\": missing_values, \"Percentage\": missing_percentage})\n",
    "missing_df[missing_df[\"Missing Values\"] > 0]"
   ]
  },
  {
   "cell_type": "code",
   "execution_count": 55,
   "metadata": {},
   "outputs": [],
   "source": [
    "# Define mappings\n",
    "bedroom_map = {\n",
    "    'Shared room in rental unit': 0,\n",
    "    'Shared room in hostel': 0,\n",
    "    'Shared room in bed and breakfast': 0,\n",
    "    'Private room in rental unit': 1,\n",
    "    'Room in hotel': 1\n",
    "}\n",
    "\n",
    "bathroom_map = {\n",
    "    'Room in hotel': 1,\n",
    "    'Private room in rental unit': 1\n",
    "}\n",
    "\n",
    "# Apply conditional imputation\n",
    "for col, mapping in [('bedrooms', bedroom_map), ('bathrooms', bathroom_map)]:\n",
    "    mask = df_raw_columns_dropped[col].isna()\n",
    "    df_raw_columns_dropped.loc[mask, col] = (\n",
    "        df_raw_columns_dropped.loc[mask, 'property_type'].map(mapping)\n",
    "    )"
   ]
  },
  {
   "cell_type": "code",
   "execution_count": 56,
   "metadata": {},
   "outputs": [
    {
     "data": {
      "text/plain": [
       "bedrooms     9\n",
       "bathrooms    1\n",
       "dtype: int64"
      ]
     },
     "execution_count": 56,
     "metadata": {},
     "output_type": "execute_result"
    }
   ],
   "source": [
    "df_raw_columns_dropped[['bedrooms', 'bathrooms']].isna().sum()"
   ]
  },
  {
   "cell_type": "code",
   "execution_count": 57,
   "metadata": {},
   "outputs": [],
   "source": [
    "df_raw_columns_dropped = df_raw_columns_dropped[df_raw_columns_dropped[\"bedrooms\"].notna()]\n",
    "df_raw_columns_dropped = df_raw_columns_dropped[df_raw_columns_dropped[\"bathrooms\"].notna()]"
   ]
  },
  {
   "cell_type": "markdown",
   "metadata": {},
   "source": [
    "we correctly removed all missing values"
   ]
  },
  {
   "cell_type": "code",
   "execution_count": 58,
   "metadata": {},
   "outputs": [
    {
     "data": {
      "text/html": [
       "<div>\n",
       "<style scoped>\n",
       "    .dataframe tbody tr th:only-of-type {\n",
       "        vertical-align: middle;\n",
       "    }\n",
       "\n",
       "    .dataframe tbody tr th {\n",
       "        vertical-align: top;\n",
       "    }\n",
       "\n",
       "    .dataframe thead th {\n",
       "        text-align: right;\n",
       "    }\n",
       "</style>\n",
       "<table border=\"1\" class=\"dataframe\">\n",
       "  <thead>\n",
       "    <tr style=\"text-align: right;\">\n",
       "      <th></th>\n",
       "      <th>Missing Values</th>\n",
       "      <th>Percentage</th>\n",
       "    </tr>\n",
       "  </thead>\n",
       "  <tbody>\n",
       "  </tbody>\n",
       "</table>\n",
       "</div>"
      ],
      "text/plain": [
       "Empty DataFrame\n",
       "Columns: [Missing Values, Percentage]\n",
       "Index: []"
      ]
     },
     "execution_count": 58,
     "metadata": {},
     "output_type": "execute_result"
    }
   ],
   "source": [
    "missing_values = df_raw_columns_dropped.isnull().sum().sort_values(ascending=False)  \n",
    "missing_percentage = (missing_values / len(df_raw_columns_dropped)) * 100 \n",
    "missing_df = pd.DataFrame({\"Missing Values\": missing_values, \"Percentage\": missing_percentage})\n",
    "missing_df[missing_df[\"Missing Values\"] > 0]"
   ]
  },
  {
   "cell_type": "markdown",
   "metadata": {},
   "source": [
    "### dropping listing_url since it is not necessary"
   ]
  },
  {
   "cell_type": "code",
   "execution_count": 59,
   "metadata": {},
   "outputs": [],
   "source": [
    "df_raw_columns_dropped = df_raw_columns_dropped.drop(columns=\"listing_url\")"
   ]
  },
  {
   "cell_type": "markdown",
   "metadata": {},
   "source": [
    "Latitude and longitude will be saved in a dataframe for later use"
   ]
  },
  {
   "cell_type": "code",
   "execution_count": 60,
   "metadata": {},
   "outputs": [],
   "source": [
    "lat_long = df_raw_columns_dropped[['latitude', 'longitude']]"
   ]
  },
  {
   "cell_type": "code",
   "execution_count": 61,
   "metadata": {},
   "outputs": [],
   "source": [
    "df_raw_columns_dropped = df_raw_columns_dropped.drop(columns=[\"latitude\", \"longitude\"])"
   ]
  },
  {
   "cell_type": "markdown",
   "metadata": {},
   "source": [
    "Checking whether boolean and categorical features contain sufficient numbers of instances in each category to make them worth including:"
   ]
  },
  {
   "cell_type": "code",
   "execution_count": 62,
   "metadata": {},
   "outputs": [
    {
     "name": "stdout",
     "output_type": "stream",
     "text": [
      "host_has_profile_pic\n",
      "t    21262\n",
      "f      699\n",
      "Name: count, dtype: int64\n",
      "host_has_profile_pic\n",
      "t    96.817085\n",
      "f     3.182915\n",
      "Name: proportion, dtype: float64\n"
     ]
    }
   ],
   "source": [
    "# Count of unique values\n",
    "print(df_raw_columns_dropped['host_has_profile_pic'].value_counts(dropna=False))\n",
    "\n",
    "# Percentage distribution\n",
    "print(df_raw_columns_dropped['host_has_profile_pic'].value_counts(normalize=True, dropna=False) * 100)\n"
   ]
  },
  {
   "cell_type": "code",
   "execution_count": 63,
   "metadata": {},
   "outputs": [],
   "source": [
    "df_raw_columns_dropped = df_raw_columns_dropped.drop(columns='host_has_profile_pic')"
   ]
  },
  {
   "cell_type": "code",
   "execution_count": 64,
   "metadata": {},
   "outputs": [],
   "source": [
    "df_raw_columns_dropped = df_raw_columns_dropped.drop(columns='host_id')"
   ]
  },
  {
   "cell_type": "markdown",
   "metadata": {},
   "source": [
    "# Feature engineering"
   ]
  },
  {
   "cell_type": "markdown",
   "metadata": {},
   "source": [
    "## Host Since into dates\n",
    "\n",
    " \n",
    "### CONVERT 'host_since' to DATETIME & CREATE 'host_since_days' \n",
    "(first and last review done in the previous notebook)\n",
    "    \n",
    "\n",
    "- **Current Data Type:** `object`\n",
    "- **Observations:** Represents the date when the host started.\n",
    "- **Actions:**\n",
    "  - Convert to a datetime format.\n",
    "  - Calculate the difference in days between `last_scraped` and `host_since` to create a new feature (e.g., `days_since_host`).\n",
    "  - remove `host_since` which is not needed anymore"
   ]
  },
  {
   "cell_type": "code",
   "execution_count": 65,
   "metadata": {},
   "outputs": [],
   "source": [
    "df_raw_columns_dropped = convert_and_calculate_days(df_raw_columns_dropped, 'host_since',  'last_scraped')"
   ]
  },
  {
   "cell_type": "markdown",
   "metadata": {},
   "source": [
    "## Transform objects into categories ordered categories:\n",
    "***`room_type`***\n",
    "\n",
    "- **Current Data Type:** `object`\n",
    "- **Observations:** Already categorized (e.g., 'Shared room' < 'Private room' < 'Hotel room' < 'Entire home/apt')\n",
    "- **Actions:**\n",
    "  - from dtype \"object\"to categorical variable. (organized)"
   ]
  },
  {
   "cell_type": "code",
   "execution_count": 66,
   "metadata": {},
   "outputs": [],
   "source": [
    "room_type_order = [\"Shared room\", \"Private room\", \"Hotel room\", \"Entire home/apt\"]\n",
    "df_raw_columns_dropped = convert_to_ordered_category(df_raw_columns_dropped, 'room_type', room_type_order)"
   ]
  },
  {
   "cell_type": "code",
   "execution_count": 67,
   "metadata": {},
   "outputs": [
    {
     "name": "stdout",
     "output_type": "stream",
     "text": [
      "category\n",
      "['Private room', 'Entire home/apt', 'Shared room', 'Hotel room']\n",
      "Categories (4, object): ['Shared room' < 'Private room' < 'Hotel room' < 'Entire home/apt']\n"
     ]
    }
   ],
   "source": [
    "print(df_raw_columns_dropped['room_type'].dtype)\n",
    "print(df_raw_columns_dropped['room_type'].unique())"
   ]
  },
  {
   "cell_type": "markdown",
   "metadata": {},
   "source": [
    "## Binary Variable Transformation: Boolean vs. Categorical\n",
    "\n",
    "Boolean (`True/False`) is the most efficient representation for binary data in **pandas**, **NumPy**, and **scikit-learn**:\n",
    "- Uses **less memory** than categorical types, making operations faster.\n",
    "- Works seamlessly with **logical operations** (`df[df['column']]` to filter `True` values).\n",
    "- Directly compatible with **machine learning models** in `scikit-learn`, which automatically interpret `bool` as `0/1` without additional encoding.\n",
    "\n",
    "Categorical (`'Yes'/'No'`) would be better for **reports, visualizations, and human-readable summaries**, mapping binary values to **'Yes'/'No'** can improve clarity. Some plotting libraries like **Matplotlib** and **Seaborn** handle categorical data better when creating labeled bar charts or grouped statistics.\n",
    "\n",
    "i guess we'll just use yes/no as titles in plots."
   ]
  },
  {
   "cell_type": "code",
   "execution_count": 68,
   "metadata": {},
   "outputs": [
    {
     "name": "stdout",
     "output_type": "stream",
     "text": [
      "<class 'pandas.core.frame.DataFrame'>\n",
      "Index: 21961 entries, 0 to 23704\n",
      "Data columns (total 2 columns):\n",
      " #   Column                         Non-Null Count  Dtype\n",
      "---  ------                         --------------  -----\n",
      " 0   host_about_present             21961 non-null  bool \n",
      " 1   neighborhood_overview_present  21961 non-null  bool \n",
      "dtypes: bool(2)\n",
      "memory usage: 214.5 KB\n"
     ]
    }
   ],
   "source": [
    "\n",
    "# List of binary columns\n",
    "binary_columns = [\n",
    "    'host_about_present', \n",
    "    'neighborhood_overview_present'\n",
    "]\n",
    "\n",
    "# Apply the function\n",
    "df_raw_columns_dropped = convert_columns_to_boolean(df_raw_columns_dropped, binary_columns)\n",
    "\n",
    "# Check transformation\n",
    "df_raw_columns_dropped[binary_columns].info()\n"
   ]
  },
  {
   "cell_type": "code",
   "execution_count": 69,
   "metadata": {},
   "outputs": [],
   "source": [
    "# List of columns to transform\n",
    "boolean_columns = ['host_is_superhost', 'host_identity_verified']\n",
    "\n",
    "# Apply transformation\n",
    "df_raw_columns_dropped= convert_columns_to_boolean(df_raw_columns_dropped, boolean_columns)\n",
    "\n"
   ]
  },
  {
   "cell_type": "markdown",
   "metadata": {},
   "source": [
    "## **host_location**\n",
    "- **Current Data Type:** `object`\n",
    "- **Observations:** Contains various host locations, with Milan being the predominant value.\n",
    "- **Actions:**\n",
    "  - Consider reclassification based on distance.\n",
    "  - Alternatively, group values into key categories (e.g., major Italian cities such as Milan, Turin, Rome, etc. vs. foreign locations grouped by country)."
   ]
  },
  {
   "cell_type": "code",
   "execution_count": 70,
   "metadata": {},
   "outputs": [
    {
     "name": "stdout",
     "output_type": "stream",
     "text": [
      "\n",
      "---UNIQUE HOST LOCATIONS SORTED BY FREQUENCY---\n",
      "host_location\n",
      "Milan, Italy             19717\n",
      "Rome, Italy                181\n",
      "Italy                      116\n",
      "Milano, Italy              101\n",
      "Lombardy, Italy             89\n",
      "                         ...  \n",
      "Akumal, Mexico               1\n",
      "Jesi, Italy                  1\n",
      "Solbiate Olona, Italy        1\n",
      "Arosio, Italy                1\n",
      "Agnadello, Italy             1\n",
      "Name: count, Length: 552, dtype: int64\n",
      "\n",
      "Total unique host locations: 552\n"
     ]
    }
   ],
   "source": [
    "# Get all unique host locations sorted by frequency\n",
    "unique_host_locations = df_raw_columns_dropped['host_location'].value_counts()\n",
    "\n",
    "# Display the full list of unique host locations\n",
    "print(\"\\n---UNIQUE HOST LOCATIONS SORTED BY FREQUENCY---\")\n",
    "print(unique_host_locations)\n",
    "print(f\"\\nTotal unique host locations: {df_raw_columns_dropped['host_location'].nunique()}\")\n",
    "\n",
    "\n"
   ]
  },
  {
   "cell_type": "markdown",
   "metadata": {},
   "source": [
    "we need to reduce the amount of unique classes"
   ]
  },
  {
   "cell_type": "code",
   "execution_count": 71,
   "metadata": {},
   "outputs": [],
   "source": [
    "df_raw_columns_dropped[\"host_location\"] = df_raw_columns_dropped[\"host_location\"].map(host_location_dict)"
   ]
  },
  {
   "cell_type": "code",
   "execution_count": 72,
   "metadata": {},
   "outputs": [
    {
     "name": "stdout",
     "output_type": "stream",
     "text": [
      "  host_location host_location\n",
      "0         Milan         Milan\n",
      "1         Milan         Milan\n",
      "2         Milan         Milan\n",
      "3         Milan         Milan\n",
      "4         Milan         Milan\n"
     ]
    }
   ],
   "source": [
    "print(df_raw_columns_dropped[['host_location', 'host_location']].head(5))\n"
   ]
  },
  {
   "cell_type": "code",
   "execution_count": 73,
   "metadata": {},
   "outputs": [
    {
     "name": "stdout",
     "output_type": "stream",
     "text": [
      "\n",
      "--- FULL LIST OF UNIQUE HOST LOCATIONS ---\n",
      "host_location\n",
      "Milan                    19818\n",
      "Lombardy                   644\n",
      "Lazio                      194\n",
      "Tuscany                    133\n",
      "Piedmont                   124\n",
      "Unknown_Italy              116\n",
      "Emilia-Romagna              79\n",
      "United States               79\n",
      "United Kingdom              76\n",
      "Campania                    65\n",
      "Switzerland                 63\n",
      "Veneto                      61\n",
      "Liguria                     54\n",
      "Apulia                      47\n",
      "Sicily                      41\n",
      "Spain                       41\n",
      "Mexico                      27\n",
      "France                      27\n",
      "Friuli-Venezia Giulia       21\n",
      "Germany                     20\n",
      "Sardinia                    19\n",
      "Calabria                    17\n",
      "Marche                      16\n",
      "United Arab Emirates        16\n",
      "Trentino-Alto Adige         11\n",
      "Netherlands                 10\n",
      "Abruzzo                     10\n",
      "Umbria                       8\n",
      "Australia                    8\n",
      "Brazil                       7\n",
      "Portugal                     7\n",
      "Denmark                      7\n",
      "Austria                      7\n",
      "Monaco                       7\n",
      "Belgium                      4\n",
      "Cyprus                       3\n",
      "Albania                      3\n",
      "Andorra                      3\n",
      "Ukraine                      3\n",
      "Egypt                        3\n",
      "Dominican Republic           3\n",
      "Luxembourg                   3\n",
      "Valle d'Aosta                3\n",
      "Montenegro                   2\n",
      "Basilicata                   2\n",
      "Indonesia                    2\n",
      "Serbia                       2\n",
      "San Marino                   2\n",
      "Colombia                     2\n",
      "Malta                        2\n",
      "Morocco                      2\n",
      "Guinea-Bissau                2\n",
      "Philippines                  2\n",
      "South Africa                 1\n",
      "Russia                       1\n",
      "Aosta Valley                 1\n",
      "Turkey                       1\n",
      "Taiwan                       1\n",
      "New Zealand                  1\n",
      "Singapore                    1\n",
      "Thailand                     1\n",
      "Argentina                    1\n",
      "Costa Rica                   1\n",
      "Hong Kong                    1\n",
      "Guadeloupe                   1\n",
      "Nepal                        1\n",
      "Sweden                       1\n",
      "Ireland                      1\n",
      "Ghana                        1\n",
      "Name: count, dtype: int64\n",
      "\n",
      "Total unique host locations: 69\n"
     ]
    }
   ],
   "source": [
    "# Get all unique host locations sorted by frequency\n",
    "unique_host_locations = df_raw_columns_dropped['host_location'].value_counts()\n",
    "\n",
    "# Display the full list of unique host locations\n",
    "print(\"\\n--- FULL LIST OF UNIQUE HOST LOCATIONS ---\")\n",
    "print(unique_host_locations)\n",
    "print(f\"\\nTotal unique host locations: {df_raw_columns_dropped['host_location'].nunique()}\")\n",
    "\n"
   ]
  },
  {
   "cell_type": "markdown",
   "metadata": {},
   "source": [
    "way too many "
   ]
  },
  {
   "cell_type": "code",
   "execution_count": 74,
   "metadata": {},
   "outputs": [],
   "source": [
    "df_raw_columns_dropped[\"host_location\"] = df_raw_columns_dropped[\"host_location\"].map(LOCATION_HIERARCHY)"
   ]
  },
  {
   "cell_type": "code",
   "execution_count": 75,
   "metadata": {},
   "outputs": [
    {
     "name": "stdout",
     "output_type": "stream",
     "text": [
      "\n",
      "--- FULL LIST OF UNIQUE HOST LOCATIONS ---\n",
      "host_location\n",
      "Milan                     19818\n",
      "Central/Southern Italy      668\n",
      "Lombardy                    644\n",
      "Northern Italy              354\n",
      "Extra-EU                    241\n",
      "Europe                      219\n",
      "Name: count, dtype: int64\n",
      "\n",
      "Total unique host locations: 6\n"
     ]
    }
   ],
   "source": [
    "# Get all unique host locations sorted by frequency\n",
    "unique_host_locations = df_raw_columns_dropped['host_location'].value_counts()\n",
    "\n",
    "# Display the full list of unique host locations\n",
    "print(\"\\n--- FULL LIST OF UNIQUE HOST LOCATIONS ---\")\n",
    "print(unique_host_locations)\n",
    "print(f\"\\nTotal unique host locations: {df_raw_columns_dropped['host_location'].nunique()}\")\n",
    "\n"
   ]
  },
  {
   "cell_type": "code",
   "execution_count": 76,
   "metadata": {},
   "outputs": [
    {
     "data": {
      "text/plain": [
       "0        Milan\n",
       "1        Milan\n",
       "2        Milan\n",
       "3        Milan\n",
       "4        Milan\n",
       "         ...  \n",
       "23698    Milan\n",
       "23699    Milan\n",
       "23700    Milan\n",
       "23703    Milan\n",
       "23704    Milan\n",
       "Name: host_location, Length: 21961, dtype: object"
      ]
     },
     "execution_count": 76,
     "metadata": {},
     "output_type": "execute_result"
    }
   ],
   "source": [
    "df_raw_columns_dropped[\"host_location\"]"
   ]
  },
  {
   "cell_type": "code",
   "execution_count": 77,
   "metadata": {},
   "outputs": [
    {
     "name": "stdout",
     "output_type": "stream",
     "text": [
      "Number of missing values in 'host_location': 17\n"
     ]
    }
   ],
   "source": [
    "# Check for missing values in the 'host_location' column\n",
    "missing_values = df_raw_columns_dropped['host_location'].isna().sum()\n",
    "print(f\"Number of missing values in 'host_location': {missing_values}\")"
   ]
  },
  {
   "cell_type": "code",
   "execution_count": 78,
   "metadata": {},
   "outputs": [],
   "source": [
    "# Calculate the mode of the column (most frequent value)\n",
    "mode_value = df_raw_columns_dropped['host_location'].mode()[0]\n",
    "\n",
    "# Fill missing values with the mode\n",
    "df_raw_columns_dropped['host_location'].fillna(mode_value, inplace=True)"
   ]
  },
  {
   "cell_type": "markdown",
   "metadata": {},
   "source": [
    "## **property_type**\n",
    "- **Current Data Type:** `object`\n",
    "- **Observations:** Contains many unique values (e.g., “Entire rental unit”, “Private room in condo”, “Boat”, etc.).\n",
    "- **Actions:**\n",
    "\n",
    "  - Some cleaning of property types is required as there are a large number of categories with only a few listings."
   ]
  },
  {
   "cell_type": "code",
   "execution_count": 79,
   "metadata": {},
   "outputs": [
    {
     "name": "stdout",
     "output_type": "stream",
     "text": [
      "\n",
      "--- PROPERTY TYPE ANALYSIS ---\n",
      "\n",
      "--- FULL LIST OF UNIQUE HOST LOCATIONS ---\n",
      "property_type\n",
      "Entire rental unit                    13143\n",
      "Entire condo                           4496\n",
      "Private room in rental unit            1499\n",
      "Private room in condo                   653\n",
      "Entire loft                             551\n",
      "Entire home                             370\n",
      "Entire serviced apartment               235\n",
      "Entire vacation home                    177\n",
      "Private room in bed and breakfast       153\n",
      "Private room in home                    116\n",
      "Shared room in rental unit               99\n",
      "Private room in loft                     50\n",
      "Room in hotel                            50\n",
      "Room in boutique hotel                   36\n",
      "Shared room in hostel                    30\n",
      "Tiny home                                23\n",
      "Private room in vacation home            21\n",
      "Private room in villa                    20\n",
      "Private room in hostel                   20\n",
      "Private room in guesthouse               19\n",
      "Entire guest suite                       18\n",
      "Entire place                             16\n",
      "Shared room in condo                     15\n",
      "Entire villa                             15\n",
      "Private room in serviced apartment       14\n",
      "Entire townhouse                         14\n",
      "Private room in guest suite              13\n",
      "Private room in townhouse                11\n",
      "Shared room in bed and breakfast          9\n",
      "Room in bed and breakfast                 9\n",
      "Private room                              8\n",
      "Private room in casa particular           8\n",
      "Room in aparthotel                        8\n",
      "Casa particular                           6\n",
      "Shared room in hotel                      6\n",
      "Camper/RV                                 4\n",
      "Shared room in home                       4\n",
      "Private room in farm stay                 3\n",
      "Shared room in loft                       3\n",
      "Private room in tiny home                 3\n",
      "Room in hostel                            2\n",
      "Private room in minsu                     1\n",
      "Shared room in guesthouse                 1\n",
      "Boat                                      1\n",
      "Entire guesthouse                         1\n",
      "Entire home/apt                           1\n",
      "Room in serviced apartment                1\n",
      "Private room in nature lodge              1\n",
      "Entire chalet                             1\n",
      "Private room in cave                      1\n",
      "Private room in camper/rv                 1\n",
      "Shipping container                        1\n",
      "Name: count, dtype: int64\n",
      "\n",
      "Total unique host locations: 52\n"
     ]
    }
   ],
   "source": [
    "#-------------------------------------------------------------\n",
    "# 2) PROPERTY_TYPE: Unique values and frequencies\n",
    "# -------------------------------------------------------------\n",
    "print(\"\\n--- PROPERTY TYPE ANALYSIS ---\")\n",
    "\n",
    "unique_property_types = df_raw_columns_dropped['property_type'].value_counts()\n",
    "# Display the full list of unique host locations\n",
    "print(\"\\n--- FULL LIST OF UNIQUE HOST LOCATIONS ---\")\n",
    "print(unique_property_types)\n",
    "print(f\"\\nTotal unique host locations: {df_raw_columns_dropped['property_type'].nunique()}\")\n",
    "\n",
    "\n"
   ]
  },
  {
   "cell_type": "code",
   "execution_count": 80,
   "metadata": {},
   "outputs": [],
   "source": [
    "df_raw_columns_dropped[\"property_type\"] = df_raw_columns_dropped[\"property_type\"].map(property_type_dict)"
   ]
  },
  {
   "cell_type": "code",
   "execution_count": 81,
   "metadata": {},
   "outputs": [
    {
     "name": "stdout",
     "output_type": "stream",
     "text": [
      "Unmapped property types: []\n"
     ]
    }
   ],
   "source": [
    "# Which property_types weren't found in the dictionary?\n",
    "unmapped = df_raw_columns_dropped[df_raw_columns_dropped[\"property_type\"].isna()][\"property_type\"].unique()\n",
    "print(\"Unmapped property types:\", unmapped)"
   ]
  },
  {
   "cell_type": "markdown",
   "metadata": {},
   "source": [
    "## **ACCOMMODATES**"
   ]
  },
  {
   "cell_type": "code",
   "execution_count": 82,
   "metadata": {},
   "outputs": [
    {
     "name": "stdout",
     "output_type": "stream",
     "text": [
      "\n",
      "--- ACCOMMODATES ANALYSIS ---\n",
      "count    21961.000000\n",
      "mean         3.243750\n",
      "std          1.508298\n",
      "min          1.000000\n",
      "25%          2.000000\n",
      "50%          3.000000\n",
      "75%          4.000000\n",
      "max         16.000000\n",
      "Name: accommodates, dtype: float64\n"
     ]
    }
   ],
   "source": [
    "# -------------------------------------------------------------\n",
    "# 3) ACCOMMODATES: Distribution analysis\n",
    "# -------------------------------------------------------------\n",
    "print(\"\\n--- ACCOMMODATES ANALYSIS ---\")\n",
    "print(df_raw_columns_dropped['accommodates'].describe())  # Summary statistics\n",
    "\n"
   ]
  },
  {
   "cell_type": "markdown",
   "metadata": {},
   "source": [
    "## **AMENITIES**"
   ]
  },
  {
   "cell_type": "markdown",
   "metadata": {},
   "source": [
    "Amenities is a list of additional features in the property, e.g. whether it has a TV or parking. Examples are below:"
   ]
  },
  {
   "cell_type": "code",
   "execution_count": 83,
   "metadata": {},
   "outputs": [
    {
     "data": {
      "text/plain": [
       "array(['[\"First aid kit\", \"Hangers\", \"Wifi\", \"Elevator\", \"Gym\", \"Host greets you\", \"Kitchen\", \"Paid parking on premises\", \"Essentials\", \"Iron\", \"Air conditioning\", \"Heating\", \"Shampoo\", \"Breakfast\", \"Washer\", \"TV\"]'],\n",
       "      dtype=object)"
      ]
     },
     "execution_count": 83,
     "metadata": {},
     "output_type": "execute_result"
    }
   ],
   "source": [
    "# Example of amenities listed\n",
    "df_raw_columns_dropped.amenities[:1].values"
   ]
  },
  {
   "cell_type": "code",
   "execution_count": 84,
   "metadata": {},
   "outputs": [],
   "source": [
    "import re\n",
    "amenities_list = list(df_raw_columns_dropped.amenities)\n",
    "amenities_list_string = \" \".join(amenities_list)\n",
    "# Remove all brackets and quotes\n",
    "amenities_list_string = re.sub(r'[{}\"]', '', amenities_list_string)\n",
    "# Split by comma and clean\n",
    "amenities_set = [x.strip() for x in amenities_list_string.split(',') if x.strip()]\n",
    "amenities_set = set(amenities_set)"
   ]
  },
  {
   "cell_type": "code",
   "execution_count": 85,
   "metadata": {},
   "outputs": [
    {
     "data": {
      "text/plain": [
       "{'Paid parking garage on premises \\\\u2013 25 spaces',\n",
       " 'Wifi \\\\u2013 43 Mbps',\n",
       " 'Dac body soap',\n",
       " '48 inch HDTV with standard cable',\n",
       " 'HDTV with Apple TV',\n",
       " 'Gaggenau oven',\n",
       " 'Candy  induction stove',\n",
       " '40 inch HDTV with Apple TV',\n",
       " 'Golf course view',\n",
       " 'Fast wifi \\\\u2013 245 Mbps',\n",
       " 'Fast wifi \\\\u2013 531 Mbps',\n",
       " 'TV] [Essentials',\n",
       " 'Hotpoint induction stove',\n",
       " 'Different body soap',\n",
       " 'treadmill',\n",
       " 'Elica Nikola Tesla cappa integrata induction stove',\n",
       " 'Privato shampoo',\n",
       " 'Clamp on table seat high chair',\n",
       " 'Sharp refrigerator',\n",
       " '36 inch HDTV',\n",
       " 'Acqua di Parma shampoo',\n",
       " 'Fast wifi \\\\u2013 56 Mbps',\n",
       " 'Ortega conditioner',\n",
       " 'PARCO1923 body soap',\n",
       " 'Fast wifi \\\\u2013 414 Mbps',\n",
       " 'Prodotto alberghiero induction stove',\n",
       " 'Yves Roche body soap',\n",
       " '2 BOOST stainless steel induction stove',\n",
       " 'PERLIER body soap',\n",
       " 'Fast wifi \\\\u2013 86 Mbps',\n",
       " 'EV charger',\n",
       " 'Wifi \\\\u2013 35 Mbps',\n",
       " 'Skate ramp',\n",
       " '42 inch HDTV with Chromecast',\n",
       " 'Fast wifi \\\\u2013 563 Mbps',\n",
       " 'General Electric Americano Due Ante refrigerator',\n",
       " 'Rex Electrolux stainless steel oven',\n",
       " 'Fast wifi \\\\u2013 825 Mbps',\n",
       " 'Maya body soap',\n",
       " 'Whirlpool  oven',\n",
       " 'Pantene  conditioner',\n",
       " 'Varie marche body soap',\n",
       " 'Elvive shampoo] [First aid kit',\n",
       " 'Soundbar yamaha collegato ad alexa Bluetooth sound system',\n",
       " 'Biticino sound system',\n",
       " 'N.a. body soap',\n",
       " 'Prodotto green natural shampoo',\n",
       " 'HERMES body soap',\n",
       " 'Liebherr refrigerator',\n",
       " 'Airone body soap',\n",
       " 'Fast wifi \\\\u2013 102 Mbps',\n",
       " 'Donna e Maschio body soap',\n",
       " 'Ariston gas stove',\n",
       " 'Dryer \\\\u2013 In building',\n",
       " 'Varie marche  shampoo',\n",
       " 'Sonos alexa Bluetooth sound system',\n",
       " 'Game console: Nintendo Switch and Nintendo Wii',\n",
       " 'Fast wifi \\\\u2013 269 Mbps',\n",
       " 'TV with Amazon Prime Video',\n",
       " 'Generic body soap',\n",
       " 'Fast wifi \\\\u2013 608 Mbps',\n",
       " 'Other gas stove',\n",
       " 'Shower Gel 35 ml',\n",
       " 'Housekeeping available from 4:30 PM to 7:00 PM',\n",
       " 'Housekeeping available 6 hours a day',\n",
       " 'Fast wifi \\\\u2013 645 Mbps',\n",
       " 'Doccia schiuma  body soap',\n",
       " 'Bagno schiuma Bio body soap',\n",
       " 'Olivecare body soap',\n",
       " 'K induction  induction stove',\n",
       " 'Forno gas stove',\n",
       " 'Provence body soap',\n",
       " 'Prinja  shampoo',\n",
       " 'Restovil shampoo',\n",
       " 'Coffee maker: espresso machine',\n",
       " 'Freezer] [Body soap',\n",
       " '35 inch HDTV with standard cable',\n",
       " 'DC shampoo',\n",
       " 'Fast wifi \\\\u2013 630 Mbps',\n",
       " 'Kit Cortesia shampoo',\n",
       " 'Fast wifi \\\\u2013 354 Mbps',\n",
       " 'Fast wifi \\\\u2013 416 Mbps',\n",
       " 'Clothing storage',\n",
       " 'Backyard',\n",
       " 'Free washer \\\\u2013 In unit] [Lock on bedroom door',\n",
       " 'Freezer] [Central air conditioning',\n",
       " 'Multimarchio body soap',\n",
       " 'Aqva body soap',\n",
       " 'Bay view',\n",
       " 'Fast wifi \\\\u2013 212 Mbps',\n",
       " '32 inch TV with Chromecast',\n",
       " 'Coffee maker: drip coffee maker',\n",
       " 'Liquid soap body soap',\n",
       " 'Elica induction stove',\n",
       " 'High chair - always at the listing',\n",
       " 'Induction stove] [First aid kit',\n",
       " 'Fast wifi \\\\u2013 97 Mbps',\n",
       " 'Fornito dalla struttura shampoo',\n",
       " 'Teodora Venezia  shampoo',\n",
       " 'Housekeeping available 3 hours a day',\n",
       " 'Ikea-Tillreda induction stove',\n",
       " 'NOTTE conditioner',\n",
       " 'John Richmond  shampoo',\n",
       " 'Dishes and silverware',\n",
       " 'Kitchenette',\n",
       " 'Ping pong table',\n",
       " 'Coffee maker] [Essentials] [Wifi',\n",
       " 'Scholtes stainless steel oven',\n",
       " 'Paid street parking off premises',\n",
       " 'Induction stove',\n",
       " 'Exercise equipment: workout bench',\n",
       " 'Housekeeping available from 3:00 PM to 6:00 PM',\n",
       " 'Xxxx body soap',\n",
       " 'Free driveway parking on premises \\\\u2013 50 spaces',\n",
       " 'Fast wifi \\\\u2013 306 Mbps',\n",
       " 'Jgb sound system',\n",
       " 'Fast wifi \\\\u2013 106 Mbps',\n",
       " 'Lockbox',\n",
       " 'Yves Rocher/Bionsen body soap',\n",
       " 'Xx conditioner',\n",
       " 'Prodotto alberghiero monodose body soap',\n",
       " 'Fast wifi \\\\u2013 292 Mbps',\n",
       " 'Bio italiano  shampoo',\n",
       " 'Freezer] [] [First aid kit',\n",
       " 'SAMSUNG double oven',\n",
       " 'Fast wifi \\\\u2013 457 Mbps',\n",
       " 'Altro stainless steel electric stove',\n",
       " 'Olive shampoo',\n",
       " 'Esserbella body soap',\n",
       " 'Aseop  body soap',\n",
       " '77 inch TV',\n",
       " 'Fast wifi \\\\u2013 492 Mbps',\n",
       " 'Barbecue utensils',\n",
       " 'Elica stainless steel gas stove',\n",
       " 'Natural bar soap  body soap',\n",
       " 'I-homefer sound system with Bluetooth and aux',\n",
       " 'Omaggio 1 modose.  body soap',\n",
       " 'Ikea oven',\n",
       " 'Fast wifi \\\\u2013 769 Mbps',\n",
       " 'Paid parking lot on premises \\\\u2013 99 spaces',\n",
       " 'Candy stainless steel induction stove',\n",
       " 'Fast wifi \\\\u2013 875 Mbps',\n",
       " 'pool toys',\n",
       " 'Eo3 induction stove',\n",
       " 'Shared gym in building',\n",
       " 'Fast wifi \\\\u2013 152 Mbps',\n",
       " 'Paid parking lot on premises \\\\u2013 18 spaces',\n",
       " 'Bosch  oven',\n",
       " '45 inch TV',\n",
       " 'Fast wifi \\\\u2013 835 Mbps',\n",
       " 'Other electric stove',\n",
       " 'Fast wifi \\\\u2013 70 Mbps',\n",
       " 'Hotpoint single oven',\n",
       " 'Garnier  conditioner',\n",
       " 'Kitchen] [Host greets you',\n",
       " 'TV] [] [Hot water',\n",
       " 'Paid valet parking on premises \\\\u2013 100 spaces',\n",
       " 'Fast wifi \\\\u2013 602 Mbps',\n",
       " 'Fast wifi \\\\u2013 788 Mbps',\n",
       " 'Wifi \\\\u2013 40 Mbps',\n",
       " 'Prodotto alberghiero conditioner',\n",
       " 'Samsung  stainless steel gas stove',\n",
       " 'Free washer \\\\u2013 In unit] [40 inch HDTV with Amazon Prime Video',\n",
       " '14 inch HDTV',\n",
       " 'Fornetto  oven',\n",
       " 'Blender',\n",
       " 'SHAMPOO DOCCIA GREEN  body soap',\n",
       " 'Malin&Goetz body soap',\n",
       " '3 days a week - available at extra cost',\n",
       " 'Bagnoschiuma e shampoo a disposizione degli ospiti  body soap',\n",
       " 'Fast wifi \\\\u2013 132 Mbps',\n",
       " '28 inch HDTV with standard cable',\n",
       " 'Fast wifi \\\\u2013 304 Mbps',\n",
       " 'Dove body soap',\n",
       " 'Ultra dolce  shampoo',\n",
       " '15 inch TV',\n",
       " '35 inch TV with standard cable',\n",
       " '70 inch HDTV] [Hot water',\n",
       " 'Whirpooll stainless steel double oven',\n",
       " 'Fast wifi \\\\u2013 76 Mbps',\n",
       " 'City skyline view] [Wifi',\n",
       " 'Fast wifi \\\\u2013 315 Mbps',\n",
       " 'Fast wifi \\\\u2013 767 Mbps',\n",
       " 'Linea Notte shampoo',\n",
       " 'VIVALDI AUTOPARLANTI DOCCIA-BAGNO E IN TUTTO IL LOFT sound system with Bluetooth and aux',\n",
       " 'Host greets you] [First aid kit',\n",
       " 'GARNIER',\n",
       " 'Monodose shampoo',\n",
       " 'Standard  shampoo',\n",
       " 'Paraben free body wash body soap',\n",
       " 'Central heating',\n",
       " 'Welcome kit per te shampoo',\n",
       " 'Fast wifi \\\\u2013 341 Mbps',\n",
       " 'Host greets you] [Wifi',\n",
       " 'Safe] [Wifi',\n",
       " 'Paid parking garage on premises \\\\u2013 20 spaces',\n",
       " 'Esselunga neutro delicato conditioner',\n",
       " 'Fast wifi \\\\u2013 279 Mbps',\n",
       " 'Elecrolux refrigerator',\n",
       " 'Crib] [Wifi',\n",
       " 'Fast wifi \\\\u2013 560 Mbps',\n",
       " 'Stainless steel electric stove',\n",
       " '32 inch TV with standard cable',\n",
       " 'Panthene body soap',\n",
       " 'Fast wifi \\\\u2013 722 Mbps',\n",
       " 'Fast wifi \\\\u2013 927 Mbps',\n",
       " 'Dave  body soap',\n",
       " 'BBQ grill] [Wifi',\n",
       " '55 inch HDTV with Roku',\n",
       " 'Panthene shampoo',\n",
       " 'Fornito dalla struttura refrigerator',\n",
       " 'YR conditioner',\n",
       " 'Vegan  conditioner',\n",
       " 'Peoplesuites conditioner',\n",
       " 'IKEA  induction stove',\n",
       " '22 inch TV',\n",
       " 'Coffee maker] [Mosquito net',\n",
       " 'Free washer \\\\u2013 In unit] [Dishes and silverware',\n",
       " 'Elettrolux refrigerator',\n",
       " 'Fast wifi \\\\u2013 482 Mbps',\n",
       " 'Fast wifi \\\\u2013 420 Mbps',\n",
       " 'TV] [26 inch HDTV with Netflix',\n",
       " 'Plastic free shampoo',\n",
       " 'Housekeeping available Monday to Saturday - available at extra cost',\n",
       " 'Fast wifi \\\\u2013 165 Mbps',\n",
       " 'Private sauna',\n",
       " 'Samsung stainless steel oven',\n",
       " 'Fast wifi \\\\u2013 394 Mbps',\n",
       " 'TV] [Long term stays allowed',\n",
       " 'Diversi marchi',\n",
       " 'Wifi',\n",
       " 'Whirpool double oven',\n",
       " 'Ever green Al fiori di Bach biologico  shampoo',\n",
       " 'Freezer] [Wifi] [Wifi',\n",
       " '34 inch HDTV with standard cable',\n",
       " 'Bower & Wilkins sound system with aux',\n",
       " 'Game console: Nintendo Wii',\n",
       " 'Safe] [Conditioner',\n",
       " '32 inch HDTV with Amazon Prime Video',\n",
       " 'Fire extinguisher] [Smoking allowed',\n",
       " 'Free washer \\\\u2013 In unit] [Refrigerator',\n",
       " 'Smeg stainless steel single oven',\n",
       " 'Aura Luxury Collection Green shampoo',\n",
       " 'Fast wifi \\\\u2013 50 Mbps] [Hot water',\n",
       " '18 inch HDTV',\n",
       " 'Free washer \\\\u2013 In unit] [43 inch HDTV with Amazon Prime Video',\n",
       " 'Freezer] [Fire pit',\n",
       " 'AEG stainless steel gas stove',\n",
       " '50 inch HDTV with Fire TV',\n",
       " 'Fire extinguisher] [Long term stays allowed',\n",
       " 'Game console: PS4',\n",
       " 'Shared indoor pool - available seasonally',\n",
       " 'Fast wifi \\\\u2013 72 Mbps',\n",
       " 'Aura luxury  shampoo',\n",
       " 'Fast wifi \\\\u2013 516 Mbps',\n",
       " 'Fast wifi \\\\u2013 88 Mbps',\n",
       " 'Acqua di parma body soap',\n",
       " 'LG stainless steel induction stove',\n",
       " 'Fast wifi \\\\u2013 867 Mbps',\n",
       " 'Housekeeping available from 3:00 PM to 5:00 PM',\n",
       " 'Hot water',\n",
       " '15 inch HDTV with standard cable',\n",
       " '48 inch HDTV',\n",
       " '55 inch HDTV with Amazon Prime Video',\n",
       " 'Children\\\\u2019s books and toys for ages 0-2 years old',\n",
       " 'perlier',\n",
       " '70 inch TV with Netflix',\n",
       " 'Freezer] [Stove',\n",
       " 'Paid dryer \\\\u2013 In building',\n",
       " 'Atlantic refrigerator',\n",
       " 'Paid crib - available upon request] [Wifi',\n",
       " 'Fast wifi \\\\u2013 52 Mbps',\n",
       " 'Elektrolux stainless steel oven',\n",
       " 'Any type  shampoo',\n",
       " 'heated',\n",
       " 'Paid parking on premises \\\\u2013 100 spaces',\n",
       " 'Free washer \\\\u2013 In unit] [Vario shampoo',\n",
       " 'Fast wifi \\\\u2013 199 Mbps',\n",
       " 'REX refrigerator',\n",
       " 'Soundbar Philips sound system with Bluetooth and aux',\n",
       " 'Kitchen] [Self check-in',\n",
       " 'Shared outdoor pool',\n",
       " 'Kit di cortesia body soap',\n",
       " 'Eco Set Flower  shampoo',\n",
       " 'Arclinea oven',\n",
       " 'N\\\\u00d8TTE body soap',\n",
       " 'Heating',\n",
       " 'TV] [Oven',\n",
       " 'Fast wifi \\\\u2013 843 Mbps',\n",
       " 'Jbl  sound system with Bluetooth and aux',\n",
       " 'Minifrigo / Little fridge refrigerator',\n",
       " 'Linea bio body soap',\n",
       " '- refrigerator',\n",
       " 'Bosch stainless steel oven',\n",
       " 'Kit cortesia body soap',\n",
       " 'Fast wifi \\\\u2013 334 Mbps',\n",
       " '40 inch HDTV with Disney+',\n",
       " 'Hobo body soap',\n",
       " 'Linea Notte body soap',\n",
       " 'Lock on bedroom door',\n",
       " 'Housekeeping available from 8:30 AM to 12:00 PM',\n",
       " 'CANDY refrigerator',\n",
       " 'Pure White body soap',\n",
       " 'Scholtes stainless steel induction stove',\n",
       " 'Fast wifi \\\\u2013 616 Mbps',\n",
       " 'CANDY stainless steel single oven',\n",
       " '23 inch TV',\n",
       " 'Acqua dell\\\\u2019Elba conditioner',\n",
       " '70 inch HDTV',\n",
       " 'Dove e Pantene body soap',\n",
       " 'Paraben free conditioner conditioner',\n",
       " 'Fast wifi \\\\u2013 494 Mbps',\n",
       " '- body soap',\n",
       " 'Fast wifi \\\\u2013 920 Mbps',\n",
       " 'Wifi \\\\u2013 31 Mbps',\n",
       " 'Bio-shampoo shampoo',\n",
       " 'Fast wifi \\\\u2013 1369 Mbps',\n",
       " 'X shampoo',\n",
       " 'TV] [Gym',\n",
       " '24 inch TV with standard cable',\n",
       " 'Bosh stainless steel oven',\n",
       " 'Smeg single oven',\n",
       " 'Fast wifi \\\\u2013 121 Mbps',\n",
       " 'Fast wifi \\\\u2013 600 Mbps',\n",
       " 'Bionsen body soap',\n",
       " 'Resort access',\n",
       " 'Shampoo] [Private backyard \\\\u2013 Fully fenced',\n",
       " 'Erbolario shampoo',\n",
       " 'Fast wifi \\\\u2013 265 Mbps',\n",
       " 'Aveda shampoo',\n",
       " 'Sapone di Marsiglia body soap',\n",
       " 'Normal hair  shampoo] [Wifi',\n",
       " 'Fast wifi \\\\u2013 732 Mbps',\n",
       " 'A richiesta conditioner',\n",
       " 'Denon sound system with aux',\n",
       " 'Prevost conditioner',\n",
       " 'Ringana body soap',\n",
       " 'Steel Cucine stainless steel double oven',\n",
       " 'Jbc Bluetooth sound system',\n",
       " 'Candy Wi-Fi stainless steel double oven',\n",
       " 'Gaggenau  double oven',\n",
       " 'Detercom shampoo',\n",
       " 'A induzione stove',\n",
       " 'Housekeeping available 4 hours a day',\n",
       " 'Ariston stainless steel oven',\n",
       " 'Omaggio 1 monodose shampoo',\n",
       " 'Fast wifi \\\\u2013 226 Mbps',\n",
       " 'Monday to Saturday - included with your stay',\n",
       " 'Fast wifi \\\\u2013 117 Mbps',\n",
       " \"L'oreal conditioner\",\n",
       " 'Fast wifi \\\\u2013 234 Mbps',\n",
       " 'Siemens oven',\n",
       " '45 inch TV with Amazon Prime Video',\n",
       " \"L'Oreal shampoo\",\n",
       " '30 inch TV with standard cable',\n",
       " '40 inch HDTV with standard cable',\n",
       " 'Washer] [Hot water',\n",
       " 'Smeg  oven',\n",
       " 'Fast wifi \\\\u2013 925 Mbps',\n",
       " '15 inch TV with standard cable',\n",
       " 'Housekeeping available 2 days a week - included with your stay',\n",
       " 'Kelvinator refrigerator',\n",
       " 'Forno stainless steel single oven',\n",
       " 'Hotpoint Ariston induction stove',\n",
       " 'Induzione induction stove',\n",
       " 'Wihrlpool refrigerator',\n",
       " 'Fast wifi \\\\u2013 278 Mbps',\n",
       " 'Pantene  shampoo',\n",
       " 'Cleaning products] [First aid kit',\n",
       " 'Free washer \\\\u2013 In unit] [Shared patio or balcony',\n",
       " '60 inch HDTV with Netflix',\n",
       " 'REX elettrico oven',\n",
       " '42 inch HDTV with standard cable',\n",
       " 'COMFEE RCD132WH1  refrigerator',\n",
       " 'Fast wifi \\\\u2013 275 Mbps',\n",
       " 'Smoking allowed',\n",
       " 'BioHappy (organic) body soap',\n",
       " 'Children\\\\u2019s books and toys for ages 5-10 years old',\n",
       " 'Panasonic Bluetooth sound system',\n",
       " '43 inch HDTV with Disney+',\n",
       " 'Induction stove] [Wifi',\n",
       " 'Fast wifi \\\\u2013 544 Mbps',\n",
       " 'Fast wifi \\\\u2013 663 Mbps',\n",
       " 'Metro Professional refrigerator',\n",
       " 'Prodotto monouso alberghiero shampoo',\n",
       " '56 inch HDTV',\n",
       " 'Fast wifi \\\\u2013 515 Mbps',\n",
       " 'Fast wifi \\\\u2013 596 Mbps',\n",
       " 'DE LONGHI stainless steel oven',\n",
       " 'Induzione Ikea induction stove',\n",
       " '45 inch HDTV',\n",
       " 'Good quality shampoo',\n",
       " 'Smeg  stainless steel gas stove',\n",
       " 'Pantene Linea Classica Pro-V All Hair Types shampoo',\n",
       " 'Fast wifi \\\\u2013 126 Mbps',\n",
       " 'Aqua body soap',\n",
       " 'Nesti Dante',\n",
       " 'Fast wifi \\\\u2013 201 Mbps',\n",
       " 'Private hot tub',\n",
       " 'Ad induzione induction stove',\n",
       " 'Shampoo] [Kitchen',\n",
       " 'Fast wifi \\\\u2013 80 Mbps',\n",
       " 'Aesop shampoo',\n",
       " 'Balsamo conditioner',\n",
       " 'Fast wifi \\\\u2013 654 Mbps',\n",
       " 'LG  sound system with Bluetooth and aux',\n",
       " 'Fast wifi \\\\u2013 198 Mbps',\n",
       " 'prodotto dalla nostra Farmacia',\n",
       " 'Fast wifi \\\\u2013 248 Mbps',\n",
       " 'IKEA stainless steel oven',\n",
       " 'INDUZIONE stainless steel stove',\n",
       " 'Fast wifi \\\\u2013 65 Mbps',\n",
       " 'Self check-in] [Pets allowed',\n",
       " 'Baby bath',\n",
       " 'Not a specific on  shampoo',\n",
       " 'Fast wifi \\\\u2013 719 Mbps',\n",
       " 'ALPES  stainless steel gas stove',\n",
       " 'ELECTROLUX stainless steel oven',\n",
       " 'Fast wifi \\\\u2013 568 Mbps',\n",
       " 'Kit di cortesia monouso body soap',\n",
       " 'Wifi \\\\u2013 20 Mbps',\n",
       " 'Headandshoulders and a mix. shampoo',\n",
       " 'Indesit  stainless steel electric stove',\n",
       " 'AEG refrigerator',\n",
       " 'Portable air conditioning] [First aid kit',\n",
       " '46 inch TV',\n",
       " 'Kitchen Aid single oven',\n",
       " 'Coffee maker] [Long term stays allowed',\n",
       " 'MAJOLICA NOIR SOAP body soap',\n",
       " 'Sonos sound system',\n",
       " 'Pam body soap',\n",
       " 'Miele stove',\n",
       " 'Housekeeping available from 12:00 PM to 2:30 PM - available at extra cost',\n",
       " 'Hotpoint Ariston',\n",
       " 'Ariete stainless steel oven',\n",
       " 'Private indoor pool - available all year',\n",
       " 'Fast wifi \\\\u2013 1527 Mbps',\n",
       " 'Johnson & Johnson body soap',\n",
       " 'Allegrini Ecolabel body soap',\n",
       " 'General Electric refrigerator',\n",
       " '1 day a week - available at extra cost',\n",
       " 'Finlux oven',\n",
       " 'Fast wifi \\\\u2013 784 Mbps',\n",
       " 'INDESIT induction stove',\n",
       " 'Shu emura conditioner',\n",
       " 'Shampoo] [Coffee maker: pour-over coffee',\n",
       " 'per diversi tipi di capelli shampoo',\n",
       " 'Freezer] [Outdoor kitchen with sink',\n",
       " '16 inch HDTV',\n",
       " 'Fastweb sound system with Bluetooth and aux',\n",
       " 'Fire extinguisher] [] [First aid kit',\n",
       " 'Smeg  gas stove',\n",
       " 'Bosh induction stove',\n",
       " 'Johnson & Johnson shampoo',\n",
       " 'Smeg stainless steel oven',\n",
       " 'free weights',\n",
       " 'Stainless steel gas stove] [First aid kit',\n",
       " 'Free residential garage on premises \\\\u2013 1 space',\n",
       " '55 inch TV with Fire TV',\n",
       " '22 inch HDTV',\n",
       " 'Fast wifi \\\\u2013 792 Mbps',\n",
       " 'Badedas o similare conditioner',\n",
       " 'Disponibile solo per alloggi corti fino a 7 giorni shampoo',\n",
       " 'Fast wifi \\\\u2013 538 Mbps',\n",
       " 'Piano',\n",
       " 'Ultra Dolce conditioner',\n",
       " 'french press',\n",
       " 'Panasonic refrigerator',\n",
       " 'HDTV with Chromecast',\n",
       " 'Central heating] [Hot water',\n",
       " 'BBQ grill: charcoal',\n",
       " 'Fast wifi \\\\u2013 434 Mbps',\n",
       " 'Sound system with aux',\n",
       " 'Fast wifi \\\\u2013 57 Mbps',\n",
       " 'and 5-10 years old',\n",
       " 'Professionale shampoo',\n",
       " 'Shampoo e balsamo insieme shampoo',\n",
       " 'Febal  refrigerator',\n",
       " 'Crib] [Books and reading material',\n",
       " 'Fast wifi \\\\u2013 557 Mbps',\n",
       " 'Free carport on premises \\\\u2013 1 space',\n",
       " 'BBQ grill: wood-burning',\n",
       " 'Kitchen] [Conditioner',\n",
       " 'Fast wifi \\\\u2013 90 Mbps',\n",
       " 'Fast wifi \\\\u2013 521 Mbps',\n",
       " 'Housekeeping available from 8:00 AM to 12:00 PM - available at extra cost',\n",
       " 'Ultradolce shampoo',\n",
       " 'Hammock',\n",
       " 'Smoke alarm] [First aid kit',\n",
       " 'GFL Skin care shampoo',\n",
       " 'Electrolux stainless steel double oven',\n",
       " 'Jbl Bluetooth sound system',\n",
       " 'Waterfront',\n",
       " 'Housekeeping available from 8:30 AM to 7:00 PM',\n",
       " 'Olive care shampoo',\n",
       " 'Baby bath - always at the listing',\n",
       " 'Smeg stainless steel electric stove',\n",
       " 'Housekeeping available 8 hours a day',\n",
       " '24 inch HDTV with standard cable',\n",
       " 'Sekom refrigerator',\n",
       " 'Scavolini  gas stove',\n",
       " 'small size conditioner',\n",
       " 'Luxury Premium Collection shampoo',\n",
       " 'Wirpool oven',\n",
       " 'Air conditioning] [Wifi',\n",
       " '42 inch HDTV',\n",
       " '62 inch HDTV with Netflix',\n",
       " 'Other stainless steel induction stove',\n",
       " 'Fast wifi \\\\u2013 658 Mbps',\n",
       " 'Palucart doccia shampoo shampoo',\n",
       " 'Vegetal Soap body soap',\n",
       " 'Fast wifi \\\\u2013 509 Mbps',\n",
       " 'SAMSUNG refrigerator',\n",
       " 'Bloomberg refrigerator',\n",
       " 'Siemens electric stove',\n",
       " 'Plastic free conditioner',\n",
       " 'Alpin Flora BIO shampoo',\n",
       " 'Made in Italy shampoo',\n",
       " 'Fast wifi \\\\u2013 77 Mbps',\n",
       " 'Housekeeping available from 10:00 AM to 6:00 PM',\n",
       " 'TV with standard cable] [Heating',\n",
       " 'Toaster',\n",
       " 'Shower gel body soap',\n",
       " 'Vegan shampoo] [Hot water',\n",
       " 'Fast wifi \\\\u2013 1038 Mbps',\n",
       " 'Cien shampoo',\n",
       " 'Prodotti di cosmetica di alta qualit\\\\u00e0 conditioner',\n",
       " 'Fire extinguisher] [Venere body soap',\n",
       " 'Siemens gas stove',\n",
       " 'Homielivings shampoo',\n",
       " 'Silver crest  single oven',\n",
       " 'Palucart Sapone monodose 12 gr body soap',\n",
       " 'SMEG stainless steel oven',\n",
       " 'Ortigia body soap',\n",
       " 'Electrolux refrigerator',\n",
       " 'Outdoor kitchen with oven',\n",
       " 'Fast wifi \\\\u2013 689 Mbps',\n",
       " 'CREATE refrigerator',\n",
       " 'Fast wifi \\\\u2013 762 Mbps',\n",
       " 'Housekeeping available from 12:00 PM to 2:00 PM',\n",
       " 'TV] [Hot tub',\n",
       " '\\\\u201cNotte\\\\u201d Eco-friendly products body soap',\n",
       " 'Freezer] [Air conditioning] [TV',\n",
       " 'SIEMENS refrigerator',\n",
       " 'Fast wifi \\\\u2013 765 Mbps',\n",
       " 'Neutro Roberts shampoo',\n",
       " 'Fast wifi \\\\u2013 372 Mbps',\n",
       " 'INDESIT stainless steel gas stove',\n",
       " 'Clothing storage: wardrobe] [Hot water',\n",
       " 'NUXE shampoo',\n",
       " 'Fast wifi \\\\u2013 432 Mbps',\n",
       " 'Suite shampoo',\n",
       " 'yoga mat',\n",
       " 'Free driveway parking on premises',\n",
       " 'Fast wifi \\\\u2013 50 Mbps',\n",
       " 'Aveno body soap',\n",
       " 'Olaprex  conditioner',\n",
       " 'Housekeeping available from 9:00 AM to 8:00 PM',\n",
       " 'Free washer \\\\u2013 In unit] [Portable heater',\n",
       " 'Flaminia stainless steel stove',\n",
       " 'Fast wifi \\\\u2013 745 Mbps',\n",
       " 'Kitchen] [Hair dryer',\n",
       " 'Game console: Nintendo Switch and PS4',\n",
       " '35 inch HDTV with Fire TV',\n",
       " 'Fast wifi \\\\u2013 313 Mbps',\n",
       " 'Candy  electric stove',\n",
       " 'Kitchen] [Elevator',\n",
       " 'Fast wifi \\\\u2013 175 Mbps',\n",
       " 'Paid parking lot on premises \\\\u2013 7 spaces',\n",
       " 'Housekeeping available from 9:00 AM to 9:00 PM',\n",
       " 'Hartman Kardon sound system with aux',\n",
       " 'Coffee maker] [] [Wifi',\n",
       " 'Portable fans',\n",
       " '30 inch TV with Netflix',\n",
       " 'Free washer \\\\u2013 In unit] [Paid parking on premises',\n",
       " '50 inch TV with standard cable',\n",
       " 'Tu&Io body soap',\n",
       " 'Paid valet parking on premises \\\\u2013 4 spaces',\n",
       " 'Fast wifi \\\\u2013 288 Mbps',\n",
       " 'Shampoo Berta. Sapone Berta. Di nostra produzione',\n",
       " 'Fast wifi \\\\u2013 144 Mbps',\n",
       " 'BEKO stainless steel single oven',\n",
       " 'Oven',\n",
       " 'Fast wifi \\\\u2013 290 Mbps',\n",
       " 'Freezer] [Coffee maker: Nespresso',\n",
       " 'and dresser',\n",
       " 'Idromassaggio shampoo',\n",
       " 'Painten conditioner',\n",
       " 'Bosh refrigerator',\n",
       " 'Smeg stainless steel induction stove',\n",
       " 'AC - split type ductless system',\n",
       " '24 inch HDTV with Netflix',\n",
       " 'Wine glasses',\n",
       " 'Kitchen] [Oven',\n",
       " 'Fast wifi \\\\u2013 105 Mbps',\n",
       " '15 inch HDTV',\n",
       " '47 inch HDTV with standard cable',\n",
       " 'Game console: Xbox 360',\n",
       " 'IKEA stainless steel electric stove',\n",
       " 'Ariston  stainless steel oven',\n",
       " 'Sapone  body soap',\n",
       " 'Fast wifi \\\\u2013 321 Mbps',\n",
       " 'Apple sound system with aux',\n",
       " 'Vario body soap] [Hot water',\n",
       " 'Coffee maker] [Central air conditioning',\n",
       " 'Fast wifi \\\\u2013 192 Mbps',\n",
       " '43 inch TV',\n",
       " 'a scelta conditioner',\n",
       " 'Hisense  refrigerator',\n",
       " 'Freezer] [Ignis A+ refrigerator',\n",
       " 'Fast wifi \\\\u2013 779 Mbps',\n",
       " 'Fast wifi \\\\u2013 463 Mbps',\n",
       " 'Sirens refrigerator',\n",
       " 'Portable air conditioning',\n",
       " 'TV with standard cable] [Pets allowed] [First aid kit',\n",
       " 'Fast wifi \\\\u2013 318 Mbps',\n",
       " 'M.Ster refrigerator',\n",
       " 'Paid parking lot on premises \\\\u2013 50 spaces',\n",
       " 'Oreal conditioner',\n",
       " 'Natura body soap',\n",
       " 'Fast wifi \\\\u2013 942 Mbps',\n",
       " 'Gg gas stove',\n",
       " 'Electrolux stainless steel stove',\n",
       " 'Wifi \\\\u2013 34 Mbps',\n",
       " 'Prodotto monouso alberghiero conditioner',\n",
       " '75 inch HDTV with Netflix',\n",
       " 'Housekeeping available 2 hours a day',\n",
       " 'Fast wifi \\\\u2013 798 Mbps',\n",
       " 'Smeg refrigerator',\n",
       " 'Whirepool refrigerator',\n",
       " 'Fast wifi \\\\u2013 542 Mbps',\n",
       " 'Housekeeping available from 2:00 PM to 6:00 PM - available at extra cost',\n",
       " '60 inch TV',\n",
       " 'Fast wifi \\\\u2013 577 Mbps',\n",
       " 'Fast wifi \\\\u2013 688 Mbps',\n",
       " '42 inch TV with premium cable',\n",
       " 'Fast wifi \\\\u2013 713 Mbps',\n",
       " 'Candy stove',\n",
       " 'Fast wifi \\\\u2013 637 Mbps',\n",
       " 'Fornito dal servizio pulizie shampoo',\n",
       " '41 inch TV with standard cable',\n",
       " 'Roku',\n",
       " 'Lidl shampoo',\n",
       " 'Fast wifi \\\\u2013 167 Mbps',\n",
       " 'Fast wifi \\\\u2013 931 Mbps',\n",
       " 'Lefay conditioner',\n",
       " 'Fast wifi \\\\u2013 104 Mbps',\n",
       " 'Frigorifero da sottopiano Hisense  refrigerator',\n",
       " 'Lavanda Alibi house  conditioner',\n",
       " 'Nj hotels body soap',\n",
       " 'Antica Erboristeria - Neutro Roberts- Weleda',\n",
       " 'Bosch stainless steel gas stove',\n",
       " 'Fast wifi \\\\u2013 781 Mbps',\n",
       " 'Coffee maker] [Kitchen',\n",
       " 'Housekeeping available from 3:00 PM to 7:00 PM - available at extra cost',\n",
       " '35 inch HDTV with Amazon Prime Video',\n",
       " 'Valquer Profesional Balsamo rivitalizzante vegano per capelli con cheratina naturale.  conditioner',\n",
       " 'Duetto single oven',\n",
       " 'Bio body soap',\n",
       " '43 inch HDTV with Chromecast',\n",
       " 'Whirlpool gas stove',\n",
       " 'Kitchen] [Air conditioning',\n",
       " \"L'Or\\\\u00e9al  shampoo\",\n",
       " 'Fast wifi \\\\u2013 759 Mbps',\n",
       " '55 inch TV with standard cable',\n",
       " 'FRANKE stainless steel gas stove',\n",
       " '33 inch HDTV',\n",
       " 'Freezer] [Paid parking garage off premises',\n",
       " 'Fast wifi \\\\u2013 289 Mbps',\n",
       " 'Fast wifi \\\\u2013 586 Mbps',\n",
       " 'Magnolia shampoo',\n",
       " 'Shampoo] [] [Hot water',\n",
       " 'Ceiling fan',\n",
       " '25 inch TV',\n",
       " 'Prodotto Alberghiero  body soap',\n",
       " 'Fast wifi \\\\u2013 410 Mbps',\n",
       " 'Piccolo frigo con freezer refrigerator',\n",
       " 'Bosch  induction stove',\n",
       " 'Indesit stainless steel gas stove',\n",
       " 'Inox refrigerator',\n",
       " 'Franke stainless steel oven',\n",
       " 'not storage. refrigerator',\n",
       " 'Argan Source BIO shampoo',\n",
       " 'Equilibra shampoo',\n",
       " 'Rex  refrigerator',\n",
       " 'Sanio sound system with aux',\n",
       " 'Aeg stainless steel oven',\n",
       " 'Housekeeping available Saturday to Sunday - available at extra cost',\n",
       " 'Lagan refrigerator',\n",
       " 'Fast wifi \\\\u2013 565 Mbps',\n",
       " '24 inch TV with Amazon Prime Video',\n",
       " 'Fast wifi \\\\u2013 255 Mbps',\n",
       " 'Tuesday - included with your stay',\n",
       " 'Fire extinguisher] [HDTV',\n",
       " 'Fast wifi \\\\u2013 271 Mbps',\n",
       " 'Fast wifi \\\\u2013 485 Mbps',\n",
       " '60 inch HDTV with premium cable',\n",
       " 'Electrolux stainless steel induction stove',\n",
       " 'Badedas body soap',\n",
       " 'JVC sound system with aux',\n",
       " 'Whirlpool induction stove',\n",
       " 'TV] [TV',\n",
       " 'Electrolux induction stove',\n",
       " 'Fast wifi \\\\u2013 467 Mbps',\n",
       " 'Fire extinguisher] [Books and reading material',\n",
       " 'Fast wifi \\\\u2013 912 Mbps',\n",
       " 'Freezer] [Carbon monoxide alarm',\n",
       " 'Fast wifi \\\\u2013 614 Mbps',\n",
       " 'Neff stainless steel single oven',\n",
       " 'Samsung side by side refrigerator',\n",
       " 'Johnson Baby shampoo',\n",
       " 'Fast wifi \\\\u2013 314 Mbps',\n",
       " 'Fast wifi \\\\u2013 173 Mbps',\n",
       " 'Netflix] [Hot water',\n",
       " 'Samsumg refrigerator',\n",
       " 'Generico shampoo',\n",
       " '46 inch HDTV with premium cable',\n",
       " 'Wifi \\\\u2013 16 Mbps',\n",
       " 'Lefay body soap',\n",
       " 'Officinale shampoo',\n",
       " 'Magnolia conditioner',\n",
       " 'Fast wifi \\\\u2013 353 Mbps',\n",
       " 'Hi Sense induction stove',\n",
       " 'Clear  shampoo',\n",
       " 'Fast wifi \\\\u2013 737 Mbps',\n",
       " 'Beauty Oil shampoo',\n",
       " 'Fast wifi \\\\u2013 85 Mbps',\n",
       " '52 inch TV',\n",
       " 'Vittore de Conti conditioner',\n",
       " 'Bosch  stainless steel single oven',\n",
       " 'Housekeeping available from 9:00 AM to 1:00 PM',\n",
       " 'Rex Electrolux refrigerator',\n",
       " 'Fast wifi \\\\u2013 145 Mbps',\n",
       " 'Fast wifi \\\\u2013 74 Mbps] [First aid kit',\n",
       " 'Candy  stainless steel oven',\n",
       " 'Nivea body soap',\n",
       " 'TV with standard cable] [Dedicated workspace',\n",
       " '60 inch HDTV',\n",
       " 'Fast wifi \\\\u2013 573 Mbps',\n",
       " 'Fire extinguisher] [Lock on bedroom door',\n",
       " 'Paid valet parking on premises \\\\u2013 1 space',\n",
       " 'Made in Italy body soap',\n",
       " 'Standrd body soap',\n",
       " 'Vittore De Conti conditioner',\n",
       " 'Miele stainless steel gas stove',\n",
       " 'Shampoo] [Host greets you',\n",
       " 'Fast wifi \\\\u2013 380 Mbps',\n",
       " 'Milmil shampoo',\n",
       " 'Bowling alley',\n",
       " 'Housekeeping available 3 days a week',\n",
       " 'Microonde con funzione grill/forno stainless steel single oven',\n",
       " 'Free carport on premises \\\\u2013 20 spaces',\n",
       " 'Free driveway parking on premises \\\\u2013 2 spaces',\n",
       " 'Kitchen] [Books and reading material',\n",
       " 'Fast wifi \\\\u2013 715 Mbps',\n",
       " 'Rex gas stove',\n",
       " 'Fast wifi \\\\u2013 576 Mbps',\n",
       " 'Super  shampoo',\n",
       " 'Professionale body soap',\n",
       " 'Candy 104lt. refrigerator',\n",
       " 'Fornetto microonde  oven',\n",
       " '12 inch HDTV',\n",
       " 'Samsung refrigerator',\n",
       " 'Faith in Nature shampoo',\n",
       " 'Fast wifi \\\\u2013 169 Mbps',\n",
       " 'ELETTROLUX refrigerator',\n",
       " 'XX  shampoo',\n",
       " 'Fast wifi \\\\u2013 183 Mbps',\n",
       " 'Fast wifi \\\\u2013 299 Mbps',\n",
       " 'Fast wifi \\\\u2013 112 Mbps',\n",
       " 'Electrolux double oven',\n",
       " 'LG Bluetooth sound system',\n",
       " '14 inch HDTV with Amazon Prime Video',\n",
       " 'ad induzione stove',\n",
       " 'Monday',\n",
       " 'Idea Toscana conditioner',\n",
       " 'Shampoo 35 ml',\n",
       " 'workout bench',\n",
       " 'Free parking on premises \\\\u2013 1 space',\n",
       " 'Naim. Oppo. Klipsch. Bose. sound system with Bluetooth and aux',\n",
       " 'ONE FOR YOU body soap',\n",
       " 'OMBIA GEL DOCCIA body soap',\n",
       " 'Freezer] [] [Wifi',\n",
       " '27 inch TV',\n",
       " 'Game console: PS2',\n",
       " '23 inch HDTV with Amazon Prime Video',\n",
       " 'Fast wifi \\\\u2013 371 Mbps',\n",
       " 'Fast wifi \\\\u2013 474 Mbps',\n",
       " 'Natura shampoo',\n",
       " 'Private hot tub - available seasonally',\n",
       " 'Bio Natura shampoo',\n",
       " 'Electrolux  double oven',\n",
       " 'Fire extinguisher] [Dishes and silverware',\n",
       " 'Fast wifi \\\\u2013 71 Mbps',\n",
       " 'Frigo sottopiano con vano congelatore refrigerator',\n",
       " 'Balsamo di marca generica conditioner',\n",
       " 'Fast wifi \\\\u2013 298 Mbps',\n",
       " 'Fast wifi \\\\u2013 676 Mbps',\n",
       " 'Da Vinci  conditioner',\n",
       " 'stationary bike',\n",
       " 'Fast wifi \\\\u2013 497 Mbps',\n",
       " 'Variabile body soap',\n",
       " 'Fast wifi \\\\u2013 514 Mbps',\n",
       " 'CULTI shampoo',\n",
       " 'Multimarc shampoo',\n",
       " 'small size shampoo',\n",
       " 'Paid pack \\\\u2019n play/travel crib',\n",
       " 'Frigidaire induction stove',\n",
       " 'Electrolux  stainless steel oven',\n",
       " 'Fast wifi \\\\u2013 433 Mbps',\n",
       " 'Fast wifi \\\\u2013 182 Mbps',\n",
       " 'Glem  stainless steel oven',\n",
       " 'Balea body soap',\n",
       " 'Klarstein  refrigerator',\n",
       " 'Fast wifi \\\\u2013 707 Mbps] [Wifi',\n",
       " 'Fast wifi \\\\u2013 1200 Mbps',\n",
       " 'Free washer \\\\u2013 In unit] [Coffee maker: Nespresso',\n",
       " '21 inch TV with standard cable',\n",
       " 'Apple HomePod Mini sound system',\n",
       " 'Clothing storage: wardrobe',\n",
       " 'Bluetooth sound system',\n",
       " '38 inch TV',\n",
       " 'Ethernet connection',\n",
       " 'Smag  electric stove',\n",
       " 'Loreal shampoo',\n",
       " 'Crib - available upon request] [HDTV with Amazon Prime Video',\n",
       " 'Free washer \\\\u2013 In unit] [Indoor fireplace',\n",
       " 'Johnson & Johnson conditioner',\n",
       " 'Self check-in',\n",
       " 'Varie refrigerator',\n",
       " 'Outdoor furniture',\n",
       " 'Kitchen] [Free dryer \\\\u2013 In unit',\n",
       " 'Smart lock',\n",
       " 'Indesit  oven',\n",
       " '40 inch TV with premium cable',\n",
       " 'Fast wifi \\\\u2013 882 Mbps',\n",
       " 'Ariston double oven',\n",
       " 'TV] [Coffee maker: pour-over coffee',\n",
       " 'TV with Fire TV',\n",
       " 'Fast wifi \\\\u2013 440 Mbps',\n",
       " '24 inch HDTV',\n",
       " '39 inch HDTV with Netflix',\n",
       " '50 inch TV] [First aid kit',\n",
       " 'Cany induction stove',\n",
       " 'Housekeeping available from 9:00 AM to 2:00 PM',\n",
       " 'Mini fridge',\n",
       " 'Fast wifi \\\\u2013 665 Mbps',\n",
       " 'BB body soap',\n",
       " 'Balea conditioner',\n",
       " 'Rakall refrigerator',\n",
       " '32 inch HDTV with Roku',\n",
       " 'EV charger - level 2',\n",
       " 'and Xbox 360',\n",
       " 'Free washer \\\\u2013 In unit] [SMEG oven',\n",
       " 'Housekeeping available from 7:30 AM to 4:00 PM',\n",
       " 'Erbolario body soap',\n",
       " 'Fee  conditioner] [Wifi',\n",
       " 'Fast wifi \\\\u2013 680 Mbps',\n",
       " 'Fast wifi \\\\u2013 902 Mbps',\n",
       " 'Hotpoint  oven',\n",
       " 'EZVALO Bluetooth sound system',\n",
       " 'Amazon Alexa Bluetooth sound system',\n",
       " '4 single oven',\n",
       " 'Hoover oven',\n",
       " 'Climbing wall',\n",
       " 'Soap body soap',\n",
       " 'Prija made in Italy  shampoo',\n",
       " 'Cooking basics',\n",
       " 'Glem Gas single oven',\n",
       " 'Free body soap',\n",
       " 'Sonos  Bluetooth sound system',\n",
       " 'Fast wifi \\\\u2013 585 Mbps',\n",
       " 'Rice maker',\n",
       " 'Movie theater',\n",
       " 'Severin refrigerator',\n",
       " 'Bio conditioner',\n",
       " 'Housekeeping available 2 days a week - available at extra cost',\n",
       " 'Board games',\n",
       " '30 inch TV with premium cable',\n",
       " 'Paraben free shampoo shampoo',\n",
       " 'TESLA ELICA stainless steel gas stove',\n",
       " 'Neff refrigerator',\n",
       " '70 inch HDTV with standard cable',\n",
       " 'Bosch refrigerator',\n",
       " 'Organic products  shampoo',\n",
       " 'Linea Cortesia Whity conditioner',\n",
       " 'Fast wifi \\\\u2013 768 Mbps',\n",
       " 'Fast wifi \\\\u2013 213 Mbps',\n",
       " 'Fast wifi \\\\u2013 240 Mbps',\n",
       " 'Phitorelax  body soap',\n",
       " 'Fast wifi \\\\u2013 841 Mbps',\n",
       " 'Fast wifi \\\\u2013 347 Mbps',\n",
       " 'Free residential garage on premises \\\\u2013 5 spaces',\n",
       " 'DeLonghi  stainless steel gas stove',\n",
       " 'Smog refrigerator',\n",
       " 'Fast wifi \\\\u2013 598 Mbps',\n",
       " '77 inch HDTV with Netflix',\n",
       " 'Fire extinguisher] [Elevator',\n",
       " 'YR body soap',\n",
       " 'Housekeeping available from 10:00 AM to 6:30 PM',\n",
       " 'espresso machine',\n",
       " 'Freezer] [Oven',\n",
       " 'Glem stainless steel gas stove',\n",
       " 'TV] [Central air conditioning',\n",
       " 'Generico refrigerator',\n",
       " 'Samsung - forno a microonde con cottura a vapore e grill stainless steel oven',\n",
       " 'Crib - available upon request',\n",
       " 'Fast wifi \\\\u2013 456 Mbps',\n",
       " '100 inch HDTV with standard cable',\n",
       " 'Akai refrigerator',\n",
       " 'Restovil  body soap',\n",
       " 'Fast wifi \\\\u2013 178 Mbps',\n",
       " 'Fast wifi \\\\u2013 683 Mbps',\n",
       " 'Forno combinato SAMSUNG single oven',\n",
       " \"Splend'Or shampoo\",\n",
       " 'Miele stainless steel electric stove',\n",
       " 'REX stainless steel single oven',\n",
       " 'Fast wifi \\\\u2013 532 Mbps',\n",
       " 'Whirpool oven',\n",
       " 'NEFF refrigerator',\n",
       " 'Wifi \\\\u2013 38 Mbps',\n",
       " '55 inch TV',\n",
       " 'Fast wifi \\\\u2013 317 Mbps',\n",
       " 'Locale body soap',\n",
       " 'Wega gas stove',\n",
       " 'Tu&Io shampoo',\n",
       " 'SHOWER GEL GREEN OIL body soap',\n",
       " 'Room-darkening shades',\n",
       " 'Rex induction stove',\n",
       " 'Paid high chair - available upon request',\n",
       " 'Free washer \\\\u2013 In unit] [Central air conditioning',\n",
       " 'Fire extinguisher] [Heating',\n",
       " '40 inch TV with Amazon Prime Video',\n",
       " 'Lock on bedroom door] [Dedicated workspace',\n",
       " \"L'occitane conditioner\",\n",
       " 'purtroppo il fuoco centrare bloccato! gas stove',\n",
       " 'TOSHIBA refrigerator',\n",
       " 'olympic-sized',\n",
       " '59 inch TV with Chromecast',\n",
       " 'Ombia Nature shampoo',\n",
       " 'Shampoo] [] [First aid kit',\n",
       " 'Organic conditioner',\n",
       " 'Fast wifi \\\\u2013 327 Mbps',\n",
       " 'Yves Rocher',\n",
       " 'Essenzai conditioner',\n",
       " 'Provini Erbolario body soap',\n",
       " 'Fast wifi \\\\u2013 224 Mbps',\n",
       " 'Wifi \\\\u2013 27 Mbps',\n",
       " 'Nardi stainless steel single oven',\n",
       " 'Fast wifi \\\\u2013 508 Mbps',\n",
       " 'Freezer] [Backyard',\n",
       " 'HDTV with Amazon Prime Video',\n",
       " 'Heating - split type ductless system',\n",
       " '50 inch HDTV with DVD player',\n",
       " 'Bustine singole disponibili  body soap',\n",
       " 'Pool',\n",
       " 'Arkilia shampoo',\n",
       " 'BOSCH refrigerator',\n",
       " 'BBQ grill: electric',\n",
       " 'Garnier conditioner',\n",
       " 'Fast wifi \\\\u2013 53 Mbps',\n",
       " 'Candy stainless steel single oven',\n",
       " 'Dm conditioner] [Hot water',\n",
       " 'IKEA stainless steel gas stove',\n",
       " 'Aobosi  induction stove',\n",
       " 'Elettrolux stainless steel oven',\n",
       " 'Fast wifi \\\\u2013 567 Mbps] [First aid kit',\n",
       " 'Acqua di Parma  conditioner',\n",
       " 'Fast wifi \\\\u2013 333 Mbps',\n",
       " 'Various body soap',\n",
       " 'Fresh e Clean body soap',\n",
       " 'Fast wifi \\\\u2013 661 Mbps',\n",
       " 'Trash compactor',\n",
       " '38 inch TV with Chromecast',\n",
       " 'Fast wifi \\\\u2013 472 Mbps',\n",
       " '65 inch HDTV with Netflix',\n",
       " '55 inch TV with Amazon Prime Video',\n",
       " 'Candy gas stove',\n",
       " 'Neutro Roberts o similari body soap',\n",
       " 'A GAS stainless steel stove',\n",
       " 'Free washer \\\\u2013 In unit] [] [First aid kit',\n",
       " 'Beko stainless steel single oven',\n",
       " 'Dedicated workspace] [Mosquito net',\n",
       " 'Private BBQ grill: charcoal',\n",
       " 'Fast wifi \\\\u2013 401 Mbps',\n",
       " 'Coffee maker: french press',\n",
       " 'Philips sound system',\n",
       " 'Private indoor pool - available seasonally',\n",
       " 'Fast wifi \\\\u2013 310 Mbps',\n",
       " '56 inch HDTV with Amazon Prime Video',\n",
       " 'Indesit  refrigerator',\n",
       " 'area comune',\n",
       " '47 inch TV',\n",
       " 'Coffee maker] [Carbon monoxide alarm',\n",
       " 'CULTI MILANO conditioner',\n",
       " 'Housekeeping available from 9:30 AM to 12:00 PM',\n",
       " 'Electrolux  stainless steel double oven',\n",
       " 'N stainless steel oven',\n",
       " 'Vegan body soap',\n",
       " 'Housekeeping available Monday',\n",
       " ...}"
      ]
     },
     "execution_count": 85,
     "metadata": {},
     "output_type": "execute_result"
    }
   ],
   "source": [
    "amenities_set"
   ]
  },
  {
   "cell_type": "markdown",
   "metadata": {},
   "source": []
  },
  {
   "cell_type": "markdown",
   "metadata": {},
   "source": [
    "In the list above, some amenities are more important than others (e.g. fast wifi is more likely to increase price than generic body soap brands), and some are likely to be fairly uncommon (e.g. '90 inch HDTV with Apple TV'). Based on research into which amenities are considered by guests to be more important in the Milan market context, a selection of the more important amenities will be extracted. These will be further investigated in the EDA section. For example, if it turns out that almost all properties have/do not have a particular amenity, that feature will not be very useful in helping explain differences in prices.\n",
    "\n",
    "Milan's unique characteristics as Italy's economic capital, with its dense urban environment, historic architecture, severe parking constraints, and significant business traveler segment, necessitate a context-specific approach to amenity valuation. The city's tourism profile differs markedly from leisure-focused destinations, with approximately 60% of visitors arriving for business purposes, influencing amenity preferences and willingness to pay premiums.\n",
    "\n",
    "The amenities chosen are (slashes indicate separate categories that can be combined):\n",
    "\n",
    "- **Air conditioning/central air conditioning/portable air conditioning** - Critical for Milan's increasingly warm summers and expected by international business travelers\n",
    "- **Elevator** - Premium feature given Milan's prevalence of historic multi-story buildings without lifts\n",
    "- **Fast wifi (100+ Mbps)/wifi/ethernet connection** - Essential infrastructure for Milan's business-oriented guest profile\n",
    "- **Paid parking on premises/paid parking garage/free parking** - Exceptionally valuable due to Milan's ZTL restrictions and severe urban parking scarcity\n",
    "- **Coffee maker/espresso machine/Nespresso** - Cultural imperative in Italian market; significantly impacts guest satisfaction ratings\n",
    "- **Free washer in unit/paid washer** - High-utility amenity given limited laundromat availability in central Milan\n",
    "- **Self check-in/lockbox/host greets you** - Operational flexibility crucial for business travelers with varied arrival schedules\n",
    "- **HDTV with streaming/Netflix/Amazon Prime Video/Apple TV/Chromecast** - Standard entertainment infrastructure expectation\n",
    "- **Dedicated workspace** - Post-pandemic essential for hybrid work arrangements and extended business stays\n",
    "- **Private entrance** - Privacy premium in high-density urban environment\n",
    "- **Refrigerator/oven/microwave/induction stove** - Core kitchen functionality for self-catering preferences\n",
    "- **Heating/radiant heating** - Seasonal necessity for Milan's continental climate\n",
    "- **Hot water** - Basic operational requirement\n",
    "- **First aid kit/fire extinguisher** - Regulatory compliance and risk mitigation features\n",
    "- **Clothing storage/closet/wardrobe** - Functional necessity for business attire and extended stays\n",
    "- **Balcony/patio/terrace** - Space premium in constrained urban real estate market\n",
    "- **Canal view/park view/courtyard view** - Location-specific value differentiators\n",
    "- **Dishwasher** - Convenience feature for longer-duration bookings"
   ]
  },
  {
   "cell_type": "code",
   "execution_count": 86,
   "metadata": {},
   "outputs": [],
   "source": [
    "# Define amenity mappings\n",
    "amenity_mapping = {\n",
    "    'air_conditioning': 'Air conditioning|Central air conditioning|Portable air conditioning',\n",
    "    'elevator': 'Elevator',\n",
    "    'fast_wifi': 'Fast wifi|Ethernet connection',\n",
    "    'parking': 'parking',\n",
    "    'coffee_machine': 'Coffee maker|Espresso machine|Nespresso',\n",
    "    'washer': 'Free washer|Paid washer|Washer',\n",
    "    'self_check_in': 'Self check-in|Lockbox',\n",
    "    'streaming_tv': 'Netflix|Amazon Prime Video|Disney+|Apple TV|Chromecast|HDTV',\n",
    "    'dedicated_workspace': 'Dedicated workspace',\n",
    "    'private_entrance': 'Private entrance',\n",
    "    'kitchen_appliances': 'Refrigerator|oven|stove|Microwave',\n",
    "    'heating': 'Heating|Radiant heating',\n",
    "    'hot_water': 'Hot water',\n",
    "    'safety_equipment': 'First aid kit|Fire extinguisher',\n",
    "    'clothing_storage': 'Clothing storage|closet|wardrobe',\n",
    "    'balcony': 'Balcony|Patio|Terrace',\n",
    "    'premium_views': 'Canal view|Park view|Courtyard view',\n",
    "    'dishwasher': 'Dishwasher',\n",
    "    'gym': 'Private gym|Shared gym|Exercise equipment|Gym'\n",
    "}\n",
    "\n",
    "# Create all columns at once\n",
    "for amenity, pattern in amenity_mapping.items():\n",
    "    df_raw_columns_dropped[amenity] = df_raw_columns_dropped['amenities'].str.contains(pattern, na=False).astype(int)"
   ]
  },
  {
   "cell_type": "code",
   "execution_count": 87,
   "metadata": {},
   "outputs": [
    {
     "name": "stdout",
     "output_type": "stream",
     "text": [
      "New columns created:\n",
      "['air_conditioning', 'elevator', 'fast_wifi', 'parking', 'coffee_machine', 'washer', 'self_check_in', 'streaming_tv', 'dedicated_workspace', 'private_entrance', 'kitchen_appliances', 'heating', 'hot_water', 'safety_equipment', 'clothing_storage', 'balcony', 'premium_views', 'dishwasher', 'gym']\n"
     ]
    }
   ],
   "source": [
    "# See all column names to verify new amenity columns exist\n",
    "print(\"New columns created:\")\n",
    "amenity_cols = ['air_conditioning', 'elevator', 'fast_wifi', 'parking', 'coffee_machine', \n",
    "                'washer', 'self_check_in', 'streaming_tv', 'dedicated_workspace', \n",
    "                'private_entrance', 'kitchen_appliances', 'heating', 'hot_water', \n",
    "                'safety_equipment', 'clothing_storage', 'balcony', 'premium_views', \n",
    "                'dishwasher', 'gym']\n",
    "\n",
    "print(df_raw_columns_dropped[amenity_cols].columns.tolist())"
   ]
  },
  {
   "cell_type": "code",
   "execution_count": 88,
   "metadata": {},
   "outputs": [
    {
     "name": "stdout",
     "output_type": "stream",
     "text": [
      "Amenity counts:\n",
      "hot_water              18163\n",
      "washer                 17974\n",
      "kitchen_appliances     17688\n",
      "air_conditioning       14848\n",
      "coffee_machine         13845\n",
      "heating                13475\n",
      "clothing_storage       11849\n",
      "dedicated_workspace    11186\n",
      "parking                11141\n",
      "elevator               10682\n",
      "dishwasher             10145\n",
      "safety_equipment        9329\n",
      "self_check_in           8729\n",
      "private_entrance        4423\n",
      "streaming_tv            4247\n",
      "fast_wifi               3300\n",
      "premium_views           2868\n",
      "balcony                 2008\n",
      "gym                      860\n",
      "dtype: int64\n",
      "\n",
      "Amenity percentages:\n",
      "hot_water              82.71\n",
      "washer                 81.85\n",
      "kitchen_appliances     80.54\n",
      "air_conditioning       67.61\n",
      "coffee_machine         63.04\n",
      "heating                61.36\n",
      "clothing_storage       53.95\n",
      "dedicated_workspace    50.94\n",
      "parking                50.73\n",
      "elevator               48.64\n",
      "dishwasher             46.20\n",
      "safety_equipment       42.48\n",
      "self_check_in          39.75\n",
      "private_entrance       20.14\n",
      "streaming_tv           19.34\n",
      "fast_wifi              15.03\n",
      "premium_views          13.06\n",
      "balcony                 9.14\n",
      "gym                     3.92\n",
      "dtype: float64\n"
     ]
    }
   ],
   "source": [
    "# Count how many properties have each amenity\n",
    "print(\"Amenity counts:\")\n",
    "amenity_summary = df_raw_columns_dropped[amenity_cols].sum().sort_values(ascending=False)\n",
    "print(amenity_summary)\n",
    "\n",
    "# As percentages\n",
    "print(\"\\nAmenity percentages:\")\n",
    "amenity_percentages = (df_raw_columns_dropped[amenity_cols].mean() * 100).round(2).sort_values(ascending=False)\n",
    "print(amenity_percentages)"
   ]
  },
  {
   "cell_type": "markdown",
   "metadata": {},
   "source": [
    "One way to reduce the number of features (to avoid the curse of dimensionality) is to remove the amenities which add relatively little information, or are relatively unhelpful in differentiating between different listings. Amenity features where either the true or the false category contains fewer than 10% of listings will be removed."
   ]
  },
  {
   "cell_type": "code",
   "execution_count": 89,
   "metadata": {},
   "outputs": [],
   "source": [
    "# Replace missing values (NaN) with 0 for all columns listed in 'amenity_cols'.\n",
    "# This assumes the amenity columns are binary: 1 means the amenity is present, 0 means absent.\n",
    "# By filling NaNs with 0, we treat missing info as \"amenity not available\".\n",
    "df_raw_columns_dropped[amenity_cols] = df_raw_columns_dropped[amenity_cols].fillna(0)"
   ]
  },
  {
   "cell_type": "code",
   "execution_count": 90,
   "metadata": {},
   "outputs": [],
   "source": [
    "# Create a list of amenity columns that are infrequent:\n",
    "# i.e., present (sum of 1s) in less than 10% of listings.\n",
    "\n",
    "# Manually preserve high-value amenities\n",
    "manual_keep = ['balcony', 'gym']\n",
    "infrequent_amenities = [\n",
    "    col for col in amenity_cols \n",
    "    if df_raw_columns_dropped[col].sum() < len(df_raw_columns_dropped)/10 \n",
    "    and col not in manual_keep\n",
    "]\n",
    "\n",
    "\n",
    "# Drop those infrequent amenity columns from the DataFrame.\n",
    "# axis=1 specifies we are dropping columns (not rows).\n",
    "df_raw_columns_dropped = df_raw_columns_dropped.drop(infrequent_amenities, axis=1)"
   ]
  },
  {
   "cell_type": "code",
   "execution_count": 91,
   "metadata": {},
   "outputs": [],
   "source": [
    "# Update amenity_cols to only include those still in the DataFrame\n",
    "amenity_cols = [col for col in amenity_cols if col in df_raw_columns_dropped.columns]"
   ]
  },
  {
   "cell_type": "code",
   "execution_count": 92,
   "metadata": {},
   "outputs": [
    {
     "data": {
      "text/plain": [
       "hot_water              18163\n",
       "washer                 17974\n",
       "kitchen_appliances     17688\n",
       "air_conditioning       14848\n",
       "coffee_machine         13845\n",
       "heating                13475\n",
       "clothing_storage       11849\n",
       "dedicated_workspace    11186\n",
       "parking                11141\n",
       "elevator               10682\n",
       "dishwasher             10145\n",
       "safety_equipment        9329\n",
       "self_check_in           8729\n",
       "private_entrance        4423\n",
       "streaming_tv            4247\n",
       "fast_wifi               3300\n",
       "premium_views           2868\n",
       "balcony                 2008\n",
       "gym                      860\n",
       "dtype: int64"
      ]
     },
     "execution_count": 92,
     "metadata": {},
     "output_type": "execute_result"
    }
   ],
   "source": [
    "df_raw_columns_dropped[amenity_cols].sum().sort_values(ascending=False)\n"
   ]
  },
  {
   "cell_type": "code",
   "execution_count": 93,
   "metadata": {},
   "outputs": [
    {
     "data": {
      "text/plain": [
       "<Axes: title={'center': 'Amenity Coverage Across Listings (%)'}>"
      ]
     },
     "execution_count": 93,
     "metadata": {},
     "output_type": "execute_result"
    },
    {
     "data": {
      "image/png": "[encoded data removed]",
      "text/plain": [
       "<Figure size 800x600 with 1 Axes>"
      ]
     },
     "metadata": {},
     "output_type": "display_data"
    }
   ],
   "source": [
    "(df_raw_columns_dropped[amenity_cols].mean() * 100).sort_values().plot(\n",
    "    kind='barh', figsize=(8, 6), title='Amenity Coverage Across Listings (%)'\n",
    ")"
   ]
  },
  {
   "cell_type": "code",
   "execution_count": 94,
   "metadata": {},
   "outputs": [],
   "source": [
    "df_raw_columns_dropped = df_raw_columns_dropped.drop(columns=['amenities'])"
   ]
  },
  {
   "cell_type": "markdown",
   "metadata": {},
   "source": [
    "### PRICE"
   ]
  },
  {
   "cell_type": "code",
   "execution_count": 95,
   "metadata": {},
   "outputs": [
    {
     "data": {
      "text/plain": [
       "0    $100.00\n",
       "1    $180.00\n",
       "2     $80.00\n",
       "3    $110.00\n",
       "4    $180.00\n",
       "Name: price, dtype: object"
      ]
     },
     "execution_count": 95,
     "metadata": {},
     "output_type": "execute_result"
    }
   ],
   "source": [
    "df_raw_columns_dropped['price'].dtype\n",
    "df_raw_columns_dropped['price'].head()"
   ]
  },
  {
   "cell_type": "markdown",
   "metadata": {},
   "source": [
    "Price will be converted to an integer - currently it is a string because there is a currency sign."
   ]
  },
  {
   "cell_type": "code",
   "execution_count": 96,
   "metadata": {},
   "outputs": [],
   "source": [
    "df_raw_columns_dropped['price'] = (\n",
    "    df_raw_columns_dropped['price']\n",
    "    .replace('[\\$,€]', '', regex=True)  # remove $ or €\n",
    "    .replace(',', '', regex=True)       # remove commas\n",
    "    .astype(float)                      # convert to float\n",
    ")"
   ]
  },
  {
   "cell_type": "markdown",
   "metadata": {},
   "source": [
    "### AVAILABILITY MEASURES"
   ]
  },
  {
   "cell_type": "markdown",
   "metadata": {},
   "source": [
    "Availability measures will be for now excluded from the price prediction model. This is because availability and price are highly correlated and likely endogenous - they occur together in determining market outcomes. Lower prices probably lead to higher demand and thus lower availability, while higher prices lead to lower demand and higher availability. Since the causal relationship between availability and price runs in both directions simultaneously, including availability creates interpretation issues and may not provide meaningful predictive insight beyond what property fundamentals already capture."
   ]
  },
  {
   "cell_type": "code",
   "execution_count": 97,
   "metadata": {},
   "outputs": [],
   "source": [
    "df_raw_columns_dropped = df_raw_columns_dropped.drop(columns = ['availability_30', 'availability_60', 'availability_90', 'availability_365'])"
   ]
  },
  {
   "cell_type": "code",
   "execution_count": 98,
   "metadata": {},
   "outputs": [],
   "source": [
    "\n",
    "# Merge the latitude and longitude coordinates back into your main dataset using the index\n",
    "df_raw_columns_dropped = df_raw_columns_dropped.merge(\n",
    "    lat_long, \n",
    "    left_index=True, \n",
    "    right_index=True, \n",
    "    how='left'\n",
    ")\n",
    "\n"
   ]
  },
  {
   "cell_type": "code",
   "execution_count": 99,
   "metadata": {},
   "outputs": [],
   "source": [
    "\n",
    "interim_path =  project_root / \"data\" / \"interim\"\n",
    "df_raw_columns_dropped.to_parquet(interim_path / 'data_preprocessed.parquet')"
   ]
  }
 ],
 "metadata": {
  "kernelspec": {
   "display_name": ".venv",
   "language": "python",
   "name": "python3"
  },
  "language_info": {
   "codemirror_mode": {
    "name": "ipython",
    "version": 3
   },
   "file_extension": ".py",
   "mimetype": "text/x-python",
   "name": "python",
   "nbconvert_exporter": "python",
   "pygments_lexer": "ipython3",
   "version": "3.10.12"
  }
 },
 "nbformat": 4,
 "nbformat_minor": 2
}
